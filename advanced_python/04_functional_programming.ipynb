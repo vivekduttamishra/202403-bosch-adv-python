{
 "cells": [
  {
   "cell_type": "markdown",
   "metadata": {},
   "source": [
    "## Functional Programming\n",
    "\n",
    "* refers to a programming paradigm where we treat a function as an object\n",
    "* we define our logic using those function objects.\n",
    "* it mostly based on two important function concepts\n",
    "    1. we can pass a function to another as an argument.\n",
    "    2. a function can return another function as an argument\n",
    "    \n",
    "#### Calculator Example\n"
   ]
  },
  {
   "cell_type": "code",
   "execution_count": 8,
   "metadata": {},
   "outputs": [],
   "source": [
    "class Calculator:\n",
    "    def present(self,value1, opr, value2):\n",
    "        if opr == 'plus':\n",
    "            result= value1 + value2\n",
    "        elif opr == 'minus':\n",
    "            result= value1 - value2\n",
    "        elif opr == 'multiply':\n",
    "            result= value1 * value2\n",
    "        elif opr == 'divide':\n",
    "            result= value1 / value2\n",
    "        else:\n",
    "            raise ValueError(f\"Invalid operator:{opr}\")\n",
    "\n",
    "        print(f'{value1} {opr} {value2} = {result}')    \n",
    "    "
   ]
  },
  {
   "cell_type": "code",
   "execution_count": 9,
   "metadata": {},
   "outputs": [
    {
     "name": "stdout",
     "output_type": "stream",
     "text": [
      "20 plus 30 = 50\n",
      "20 divide 4 = 5.0\n"
     ]
    }
   ],
   "source": [
    "calc=Calculator()\n",
    "\n",
    "calc.present(20, 'plus', 30)\n",
    "calc.present(20, 'divide', 4)\n"
   ]
  },
  {
   "cell_type": "code",
   "execution_count": 10,
   "metadata": {},
   "outputs": [
    {
     "ename": "ValueError",
     "evalue": "Invalid operator:mod",
     "output_type": "error",
     "traceback": [
      "\u001b[1;31m---------------------------------------------------------------------------\u001b[0m",
      "\u001b[1;31mValueError\u001b[0m                                Traceback (most recent call last)",
      "Cell \u001b[1;32mIn[10], line 1\u001b[0m\n\u001b[1;32m----> 1\u001b[0m \u001b[43mcalc\u001b[49m\u001b[38;5;241;43m.\u001b[39;49m\u001b[43mpresent\u001b[49m\u001b[43m(\u001b[49m\u001b[38;5;241;43m20\u001b[39;49m\u001b[43m,\u001b[49m\u001b[43m \u001b[49m\u001b[38;5;124;43m'\u001b[39;49m\u001b[38;5;124;43mmod\u001b[39;49m\u001b[38;5;124;43m'\u001b[39;49m\u001b[43m,\u001b[49m\u001b[43m \u001b[49m\u001b[38;5;241;43m7\u001b[39;49m\u001b[43m)\u001b[49m\n",
      "Cell \u001b[1;32mIn[8], line 12\u001b[0m, in \u001b[0;36mCalculator.present\u001b[1;34m(self, value1, opr, value2)\u001b[0m\n\u001b[0;32m     10\u001b[0m     result\u001b[38;5;241m=\u001b[39m value1 \u001b[38;5;241m/\u001b[39m value2\n\u001b[0;32m     11\u001b[0m \u001b[38;5;28;01melse\u001b[39;00m:\n\u001b[1;32m---> 12\u001b[0m     \u001b[38;5;28;01mraise\u001b[39;00m \u001b[38;5;167;01mValueError\u001b[39;00m(\u001b[38;5;124mf\u001b[39m\u001b[38;5;124m\"\u001b[39m\u001b[38;5;124mInvalid operator:\u001b[39m\u001b[38;5;132;01m{\u001b[39;00mopr\u001b[38;5;132;01m}\u001b[39;00m\u001b[38;5;124m\"\u001b[39m)\n\u001b[0;32m     14\u001b[0m \u001b[38;5;28mprint\u001b[39m(\u001b[38;5;124mf\u001b[39m\u001b[38;5;124m'\u001b[39m\u001b[38;5;132;01m{\u001b[39;00mvalue1\u001b[38;5;132;01m}\u001b[39;00m\u001b[38;5;124m \u001b[39m\u001b[38;5;132;01m{\u001b[39;00mopr\u001b[38;5;132;01m}\u001b[39;00m\u001b[38;5;124m \u001b[39m\u001b[38;5;132;01m{\u001b[39;00mvalue2\u001b[38;5;132;01m}\u001b[39;00m\u001b[38;5;124m = \u001b[39m\u001b[38;5;132;01m{\u001b[39;00mresult\u001b[38;5;132;01m}\u001b[39;00m\u001b[38;5;124m'\u001b[39m)\n",
      "\u001b[1;31mValueError\u001b[0m: Invalid operator:mod"
     ]
    }
   ],
   "source": [
    "calc.present(20, 'mod', 7)"
   ]
  },
  {
   "cell_type": "markdown",
   "metadata": {},
   "source": [
    "#### Problem\n",
    "\n",
    "* we have a working calculator\n",
    "* but the calculator is not extensible\n",
    "* if we need more operations tomorrow (mod,power, permutation) we will have to modify the calculator again.\n",
    "* similarly current calculator always displays the result on console\n",
    "    * if tomorrow we want to display the result at different place (web page, GUI) this calcualtor will be useless, although it will still can peform the calculation\n",
    "\n",
    "* this code has different responsibilities. mixed\n",
    "\n",
    "\n",
    "#### Solution ---> Function Object\n",
    "\n",
    "* treat each operation as function object\n",
    "* pass the function object you want to use.\n",
    "* also treat the print() function as one of the possible choices for presenting output.\n",
    "* we can replace print with any other function of our choice."
   ]
  },
  {
   "cell_type": "markdown",
   "metadata": {},
   "source": [
    "#### Phase #1 create each operation as a separate function"
   ]
  },
  {
   "cell_type": "code",
   "execution_count": 11,
   "metadata": {},
   "outputs": [],
   "source": [
    "def plus(a,b): return a+b\n",
    "def minus(a,b): return a-b\n",
    "def multiply(a,b): return a*b\n",
    "def divide(a,b): return a/b"
   ]
  },
  {
   "cell_type": "markdown",
   "metadata": {},
   "source": [
    "### Phase #2 calculator can take these (and more) functions as parameter\n",
    "\n",
    "#### Approach #1\n",
    "* user can pass the function that it wants to invoke"
   ]
  },
  {
   "cell_type": "code",
   "execution_count": 13,
   "metadata": {},
   "outputs": [],
   "source": [
    "class Calculator:\n",
    "    def present(self,value1, opr, value2):\n",
    "        result=opr(value1,value2)\n",
    "        print(f'{value1} {opr.__name__} {value2} = {result}') "
   ]
  },
  {
   "cell_type": "code",
   "execution_count": 14,
   "metadata": {},
   "outputs": [
    {
     "name": "stdout",
     "output_type": "stream",
     "text": [
      "20 plus 30 = 50\n",
      "20 divide 11 = 1.8181818181818181\n"
     ]
    }
   ],
   "source": [
    "calc=Calculator()\n",
    "calc.present(20, plus, 30)\n",
    "calc.present(20, divide, 11)\n",
    "# now you can't really pass a function, you don't have"
   ]
  },
  {
   "cell_type": "markdown",
   "metadata": {},
   "source": [
    "#### Problem: client may not be able to pass the function directly\n",
    "* can we pass a string?"
   ]
  },
  {
   "cell_type": "code",
   "execution_count": 20,
   "metadata": {},
   "outputs": [],
   "source": [
    "class Calculator:\n",
    "    def __init__(self, presenter=None):\n",
    "        self.presenter=presenter\n",
    "        if self.presenter is None:\n",
    "            self.presenter= lambda v1,opr,v2,result: print(f'{v1} {opr} {v2} => {result}')\n",
    "\n",
    "        self._operators={}\n",
    "        self._add_basic_operators()\n",
    "\n",
    "    def _add_basic_operators(self):\n",
    "        self.add_operator(plus)\n",
    "        self.add_operator(minus)\n",
    "        self.add_operator(multiply)\n",
    "        self.add_operator(divide)\n",
    "\n",
    "\n",
    "    def add_operator(self, operator, name=None):\n",
    "        if name is None:\n",
    "            name = operator.__name__\n",
    "        self._operators[name.lower()]=operator\n",
    "\n",
    "    def present(self,value1, opr, value2):\n",
    "        opr=opr.lower()\n",
    "        if opr in self._operators:\n",
    "            fn=self._operators[opr]\n",
    "            result=fn(value1,value2)\n",
    "            print(f'{value1} {opr} {value2} = {result}')\n",
    "        else:\n",
    "            raise ValueError(f'No such operator: \"{opr}\"') "
   ]
  },
  {
   "cell_type": "code",
   "execution_count": 21,
   "metadata": {},
   "outputs": [
    {
     "name": "stdout",
     "output_type": "stream",
     "text": [
      "20 plus 30 = 50\n",
      "20 divide 11 = 1.8181818181818181\n"
     ]
    }
   ],
   "source": [
    "calc=Calculator()\n",
    "\n",
    "calc.present(20, 'plus', 30)\n",
    "\n",
    "calc.present(20, 'Divide', 11)"
   ]
  },
  {
   "cell_type": "code",
   "execution_count": 22,
   "metadata": {},
   "outputs": [
    {
     "ename": "ValueError",
     "evalue": "No such operator: \"mod\"",
     "output_type": "error",
     "traceback": [
      "\u001b[1;31m---------------------------------------------------------------------------\u001b[0m",
      "\u001b[1;31mValueError\u001b[0m                                Traceback (most recent call last)",
      "Cell \u001b[1;32mIn[22], line 1\u001b[0m\n\u001b[1;32m----> 1\u001b[0m \u001b[43mcalc\u001b[49m\u001b[38;5;241;43m.\u001b[39;49m\u001b[43mpresent\u001b[49m\u001b[43m(\u001b[49m\u001b[38;5;241;43m20\u001b[39;49m\u001b[43m,\u001b[49m\u001b[43m \u001b[49m\u001b[38;5;124;43m'\u001b[39;49m\u001b[38;5;124;43mmod\u001b[39;49m\u001b[38;5;124;43m'\u001b[39;49m\u001b[43m,\u001b[49m\u001b[38;5;241;43m7\u001b[39;49m\u001b[43m)\u001b[49m\n",
      "Cell \u001b[1;32mIn[20], line 29\u001b[0m, in \u001b[0;36mCalculator.present\u001b[1;34m(self, value1, opr, value2)\u001b[0m\n\u001b[0;32m     27\u001b[0m     \u001b[38;5;28mprint\u001b[39m(\u001b[38;5;124mf\u001b[39m\u001b[38;5;124m'\u001b[39m\u001b[38;5;132;01m{\u001b[39;00mvalue1\u001b[38;5;132;01m}\u001b[39;00m\u001b[38;5;124m \u001b[39m\u001b[38;5;132;01m{\u001b[39;00mopr\u001b[38;5;132;01m}\u001b[39;00m\u001b[38;5;124m \u001b[39m\u001b[38;5;132;01m{\u001b[39;00mvalue2\u001b[38;5;132;01m}\u001b[39;00m\u001b[38;5;124m = \u001b[39m\u001b[38;5;132;01m{\u001b[39;00mresult\u001b[38;5;132;01m}\u001b[39;00m\u001b[38;5;124m'\u001b[39m)\n\u001b[0;32m     28\u001b[0m \u001b[38;5;28;01melse\u001b[39;00m:\n\u001b[1;32m---> 29\u001b[0m     \u001b[38;5;28;01mraise\u001b[39;00m \u001b[38;5;167;01mValueError\u001b[39;00m(\u001b[38;5;124mf\u001b[39m\u001b[38;5;124m'\u001b[39m\u001b[38;5;124mNo such operator: \u001b[39m\u001b[38;5;124m\"\u001b[39m\u001b[38;5;132;01m{\u001b[39;00mopr\u001b[38;5;132;01m}\u001b[39;00m\u001b[38;5;124m\"\u001b[39m\u001b[38;5;124m'\u001b[39m)\n",
      "\u001b[1;31mValueError\u001b[0m: No such operator: \"mod\""
     ]
    }
   ],
   "source": [
    "calc.present(20, 'mod',7)"
   ]
  },
  {
   "cell_type": "markdown",
   "metadata": {},
   "source": [
    "### But we can add mod logic dynamically"
   ]
  },
  {
   "cell_type": "code",
   "execution_count": 23,
   "metadata": {},
   "outputs": [],
   "source": [
    "def mod(v1,v2): return v1%v2\n",
    "\n",
    "calc.add_operator(mod)"
   ]
  },
  {
   "cell_type": "code",
   "execution_count": 24,
   "metadata": {},
   "outputs": [
    {
     "name": "stdout",
     "output_type": "stream",
     "text": [
      "20 mod 7 = 6\n"
     ]
    }
   ],
   "source": [
    "calc.present(20, 'mod', 7)"
   ]
  },
  {
   "cell_type": "markdown",
   "metadata": {},
   "source": [
    "### we can also add functionality use lambda function\n",
    "\n",
    "* but all lambdas are called lambda\n",
    "* so we will a friendly name in add_operator function as optional second argument"
   ]
  },
  {
   "cell_type": "code",
   "execution_count": 26,
   "metadata": {},
   "outputs": [],
   "source": [
    "calc.add_operator( lambda v1,v2: v1**v2, 'power')"
   ]
  },
  {
   "cell_type": "code",
   "execution_count": 27,
   "metadata": {},
   "outputs": [
    {
     "name": "stdout",
     "output_type": "stream",
     "text": [
      "20 power 3 = 8000\n"
     ]
    }
   ],
   "source": [
    "calc.present(20, 'power', 3)"
   ]
  },
  {
   "cell_type": "markdown",
   "metadata": {},
   "source": [
    "#### Assignment 2.3\n",
    "\n",
    "* write a search function that takes a sequence of values and returns\n",
    "    * all even numbers\n",
    "    * all prime numbers\n",
    "    * all numbers divisible by 7\n",
    "    * all permanent employees of an organization\n",
    "\n",
    "* search should be your function\n",
    "    * No built-in function use allowed."
   ]
  },
  {
   "cell_type": "markdown",
   "metadata": {},
   "source": [
    "### Solution #1"
   ]
  },
  {
   "cell_type": "code",
   "execution_count": 1,
   "metadata": {},
   "outputs": [],
   "source": [
    "def search( values):\n",
    "    result=[]\n",
    "    for value in values:\n",
    "        if value %2 ==0:\n",
    "            result.append(value)\n",
    "    return result"
   ]
  },
  {
   "cell_type": "code",
   "execution_count": 2,
   "metadata": {},
   "outputs": [],
   "source": [
    "values=[2,9,11,8,4,13,3,72,8,4,25,33,27]\n",
    "\n"
   ]
  },
  {
   "cell_type": "code",
   "execution_count": 3,
   "metadata": {},
   "outputs": [
    {
     "data": {
      "text/plain": [
       "[2, 8, 4, 72, 8, 4]"
      ]
     },
     "execution_count": 3,
     "metadata": {},
     "output_type": "execute_result"
    }
   ],
   "source": [
    "search(values)"
   ]
  },
  {
   "cell_type": "markdown",
   "metadata": {},
   "source": [
    "#### Best Practices\n",
    "\n",
    "*  search shouldn't return a list.\n",
    "    * it should yield.\n",
    "    * never return a large list if it can be avoided."
   ]
  },
  {
   "cell_type": "code",
   "execution_count": 4,
   "metadata": {},
   "outputs": [],
   "source": [
    "def search( values):\n",
    "    \n",
    "    for value in values:\n",
    "        if value %2 ==0:\n",
    "            yield(value)\n",
    "    "
   ]
  },
  {
   "cell_type": "code",
   "execution_count": 5,
   "metadata": {},
   "outputs": [
    {
     "name": "stdout",
     "output_type": "stream",
     "text": [
      "2 8 4 72 8 4 "
     ]
    }
   ],
   "source": [
    "for evens in search(values):\n",
    "    print(evens,  end=' ')"
   ]
  },
  {
   "cell_type": "markdown",
   "metadata": {},
   "source": [
    "### Problem --> it only searches evens.\n",
    "\n",
    "* what about other requiremens like\n",
    "    * search prime\n",
    "    * search employees\n",
    "\n",
    "\n",
    "### Approach #1"
   ]
  },
  {
   "cell_type": "code",
   "execution_count": 2,
   "metadata": {},
   "outputs": [],
   "source": [
    "def search_evens( values):\n",
    "    \n",
    "    for value in values:\n",
    "        if value %2 ==0:\n",
    "            yield(value)\n",
    "\n",
    "def is_prime(value):\n",
    "    if value<2: return False\n",
    "    for i in range(2,value):\n",
    "        if value %i ==0:\n",
    "            return False\n",
    "    return True\n",
    "\n",
    "def search_prime(values):\n",
    "    \n",
    "    for value in values:\n",
    "        if is_prime(value):\n",
    "            yield(value)"
   ]
  },
  {
   "cell_type": "code",
   "execution_count": 7,
   "metadata": {},
   "outputs": [
    {
     "name": "stdout",
     "output_type": "stream",
     "text": [
      "2 11 13 3 "
     ]
    }
   ],
   "source": [
    "for prime in search_prime(values):\n",
    "    print(prime, end=' ')"
   ]
  },
  {
   "cell_type": "code",
   "execution_count": 11,
   "metadata": {},
   "outputs": [],
   "source": [
    "import org\n",
    "\n",
    "bosch= org.get_organization('Bosch',50)\n"
   ]
  },
  {
   "cell_type": "markdown",
   "metadata": {},
   "source": [
    "### Search logic for permanent employees"
   ]
  },
  {
   "cell_type": "code",
   "execution_count": 7,
   "metadata": {},
   "outputs": [],
   "source": [
    "def search_permanent_employees(org):\n",
    "    for employee in org:\n",
    "        if employee._isPermanent:\n",
    "            yield employee"
   ]
  },
  {
   "cell_type": "code",
   "execution_count": 10,
   "metadata": {},
   "outputs": [
    {
     "name": "stdout",
     "output_type": "stream",
     "text": [
      "32\n"
     ]
    }
   ],
   "source": [
    "count=0\n",
    "for e in search_permanent_employees(bosch):\n",
    "    count+=1\n",
    "    \n",
    "print(count)"
   ]
  },
  {
   "cell_type": "markdown",
   "metadata": {},
   "source": [
    "### Problem\n",
    "\n",
    "* we are writing multiple search functions\n",
    "* They have largely common code\n",
    "* they differ just at point"
   ]
  },
  {
   "cell_type": "markdown",
   "metadata": {},
   "source": [
    "### Approach #2"
   ]
  },
  {
   "cell_type": "code",
   "execution_count": 15,
   "metadata": {},
   "outputs": [],
   "source": [
    "def search(values,criteria):\n",
    "    results=[]\n",
    "    for value in values:\n",
    "        match=False\n",
    "        if criteria=='evens':\n",
    "            match= value%2==0\n",
    "        elif criteria=='prime':\n",
    "            match= is_prime(value)\n",
    "        elif criteria=='permanent_employees':\n",
    "            match= value._isPermanent\n",
    "        \n",
    "        if match:\n",
    "            results.append(value)\n",
    "\n",
    "    return results"
   ]
  },
  {
   "cell_type": "code",
   "execution_count": 16,
   "metadata": {},
   "outputs": [],
   "source": [
    "def print_results(results):\n",
    "    for result in results:\n",
    "        print(result, end=' ')"
   ]
  },
  {
   "cell_type": "code",
   "execution_count": 18,
   "metadata": {},
   "outputs": [
    {
     "name": "stdout",
     "output_type": "stream",
     "text": [
      "2 4 18 8 "
     ]
    }
   ],
   "source": [
    "values=[2,9,11,4,15,18,7,61,8]\n",
    "print_results(search(values,'evens'))"
   ]
  },
  {
   "cell_type": "code",
   "execution_count": 19,
   "metadata": {},
   "outputs": [
    {
     "name": "stdout",
     "output_type": "stream",
     "text": [
      "2 11 7 61 "
     ]
    }
   ],
   "source": [
    "print_results(search(values,'prime'))"
   ]
  },
  {
   "cell_type": "code",
   "execution_count": 21,
   "metadata": {},
   "outputs": [
    {
     "name": "stdout",
     "output_type": "stream",
     "text": [
      "Employee3 True\n",
      "Employee5 True\n",
      "Employee6 True\n",
      "Employee9 True\n",
      "Employee10 True\n",
      "Employee12 True\n",
      "Employee13 True\n",
      "Employee15 True\n",
      "Employee16 True\n",
      "Employee17 True\n",
      "Employee18 True\n",
      "Employee20 True\n",
      "Employee22 True\n",
      "Employee24 True\n",
      "Employee25 True\n",
      "Employee28 True\n",
      "Employee29 True\n",
      "Employee30 True\n",
      "Employee32 True\n",
      "Employee33 True\n",
      "Employee34 True\n",
      "Employee35 True\n",
      "Employee36 True\n",
      "Employee37 True\n",
      "Employee38 True\n",
      "Employee39 True\n",
      "Employee40 True\n",
      "Employee41 True\n",
      "Employee42 True\n",
      "Employee43 True\n",
      "Employee44 True\n",
      "Employee46 True\n",
      "Employee48 True\n",
      "total  33\n"
     ]
    }
   ],
   "source": [
    "result= search(bosch,'permanent_employees')\n",
    "count=0\n",
    "for emp in result:\n",
    "    count+=1\n",
    "    print(emp._name, emp._isPermanent )\n",
    "\n",
    "print('total ',count)"
   ]
  },
  {
   "cell_type": "markdown",
   "metadata": {},
   "source": [
    "### problem\n",
    "\n",
    "* just like calculator we have multiple logic merged in one function\n",
    "* if tomorrow we need more criteria we will have to write logic for each of them in the search\n",
    "\n",
    "* remember each crieria in iteself is a function\n",
    "    * can be represented with a function object"
   ]
  },
  {
   "cell_type": "markdown",
   "metadata": {},
   "source": [
    "#### Passing a callback function"
   ]
  },
  {
   "cell_type": "code",
   "execution_count": 23,
   "metadata": {},
   "outputs": [],
   "source": [
    "def search(values, criteria):\n",
    "    results=[]\n",
    "    for value in values:\n",
    "        if criteria(value):\n",
    "            results.append(value)\n",
    "\n",
    "    return results"
   ]
  },
  {
   "cell_type": "code",
   "execution_count": 24,
   "metadata": {},
   "outputs": [
    {
     "name": "stdout",
     "output_type": "stream",
     "text": [
      "2 11 7 61 "
     ]
    }
   ],
   "source": [
    "primes = search(values, is_prime)\n",
    "\n",
    "for prime in primes:\n",
    "    print(prime, end=' ')"
   ]
  },
  {
   "cell_type": "markdown",
   "metadata": {},
   "source": [
    "### to perform even search we can just define is_even function"
   ]
  },
  {
   "cell_type": "code",
   "execution_count": 25,
   "metadata": {},
   "outputs": [],
   "source": [
    "def is_even(value): return value%2==0"
   ]
  },
  {
   "cell_type": "code",
   "execution_count": 26,
   "metadata": {},
   "outputs": [
    {
     "name": "stdout",
     "output_type": "stream",
     "text": [
      "2 4 18 8 "
     ]
    }
   ],
   "source": [
    "evens = search(values, is_even)\n",
    "print_results(evens)"
   ]
  },
  {
   "cell_type": "markdown",
   "metadata": {},
   "source": [
    "### Or we can use lambda function to pass search criteria"
   ]
  },
  {
   "cell_type": "code",
   "execution_count": 27,
   "metadata": {},
   "outputs": [
    {
     "name": "stdout",
     "output_type": "stream",
     "text": [
      "Employee3\tEmployee5\tEmployee6\tEmployee9\tEmployee10\tEmployee12\tEmployee13\tEmployee15\tEmployee16\tEmployee17\tEmployee18\tEmployee20\tEmployee22\tEmployee24\tEmployee25\tEmployee28\tEmployee29\tEmployee30\tEmployee32\tEmployee33\tEmployee34\tEmployee35\tEmployee36\tEmployee37\tEmployee38\tEmployee39\tEmployee40\tEmployee41\tEmployee42\tEmployee43\tEmployee44\tEmployee46\tEmployee48\t"
     ]
    }
   ],
   "source": [
    "permanent = search(bosch, lambda emp: emp._isPermanent)\n",
    "for emp in permanent:\n",
    "    print(emp._name, end='\\t')"
   ]
  },
  {
   "cell_type": "markdown",
   "metadata": {},
   "source": [
    "### Now we can do different types of searches\n",
    "\n",
    "\n",
    "#### Find all employess whose salary is less that 35000"
   ]
  },
  {
   "cell_type": "code",
   "execution_count": 31,
   "metadata": {},
   "outputs": [
    {
     "name": "stdout",
     "output_type": "stream",
     "text": [
      "Employee0 28000\n",
      "Employee2 21000\n",
      "Employee3 31000\n",
      "Employee6 32000\n",
      "Employee7 20000\n",
      "Employee9 23000\n",
      "Employee14 23000\n",
      "Employee16 21000\n",
      "Employee18 20000\n",
      "Employee20 23000\n",
      "Employee21 25000\n",
      "Employee22 33000\n",
      "Employee24 30000\n",
      "Employee27 23000\n",
      "Employee32 34000\n",
      "Employee36 25000\n",
      "Employee41 29000\n",
      "Employee42 31000\n",
      "Employee43 23000\n",
      "Employee44 23000\n",
      "Employee47 34000\n",
      "Employee49 30000\n"
     ]
    }
   ],
   "source": [
    "result = search(bosch, lambda emp: emp._salary<35000)\n",
    "\n",
    "for emp in result:\n",
    "    print(emp._name, emp._salary)"
   ]
  },
  {
   "cell_type": "code",
   "execution_count": null,
   "metadata": {},
   "outputs": [],
   "source": []
  }
 ],
 "metadata": {
  "kernelspec": {
   "display_name": "Python 3",
   "language": "python",
   "name": "python3"
  },
  "language_info": {
   "codemirror_mode": {
    "name": "ipython",
    "version": 3
   },
   "file_extension": ".py",
   "mimetype": "text/x-python",
   "name": "python",
   "nbconvert_exporter": "python",
   "pygments_lexer": "ipython3",
   "version": "3.12.1"
  }
 },
 "nbformat": 4,
 "nbformat_minor": 2
}
