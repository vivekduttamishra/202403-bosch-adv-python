{
 "cells": [
  {
   "cell_type": "markdown",
   "metadata": {},
   "source": [
    "### Let us define the Employee Organization Model\n",
    "\n",
    "* Organization should maintain a list of Employees\n",
    "* Organization should handle id generation\n"
   ]
  },
  {
   "cell_type": "code",
   "execution_count": 8,
   "metadata": {},
   "outputs": [],
   "source": [
    "class Employee:\n",
    "    def __init__(self, name, salary):\n",
    "        self._name = name\n",
    "        self._salary = salary\n",
    "        self._id=None\n",
    "        self._organization=None\n",
    "\n",
    "    def __str__(self):\n",
    "        if self:\n",
    "            return f'{self._organization} Employee#{self._id} Name={self._name} Salary={self._salary}'\n",
    "        else:\n",
    "            return f' Unemployeed {self._name}'\n",
    "        \n",
    "    def __bool__(self):\n",
    "        return self._id!=None  and self._organization!=None and isinstance(self._organization,Organization)\n",
    "    \n",
    "\n",
    "class Organization:\n",
    "    pass"
   ]
  },
  {
   "cell_type": "code",
   "execution_count": 9,
   "metadata": {},
   "outputs": [
    {
     "name": "stdout",
     "output_type": "stream",
     "text": [
      " Unemployeed Vivek\n"
     ]
    }
   ],
   "source": [
    "e1=Employee(\"Vivek\",20000)\n",
    "print(e1) # UnEmployeed"
   ]
  },
  {
   "cell_type": "code",
   "execution_count": 10,
   "metadata": {},
   "outputs": [
    {
     "name": "stdout",
     "output_type": "stream",
     "text": [
      "<__main__.Organization object at 0x000002547C6CC7A0> Employee#2 Name=Vivek Salary=20000\n"
     ]
    }
   ],
   "source": [
    "e1._id=2\n",
    "e1._organization=Organization()\n",
    "print(e1)"
   ]
  },
  {
   "cell_type": "markdown",
   "metadata": {},
   "source": [
    "#### Organization"
   ]
  },
  {
   "cell_type": "code",
   "execution_count": 13,
   "metadata": {},
   "outputs": [],
   "source": [
    "class Organization:\n",
    "    def __init__(self,name):\n",
    "        self._name=name\n",
    "        self._last_id=0\n",
    "        self._employees=[]\n",
    "\n",
    "    def __str__(self):\n",
    "        return self._name\n",
    "    \n",
    "    def add_employee(self, employee):\n",
    "        if not isinstance(employee,Employee):\n",
    "            raise ValueError(f\"{type(employee).__name__} not an Employee\")\n",
    "        else:\n",
    "            self._last_id+=1\n",
    "            employee._id=self._last_id\n",
    "            employee._organization=self\n",
    "            self._employees.append(employee)\n",
    "            return employee\n"
   ]
  },
  {
   "cell_type": "code",
   "execution_count": 15,
   "metadata": {},
   "outputs": [
    {
     "name": "stdout",
     "output_type": "stream",
     "text": [
      "Bosch Employee#1 Name=Amit Salary=25000\n",
      "Bosch Employee#2 Name=Vivek Salary=20000\n",
      "HP Employee#1 Name=Ananya Salary=50000\n",
      "Bosch Employee#3 Name=Rina Salary=50000\n",
      "HP Employee#2 Name=Suresh Salary=20000\n"
     ]
    }
   ],
   "source": [
    "bosch=Organization(\"Bosch\")\n",
    "hp=Organization(\"HP\")\n",
    "\n",
    "employees=[\n",
    "    bosch.add_employee( Employee(\"Amit\",25000) ),\n",
    "    bosch.add_employee( Employee(\"Vivek\",20000) ),\n",
    "    hp.add_employee( Employee(\"Ananya\",50000) ),\n",
    "    bosch.add_employee( Employee(\"Rina\",50000)),\n",
    "    hp.add_employee( Employee(\"Suresh\",20000))    \n",
    "]\n",
    "\n",
    "for employee in employees:\n",
    "    print(employee)"
   ]
  },
  {
   "cell_type": "markdown",
   "metadata": {},
   "source": [
    "#### Can we check if a given employee works **in** a given organization?"
   ]
  },
  {
   "cell_type": "code",
   "execution_count": 17,
   "metadata": {},
   "outputs": [],
   "source": [
    "b1= bosch.add_employee( Employee(\"Mr Bosch\", 50000))\n",
    "h1= hp.add_employee( Employee(\"Mr HP\", 50000))"
   ]
  },
  {
   "cell_type": "code",
   "execution_count": 18,
   "metadata": {},
   "outputs": [
    {
     "ename": "TypeError",
     "evalue": "argument of type 'Organization' is not iterable",
     "output_type": "error",
     "traceback": [
      "\u001b[1;31m---------------------------------------------------------------------------\u001b[0m",
      "\u001b[1;31mTypeError\u001b[0m                                 Traceback (most recent call last)",
      "Cell \u001b[1;32mIn[18], line 1\u001b[0m\n\u001b[1;32m----> 1\u001b[0m \u001b[38;5;28mprint\u001b[39m(\u001b[43mb1\u001b[49m\u001b[43m \u001b[49m\u001b[38;5;129;43;01min\u001b[39;49;00m\u001b[43m \u001b[49m\u001b[43mbosch\u001b[49m) \u001b[38;5;66;03m#True\u001b[39;00m\n\u001b[0;32m      2\u001b[0m \u001b[38;5;28mprint\u001b[39m(b1 \u001b[38;5;129;01min\u001b[39;00m hp) \u001b[38;5;66;03m#False\u001b[39;00m\n",
      "\u001b[1;31mTypeError\u001b[0m: argument of type 'Organization' is not iterable"
     ]
    }
   ],
   "source": [
    "print(b1 in bosch) #True\n",
    "print(b1 in hp) #False"
   ]
  },
  {
   "cell_type": "code",
   "execution_count": 23,
   "metadata": {},
   "outputs": [],
   "source": [
    "def check_for_employee( organization, employee):\n",
    "    for _employee in organization._employees:\n",
    "        if _employee == employee:\n",
    "            return True\n",
    "        \n",
    "    return False"
   ]
  },
  {
   "cell_type": "code",
   "execution_count": 24,
   "metadata": {},
   "outputs": [
    {
     "name": "stdout",
     "output_type": "stream",
     "text": [
      "True\n",
      "False\n"
     ]
    }
   ],
   "source": [
    "print(check_for_employee(bosch, b1)) #True\n",
    "print(check_for_employee(hp, b1)) #False"
   ]
  },
  {
   "cell_type": "markdown",
   "metadata": {},
   "source": [
    "### How in function works\n",
    "\n",
    "* It works if\n",
    "    * object is iterable\n",
    "* if we define a special function\n",
    "    * \\_\\_contains\\_\\_"
   ]
  },
  {
   "cell_type": "code",
   "execution_count": 25,
   "metadata": {},
   "outputs": [],
   "source": [
    "Organization.__contains__= check_for_employee"
   ]
  },
  {
   "cell_type": "code",
   "execution_count": 26,
   "metadata": {},
   "outputs": [
    {
     "data": {
      "text/plain": [
       "True"
      ]
     },
     "execution_count": 26,
     "metadata": {},
     "output_type": "execute_result"
    }
   ],
   "source": [
    "b1 in bosch"
   ]
  },
  {
   "cell_type": "code",
   "execution_count": 27,
   "metadata": {},
   "outputs": [
    {
     "data": {
      "text/plain": [
       "False"
      ]
     },
     "execution_count": 27,
     "metadata": {},
     "output_type": "execute_result"
    }
   ],
   "source": [
    "h1 in bosch"
   ]
  },
  {
   "cell_type": "markdown",
   "metadata": {},
   "source": [
    "#### Can we loop through all the employees of the organization"
   ]
  },
  {
   "cell_type": "code",
   "execution_count": 28,
   "metadata": {},
   "outputs": [
    {
     "ename": "TypeError",
     "evalue": "'Organization' object is not iterable",
     "output_type": "error",
     "traceback": [
      "\u001b[1;31m---------------------------------------------------------------------------\u001b[0m",
      "\u001b[1;31mTypeError\u001b[0m                                 Traceback (most recent call last)",
      "Cell \u001b[1;32mIn[28], line 1\u001b[0m\n\u001b[1;32m----> 1\u001b[0m \u001b[38;5;28;43;01mfor\u001b[39;49;00m\u001b[43m \u001b[49m\u001b[43memployee\u001b[49m\u001b[43m \u001b[49m\u001b[38;5;129;43;01min\u001b[39;49;00m\u001b[43m \u001b[49m\u001b[43mbosch\u001b[49m\u001b[43m:\u001b[49m\n\u001b[0;32m      2\u001b[0m \u001b[43m    \u001b[49m\u001b[38;5;28;43mprint\u001b[39;49m\u001b[43m(\u001b[49m\u001b[43memployee\u001b[49m\u001b[43m)\u001b[49m\n",
      "\u001b[1;31mTypeError\u001b[0m: 'Organization' object is not iterable"
     ]
    }
   ],
   "source": [
    "for employee in bosch:\n",
    "    print(employee)"
   ]
  },
  {
   "cell_type": "markdown",
   "metadata": {},
   "source": [
    "### What is Iterable?\n",
    "\n",
    "* Iterable is generally a large set of data/information that we want to process/access one by one in a sequence.\n",
    "* Note:\n",
    "    * Iterable may not be\n",
    "        * stored in memory like a list\n",
    "            * it can be a computed information\n",
    "            * it can be present in external sources like\n",
    "                * file\n",
    "                * network\n",
    "        * may not be linear (or sequential)\n",
    "            * iterable allows us to make the access sequential.\n",
    "* Use Case:\n",
    "    * We want to access **each** item **one by one**\n",
    "    * We want to use **for-loop**\n",
    "\n",
    "\n",
    "##### Example#1 Your Office Bag.\n",
    "\n",
    "* It may contain multiple items\n",
    "    * laptop\n",
    "    * laptop charger\n",
    "    * mobile charger\n",
    "    * pen\n",
    "    * notebook\n",
    "    * files\n",
    "    * ...\n",
    "\n",
    "* Can you consider a bag as a list or sequence?\n",
    "    * what if I ask you to given item #3?\n",
    "        * is their a slot in the bag called slot#3?\n",
    "\n",
    "\n",
    "* When we take them out from the bag we may take out in any random order or based on current need\n",
    "    * sometimes you may take out laptop first\n",
    "    * in other cases you may need pen and notbook.\n",
    "\n",
    "* But if we take out all items of the bag (even in no fixed) order\n",
    "    * we can give a sequence in which we got the item out of the bag.\n",
    "\n",
    "#### Example #2 A tourist destination (Eg. Chittorgarh)\n",
    "\n",
    "* There are many places worth visiting\n",
    "    * Meerabai Temple\n",
    "    * Maharana Pratap Palace\n",
    "    * Victory Tower\n",
    "    * Rani Padmaini Palace\n",
    "    * Eklingji Temple\n",
    "\n",
    "* We may visit in any order\n",
    "    * but then we can recall them in  a sequence\n",
    "\n",
    "\n",
    "### Iterator\n",
    "\n",
    "* Iterator is the object that manages the sequential access to the items\n",
    "* In case of your office bag\n",
    "    * bag is iterable\n",
    "    * you are iterator\n",
    "\n",
    "* In case of Chittorgarh\n",
    "    * chittor garh is iterable\n",
    "    * you may hire a **guide** who can act as **iterator**\n",
    "        * provides you access to each location one by one\n",
    "\n",
    "\n",
    "### How do we implement Iterable and Iterator in Python\n",
    "\n",
    "\n",
    "##### 1 Define Iterable\n",
    "* An iteratble is an object that can return an iterator when we call iter function\n",
    "\n",
    "```python\n",
    "chittor=Fort() # iterable\n",
    "guide= iter(chittor) #iterator\n",
    "```\n",
    "\n",
    "* to implement this we have to define a special function \\_\\_iter\\_\\_\n",
    "\n",
    "\n",
    "##### 2 Define Iterator\n",
    "\n",
    "* An iterator is (may be) a different returned by iterable\n",
    "* it works with python function next(iterator) => iterator.__next__()\n",
    "* It should return\n",
    "    * first value on the first call to next()\n",
    "    * successive values on each call to next ()\n",
    "    * raises StopIteration() if there is no next\n",
    "\n",
    "\n",
    "\n",
    "#### Working with builtin list"
   ]
  },
  {
   "cell_type": "code",
   "execution_count": 29,
   "metadata": {},
   "outputs": [
    {
     "name": "stdout",
     "output_type": "stream",
     "text": [
      "<list_iterator object at 0x000002547C6CEE60>\n"
     ]
    }
   ],
   "source": [
    "numbers=[1,2,3]\n",
    "\n",
    "it= iter(numbers)\n",
    "\n",
    "print(it)"
   ]
  },
  {
   "cell_type": "code",
   "execution_count": 30,
   "metadata": {},
   "outputs": [
    {
     "data": {
      "text/plain": [
       "1"
      ]
     },
     "execution_count": 30,
     "metadata": {},
     "output_type": "execute_result"
    }
   ],
   "source": [
    "next(it) # returns first object"
   ]
  },
  {
   "cell_type": "code",
   "execution_count": 31,
   "metadata": {},
   "outputs": [
    {
     "name": "stdout",
     "output_type": "stream",
     "text": [
      "2\n",
      "3\n"
     ]
    }
   ],
   "source": [
    "print(next(it)) #2\n",
    "print(next(it)) #3"
   ]
  },
  {
   "cell_type": "code",
   "execution_count": 32,
   "metadata": {},
   "outputs": [
    {
     "ename": "StopIteration",
     "evalue": "",
     "output_type": "error",
     "traceback": [
      "\u001b[1;31m---------------------------------------------------------------------------\u001b[0m",
      "\u001b[1;31mStopIteration\u001b[0m                             Traceback (most recent call last)",
      "Cell \u001b[1;32mIn[32], line 2\u001b[0m\n\u001b[0;32m      1\u001b[0m \u001b[38;5;66;03m# Now we have no more item left\u001b[39;00m\n\u001b[1;32m----> 2\u001b[0m \u001b[38;5;28;43mnext\u001b[39;49m\u001b[43m(\u001b[49m\u001b[43mit\u001b[49m\u001b[43m)\u001b[49m\n",
      "\u001b[1;31mStopIteration\u001b[0m: "
     ]
    }
   ],
   "source": [
    "# Now we have no more item left\n",
    "next(it)"
   ]
  },
  {
   "cell_type": "markdown",
   "metadata": {},
   "source": [
    "### How for loop works internally"
   ]
  },
  {
   "cell_type": "code",
   "execution_count": 37,
   "metadata": {},
   "outputs": [],
   "source": [
    "def iterate(iterable,sep=' ', end='\\n---\\n'):\n",
    "    it= iter(iterable)\n",
    "    try:\n",
    "      while True:\n",
    "        value=next(it)\n",
    "        print(value,end=sep)\n",
    "    except StopIteration:\n",
    "        print(end)\n",
    "      "
   ]
  },
  {
   "cell_type": "code",
   "execution_count": 38,
   "metadata": {},
   "outputs": [
    {
     "name": "stdout",
     "output_type": "stream",
     "text": [
      "1 2 3 4 \n",
      "---\n",
      "\n"
     ]
    }
   ],
   "source": [
    "iterate([1,2,3,4])"
   ]
  },
  {
   "cell_type": "code",
   "execution_count": 39,
   "metadata": {},
   "outputs": [
    {
     "name": "stdout",
     "output_type": "stream",
     "text": [
      "H e l l o ! \n",
      "---\n",
      "\n"
     ]
    }
   ],
   "source": [
    "iterate('Hello!')"
   ]
  },
  {
   "cell_type": "code",
   "execution_count": 40,
   "metadata": {},
   "outputs": [
    {
     "ename": "TypeError",
     "evalue": "'Organization' object is not iterable",
     "output_type": "error",
     "traceback": [
      "\u001b[1;31m---------------------------------------------------------------------------\u001b[0m",
      "\u001b[1;31mTypeError\u001b[0m                                 Traceback (most recent call last)",
      "Cell \u001b[1;32mIn[40], line 1\u001b[0m\n\u001b[1;32m----> 1\u001b[0m \u001b[43miterate\u001b[49m\u001b[43m(\u001b[49m\u001b[43mbosch\u001b[49m\u001b[43m)\u001b[49m\n",
      "Cell \u001b[1;32mIn[37], line 2\u001b[0m, in \u001b[0;36miterate\u001b[1;34m(iterable, sep, end)\u001b[0m\n\u001b[0;32m      1\u001b[0m \u001b[38;5;28;01mdef\u001b[39;00m \u001b[38;5;21miterate\u001b[39m(iterable,sep\u001b[38;5;241m=\u001b[39m\u001b[38;5;124m'\u001b[39m\u001b[38;5;124m \u001b[39m\u001b[38;5;124m'\u001b[39m, end\u001b[38;5;241m=\u001b[39m\u001b[38;5;124m'\u001b[39m\u001b[38;5;130;01m\\n\u001b[39;00m\u001b[38;5;124m---\u001b[39m\u001b[38;5;130;01m\\n\u001b[39;00m\u001b[38;5;124m'\u001b[39m):\n\u001b[1;32m----> 2\u001b[0m     it\u001b[38;5;241m=\u001b[39m \u001b[38;5;28;43miter\u001b[39;49m\u001b[43m(\u001b[49m\u001b[43miterable\u001b[49m\u001b[43m)\u001b[49m\n\u001b[0;32m      3\u001b[0m     \u001b[38;5;28;01mtry\u001b[39;00m:\n\u001b[0;32m      4\u001b[0m       \u001b[38;5;28;01mwhile\u001b[39;00m \u001b[38;5;28;01mTrue\u001b[39;00m:\n",
      "\u001b[1;31mTypeError\u001b[0m: 'Organization' object is not iterable"
     ]
    }
   ],
   "source": [
    "iterate(bosch)"
   ]
  },
  {
   "cell_type": "markdown",
   "metadata": {},
   "source": [
    "### Assignment 2.1  Implment Iterable Pattern for Organization\n",
    "\n",
    "* Organization should define \\_\\_iter\\_\\_ to return Employee Iterator\n",
    "* EmployeeIterator should define \\_\\_next\\_\\_ function that should\n",
    "    * return first employee on first call\n",
    "    * next employee on each next call\n",
    "    * raise StopIteration() if there is no next employee\n",
    "\n",
    "* Add a information in employee temporary/permanent\n",
    "* Organization can have both type of employees\n",
    "* The loop should return only permanent employee\n",
    "\n",
    "\n",
    "#### Solution What is the Minimum Iteration Code\n",
    "\n",
    "1. To iterate an object, we need at least and \\_\\_iter\\_\\_ function\n",
    "\n",
    "2. The function should return an object that has \\_\\_next\\_\\_ function\n",
    "\n",
    "3. __next__ function should return not None value or raise StopIteration\n",
    "\n",
    "#### code fails if the three conditions are not met"
   ]
  },
  {
   "cell_type": "code",
   "execution_count": 42,
   "metadata": {},
   "outputs": [
    {
     "ename": "TypeError",
     "evalue": "'Fort' object is not iterable",
     "output_type": "error",
     "traceback": [
      "\u001b[1;31m---------------------------------------------------------------------------\u001b[0m",
      "\u001b[1;31mTypeError\u001b[0m                                 Traceback (most recent call last)",
      "Cell \u001b[1;32mIn[42], line 6\u001b[0m\n\u001b[0;32m      2\u001b[0m     \u001b[38;5;28;01mpass\u001b[39;00m\n\u001b[0;32m      4\u001b[0m chittor\u001b[38;5;241m=\u001b[39mFort()\n\u001b[1;32m----> 6\u001b[0m it\u001b[38;5;241m=\u001b[39m \u001b[38;5;28;43miter\u001b[39;49m\u001b[43m(\u001b[49m\u001b[43mchittor\u001b[49m\u001b[43m)\u001b[49m\n",
      "\u001b[1;31mTypeError\u001b[0m: 'Fort' object is not iterable"
     ]
    }
   ],
   "source": [
    "class Fort:\n",
    "    pass\n",
    "\n",
    "chittor=Fort()\n",
    "\n",
    "it= iter(chittor)"
   ]
  },
  {
   "cell_type": "code",
   "execution_count": 43,
   "metadata": {},
   "outputs": [
    {
     "ename": "TypeError",
     "evalue": "iter() returned non-iterator of type 'NoneType'",
     "output_type": "error",
     "traceback": [
      "\u001b[1;31m---------------------------------------------------------------------------\u001b[0m",
      "\u001b[1;31mTypeError\u001b[0m                                 Traceback (most recent call last)",
      "Cell \u001b[1;32mIn[43], line 5\u001b[0m\n\u001b[0;32m      2\u001b[0m     \u001b[38;5;28;01mdef\u001b[39;00m \u001b[38;5;21m__iter__\u001b[39m(\u001b[38;5;28mself\u001b[39m):\n\u001b[0;32m      3\u001b[0m         \u001b[38;5;28;01mpass\u001b[39;00m\n\u001b[1;32m----> 5\u001b[0m \u001b[38;5;28;43miter\u001b[39;49m\u001b[43m(\u001b[49m\u001b[43mFort\u001b[49m\u001b[43m(\u001b[49m\u001b[43m)\u001b[49m\u001b[43m)\u001b[49m\n",
      "\u001b[1;31mTypeError\u001b[0m: iter() returned non-iterator of type 'NoneType'"
     ]
    }
   ],
   "source": [
    "class Fort:\n",
    "    def __iter__(self):\n",
    "        pass\n",
    "\n",
    "iter(Fort())"
   ]
  },
  {
   "cell_type": "code",
   "execution_count": 46,
   "metadata": {},
   "outputs": [
    {
     "ename": "TypeError",
     "evalue": "'builtin_function_or_method' object is not an iterator",
     "output_type": "error",
     "traceback": [
      "\u001b[1;31m---------------------------------------------------------------------------\u001b[0m",
      "\u001b[1;31mTypeError\u001b[0m                                 Traceback (most recent call last)",
      "Cell \u001b[1;32mIn[46], line 10\u001b[0m\n\u001b[0;32m      7\u001b[0m         \u001b[38;5;28;01mpass\u001b[39;00m\n\u001b[0;32m      9\u001b[0m \u001b[38;5;28miter\u001b[39m(Fort())\n\u001b[1;32m---> 10\u001b[0m \u001b[38;5;28;43mnext\u001b[39;49m\u001b[43m(\u001b[49m\u001b[38;5;28;43miter\u001b[39;49m\u001b[43m)\u001b[49m\n",
      "\u001b[1;31mTypeError\u001b[0m: 'builtin_function_or_method' object is not an iterator"
     ]
    }
   ],
   "source": [
    "class Fort:\n",
    "    def __iter__(self):\n",
    "        return Guide()\n",
    "\n",
    "class Guide:\n",
    "    def __next__(self):\n",
    "        pass\n",
    "\n",
    "iter(Fort())\n",
    "next(iter)"
   ]
  },
  {
   "cell_type": "markdown",
   "metadata": {},
   "source": [
    "#### Bare Minimum Working Combination"
   ]
  },
  {
   "cell_type": "code",
   "execution_count": 47,
   "metadata": {},
   "outputs": [],
   "source": [
    "class Fort:\n",
    "    def __iter__(self):\n",
    "        return Guide()\n",
    "\n",
    "class Guide:\n",
    "    def __next__(self):\n",
    "        raise StopIteration()"
   ]
  },
  {
   "cell_type": "code",
   "execution_count": 48,
   "metadata": {},
   "outputs": [
    {
     "name": "stdout",
     "output_type": "stream",
     "text": [
      "end\n"
     ]
    }
   ],
   "source": [
    "for place in Fort():\n",
    "    print(place)\n",
    "print('end')"
   ]
  },
  {
   "cell_type": "code",
   "execution_count": 49,
   "metadata": {},
   "outputs": [
    {
     "name": "stdout",
     "output_type": "stream",
     "text": [
      "\n",
      "---\n",
      "\n"
     ]
    }
   ],
   "source": [
    "iterate(Fort())"
   ]
  },
  {
   "cell_type": "code",
   "execution_count": 50,
   "metadata": {},
   "outputs": [
    {
     "name": "stdout",
     "output_type": "stream",
     "text": [
      "<__main__.Guide object at 0x000002547C8ABEF0>\n"
     ]
    }
   ],
   "source": [
    "chittor=Fort()\n",
    "guide=iter(chittor)\n",
    "print(guide)"
   ]
  },
  {
   "cell_type": "code",
   "execution_count": 51,
   "metadata": {},
   "outputs": [
    {
     "ename": "StopIteration",
     "evalue": "",
     "output_type": "error",
     "traceback": [
      "\u001b[1;31m---------------------------------------------------------------------------\u001b[0m",
      "\u001b[1;31mStopIteration\u001b[0m                             Traceback (most recent call last)",
      "Cell \u001b[1;32mIn[51], line 1\u001b[0m\n\u001b[1;32m----> 1\u001b[0m \u001b[38;5;28;43mnext\u001b[39;49m\u001b[43m(\u001b[49m\u001b[43mguide\u001b[49m\u001b[43m)\u001b[49m\n",
      "Cell \u001b[1;32mIn[47], line 7\u001b[0m, in \u001b[0;36mGuide.__next__\u001b[1;34m(self)\u001b[0m\n\u001b[0;32m      6\u001b[0m \u001b[38;5;28;01mdef\u001b[39;00m \u001b[38;5;21m__next__\u001b[39m(\u001b[38;5;28mself\u001b[39m):\n\u001b[1;32m----> 7\u001b[0m     \u001b[38;5;28;01mraise\u001b[39;00m \u001b[38;5;167;01mStopIteration\u001b[39;00m()\n",
      "\u001b[1;31mStopIteration\u001b[0m: "
     ]
    }
   ],
   "source": [
    "next(guide)"
   ]
  },
  {
   "cell_type": "markdown",
   "metadata": {},
   "source": [
    "### For simpler examples we can have object iterating itself"
   ]
  },
  {
   "cell_type": "code",
   "execution_count": 52,
   "metadata": {},
   "outputs": [
    {
     "name": "stdout",
     "output_type": "stream",
     "text": [
      "\n",
      "---\n",
      "\n"
     ]
    }
   ],
   "source": [
    "class AutoGuidedFort:\n",
    "    def __iter__(self):\n",
    "        return self\n",
    "    def __next__(self):\n",
    "        raise StopIteration()\n",
    "    \n",
    "iterate(AutoGuidedFort())"
   ]
  },
  {
   "cell_type": "markdown",
   "metadata": {},
   "source": [
    "#### What should we do?\n",
    "\n",
    "* In may case we may have different iterator on same object \n",
    "* In such cases we should keep Iterator and Iterable as different object\n",
    "* If the purpose of an object is just to interate then we should keep it different.\n",
    "\n",
    "\n",
    "### Organization's Employee Iteration"
   ]
  },
  {
   "cell_type": "code",
   "execution_count": 70,
   "metadata": {},
   "outputs": [],
   "source": [
    "class Employee:\n",
    "    def __init__(self, name, salary, isPermanent=True):\n",
    "        self._name = name\n",
    "        self._salary = salary\n",
    "        self._id=None\n",
    "        self._organization=None\n",
    "        self._isPermanent=isPermanent\n",
    "\n",
    "    def __str__(self):\n",
    "        if self:\n",
    "            return f'{self._organization} Employee#{self._id} {\"*\" if self._isPermanent else \"x\"} Name={self._name} Salary={self._salary}'\n",
    "        else:\n",
    "            return f' Unemployeed {self._name}'\n",
    "        \n",
    "    def __bool__(self):\n",
    "        return self._id!=None  and self._organization!=None and isinstance(self._organization,Organization)\n",
    "   \n",
    "\n",
    "class Organization:\n",
    "    def __init__(self,name):\n",
    "        self._name=name\n",
    "        self._last_id=0\n",
    "        self._employees=[]\n",
    "\n",
    "    def __str__(self):\n",
    "        return self._name\n",
    "    \n",
    "    def add_employee(self, employee):\n",
    "        if not isinstance(employee,Employee):\n",
    "            raise ValueError(f\"{type(employee).__name__} not an Employee\")\n",
    "        else:\n",
    "            self._last_id+=1\n",
    "            employee._id=self._last_id\n",
    "            employee._organization=self\n",
    "            self._employees.append(employee)\n",
    "            return employee\n",
    "\n",
    "    def __iter__(self):\n",
    "        return Organization.EmployeeIterator(self._employees)\n",
    "\n",
    "    class EmployeeIterator:\n",
    "        def __init__(self,employees):\n",
    "            self._employees=employees\n",
    "            #always start before first. you reach first on next call\n",
    "            self._current=-1\n",
    "\n",
    "        def __next__(self):\n",
    "            self._current+=1\n",
    "            if self._current<len(self._employees):\n",
    "                return self._employees[self._current]\n",
    "            else:\n",
    "                raise StopIteration()\n",
    "\n",
    "\n"
   ]
  },
  {
   "cell_type": "markdown",
   "metadata": {},
   "source": [
    "#### Sample Data"
   ]
  },
  {
   "cell_type": "code",
   "execution_count": 71,
   "metadata": {},
   "outputs": [],
   "source": [
    "bosch=Organization('Bosch')\n",
    "\n",
    "for employee in bosch:\n",
    "    print(employee)\n"
   ]
  },
  {
   "cell_type": "code",
   "execution_count": 72,
   "metadata": {},
   "outputs": [],
   "source": [
    "for i in range(1,11):\n",
    "    bosch.add_employee(Employee(f\"Person {i}\", 50000, isPermanent= i%3!=0))"
   ]
  },
  {
   "cell_type": "code",
   "execution_count": 74,
   "metadata": {},
   "outputs": [
    {
     "name": "stdout",
     "output_type": "stream",
     "text": [
      "Bosch Employee#1 * Name=Person 1 Salary=50000\n",
      "Bosch Employee#2 * Name=Person 2 Salary=50000\n",
      "Bosch Employee#3 x Name=Person 3 Salary=50000\n",
      "Bosch Employee#4 * Name=Person 4 Salary=50000\n",
      "Bosch Employee#5 * Name=Person 5 Salary=50000\n",
      "Bosch Employee#6 x Name=Person 6 Salary=50000\n",
      "Bosch Employee#7 * Name=Person 7 Salary=50000\n",
      "Bosch Employee#8 * Name=Person 8 Salary=50000\n",
      "Bosch Employee#9 x Name=Person 9 Salary=50000\n",
      "Bosch Employee#10 * Name=Person 10 Salary=50000\n"
     ]
    }
   ],
   "source": [
    "for employee in bosch:\n",
    "    print(employee)"
   ]
  },
  {
   "cell_type": "markdown",
   "metadata": {},
   "source": [
    "### How to exclude temporary employees"
   ]
  },
  {
   "cell_type": "code",
   "execution_count": 75,
   "metadata": {},
   "outputs": [],
   "source": [
    "class Employee:\n",
    "    def __init__(self, name, salary, isPermanent=True):\n",
    "        self._name = name\n",
    "        self._salary = salary\n",
    "        self._id=None\n",
    "        self._organization=None\n",
    "        self._isPermanent=isPermanent\n",
    "\n",
    "    def __str__(self):\n",
    "        if self:\n",
    "            return f'{self._organization} Employee#{self._id} {\"*\" if self._isPermanent else \"x\"} Name={self._name} Salary={self._salary}'\n",
    "        else:\n",
    "            return f' Unemployeed {self._name}'\n",
    "        \n",
    "    def __bool__(self):\n",
    "        return self._id!=None  and self._organization!=None and isinstance(self._organization,Organization)\n",
    "   \n",
    "   \n",
    "class Organization:\n",
    "    def __init__(self,name):\n",
    "        self._name=name\n",
    "        self._last_id=0\n",
    "        self._employees=[]\n",
    "\n",
    "    def __str__(self):\n",
    "        return self._name\n",
    "    \n",
    "    def add_employee(self, employee):\n",
    "        if not isinstance(employee,Employee):\n",
    "            raise ValueError(f\"{type(employee).__name__} not an Employee\")\n",
    "        else:\n",
    "            self._last_id+=1\n",
    "            employee._id=self._last_id\n",
    "            employee._organization=self\n",
    "            self._employees.append(employee)\n",
    "            return employee\n",
    "\n",
    "    def __iter__(self):\n",
    "        return Organization.EmployeeIterator(self._employees)\n",
    "\n",
    "    class EmployeeIterator:\n",
    "        def __init__(self,employees):\n",
    "            self._employees=employees\n",
    "            #always start before first. you reach first on next call\n",
    "            self._current=-1\n",
    "\n",
    "        def __next__(self):\n",
    "            \n",
    "            while True:\n",
    "                self._current+=1\n",
    "                if self._current>=len(self._employees):\n",
    "                    raise StopIteration()\n",
    "                if self._employees[self._current]._isPermanent:\n",
    "                    return self._employees[self._current]\n",
    "                \n",
    "\n",
    "\n"
   ]
  },
  {
   "cell_type": "code",
   "execution_count": 76,
   "metadata": {},
   "outputs": [
    {
     "name": "stdout",
     "output_type": "stream",
     "text": [
      "Bosch Employee#1 * Name=Person 1 Salary=50000\n",
      "Bosch Employee#2 * Name=Person 2 Salary=50000\n",
      "Bosch Employee#4 * Name=Person 4 Salary=50000\n",
      "Bosch Employee#5 * Name=Person 5 Salary=50000\n",
      "Bosch Employee#7 * Name=Person 7 Salary=50000\n",
      "Bosch Employee#8 * Name=Person 8 Salary=50000\n",
      "Bosch Employee#10 * Name=Person 10 Salary=50000\n"
     ]
    }
   ],
   "source": [
    "bosch =Organization(\"Bosch\")\n",
    "\n",
    "for i in range(1,11):\n",
    "    bosch.add_employee(Employee(f\"Person {i}\", 50000, isPermanent= i%3!=0))\n",
    "\n",
    "for employee in bosch:\n",
    "    print(employee)"
   ]
  },
  {
   "cell_type": "markdown",
   "metadata": {},
   "source": [
    "#### Assignment 2.2  Create a Prime Range Iterator that can iterate and return all primes in a given range\n",
    "\n",
    "```python\n",
    "\n",
    "for prime in prime_iterator(10):\n",
    "    print(prime)  # should print 2 3 5 7\n",
    "\n",
    "print prime in prime_iterator(10,20):\n",
    "    print(prime)  # should print 11 13 17 19\n",
    "\n",
    "```\n",
    "\n",
    "* Note:\n",
    "    * We shouldn't store these values anywhere!\n",
    "\n",
    "* you can use below function to check if a number is prime or not\n"
   ]
  },
  {
   "cell_type": "code",
   "execution_count": 77,
   "metadata": {},
   "outputs": [],
   "source": [
    "def is_prime(number):\n",
    "    if number<2: return False\n",
    "    for x in range(2,number):\n",
    "        if number%x==0:\n",
    "            return False\n",
    "    return True"
   ]
  },
  {
   "cell_type": "markdown",
   "metadata": {},
   "source": [
    "#### Solution 1"
   ]
  },
  {
   "cell_type": "code",
   "execution_count": 89,
   "metadata": {},
   "outputs": [],
   "source": [
    "def prime_list(min,max=None):\n",
    "    primes=[]\n",
    "    if max is None:\n",
    "        min,max=0,min\n",
    "    \n",
    "    for number in range(min,max):\n",
    "        if is_prime(number):\n",
    "            print(f\"[{number}]\", end=\" \")\n",
    "            primes.append(number)\n",
    "            \n",
    "    return primes\n"
   ]
  },
  {
   "cell_type": "code",
   "execution_count": 90,
   "metadata": {},
   "outputs": [
    {
     "name": "stdout",
     "output_type": "stream",
     "text": [
      "[2] [3] [5] [7] 2\t3\t5\t7\t"
     ]
    }
   ],
   "source": [
    "for p in prime_list(10):\n",
    "    print(p,end=\"\\t\")"
   ]
  },
  {
   "cell_type": "code",
   "execution_count": 91,
   "metadata": {},
   "outputs": [
    {
     "name": "stdout",
     "output_type": "stream",
     "text": [
      "[11] [13] [17] [19] 11\t13\t17\t19\t"
     ]
    }
   ],
   "source": [
    "for p in prime_list(10,20):\n",
    "    print(p,end=\"\\t\")"
   ]
  },
  {
   "cell_type": "markdown",
   "metadata": {},
   "source": [
    "#### Why should we use iterator when we can just build a list?\n",
    "* lists are iterators.\n",
    "* if we make a list, it automatically works.\n",
    "\n",
    "#### Problem with storage\n",
    "\n",
    "* If we have a large dataset which takes a very long time to build, we have to wait till entire data is ready.\n",
    "\n",
    "* How much time will it take to find all primes between 2-200_000?\n",
    "\n",
    "#### How do I find total time taken?"
   ]
  },
  {
   "cell_type": "code",
   "execution_count": 82,
   "metadata": {},
   "outputs": [
    {
     "name": "stdout",
     "output_type": "stream",
     "text": [
      "Time taken: 142.27243733406067\n",
      "Total primes in range: 17984\n"
     ]
    }
   ],
   "source": [
    "import time\n",
    "\n",
    "start=time.time()\n",
    "result=prime_list(200_000)\n",
    "end=time.time()\n",
    "\n",
    "print(f\"Time taken: {end-start}\")\n",
    "\n",
    "print(f\"Total primes in range: {len(result)}\")"
   ]
  },
  {
   "cell_type": "markdown",
   "metadata": {},
   "source": [
    "#### Use case: What can we do with the list of primes?\n",
    "\n",
    "1. count it (above use case)\n",
    "2. save it to a file/database\n",
    "3. create a frequency based on end digits (1,2,3,5,7,9)\n",
    "4. Find the 1000th prime\n",
    "5. Find the 1000th prime ending with 7\n",
    "6. ...\n",
    "\n",
    "#### Problem\n",
    "\n",
    "* we can't start consuming/computing our result before we get all primes\n",
    "    * we must wait to get the result before we can use the result!\n",
    "    * it will take a long time.\n",
    "    \n",
    "\n",
    "\n",
    "\n",
    "* do we need all values together to start computing?\n",
    "    * Can you imagine a use case where we need all values together.\n",
    "    * we may waste a lot of storage for storing 17000 primes when all we need is\n",
    "        * count\n",
    "        * frequency\n",
    "        * even save can save values one by one.\n",
    "\n",
    "* There is no way to cancel the function execution if it has started.\n",
    "    * what if we want to abandon the job\n",
    "        * what if we found the 1000th prime before reaching max and we want to stop now.\n",
    "\n",
    "\n",
    "## Iterator solves this problem\n",
    "\n",
    "1. you calcualte values one by one.\n",
    "2. you may choose to stop any time\n",
    "3. you can use the current value before calling next.\n",
    "\n"
   ]
  },
  {
   "cell_type": "code",
   "execution_count": 92,
   "metadata": {},
   "outputs": [],
   "source": [
    "class prime_iterator:\n",
    "    def __init__(self,min,max=None):\n",
    "        if max is None:\n",
    "            min,max=0,min\n",
    "        self._min=min\n",
    "        self._max=max\n",
    "        self._current=min-1\n",
    "\n",
    "    def __iter__(self):\n",
    "        return self\n",
    "    \n",
    "    def __next__(self):\n",
    "        self._current+=1\n",
    "        while self._current< self._max:\n",
    "            if is_prime(self._current):\n",
    "                print(f\"[{self._current}]\", end=\" \")\n",
    "                return self._current\n",
    "            else:\n",
    "                self._current+=1\n",
    "\n",
    "        raise StopIteration()\n",
    "    \n",
    "            \n",
    "\n",
    "            "
   ]
  },
  {
   "cell_type": "code",
   "execution_count": 93,
   "metadata": {},
   "outputs": [
    {
     "name": "stdout",
     "output_type": "stream",
     "text": [
      "[2] 2\t[3] 3\t[5] 5\t[7] 7\t\n",
      "[11] 11\t[13] 13\t[17] 17\t[19] 19\t"
     ]
    }
   ],
   "source": [
    "for prime in prime_iterator(10):\n",
    "    print(prime,end=\"\\t\")\n",
    "\n",
    "print()\n",
    "\n",
    "for prime in prime_iterator(10,20):\n",
    "    print(prime,end=\"\\t\")"
   ]
  },
  {
   "cell_type": "markdown",
   "metadata": {},
   "source": [
    "### find the 4th prime in range that ends with 7\n",
    "\n",
    "* In case of strored values, all result will be calculated before we can consume them\n",
    "\n"
   ]
  },
  {
   "cell_type": "code",
   "execution_count": 98,
   "metadata": {},
   "outputs": [
    {
     "name": "stdout",
     "output_type": "stream",
     "text": [
      "[2] [3] [5] [7] [11] [13] [17] [19] [23] [29] [31] [37] [41] [43] [47] [53] [59] [61] [67] [71] [73] [79] [83] [89] [97] 1 --> 7\n",
      "2 --> 17\n",
      "3 --> 37\n",
      "4 --> 47\n",
      "\n",
      "The 4th prime ending with 7 is 47\n"
     ]
    }
   ],
   "source": [
    "count=0\n",
    "for prime in prime_list(100):\n",
    "    if prime%10==7:\n",
    "        count+=1\n",
    "        print(f\"{count} --> {prime}\")\n",
    "        if count==4:\n",
    "            print(f\"\\nThe 4th prime ending with 7 is {prime}\")\n",
    "            break"
   ]
  },
  {
   "cell_type": "markdown",
   "metadata": {},
   "source": [
    "### In case of iterator when we break the for loop, there is no further calcuation"
   ]
  },
  {
   "cell_type": "code",
   "execution_count": 97,
   "metadata": {},
   "outputs": [
    {
     "name": "stdout",
     "output_type": "stream",
     "text": [
      "[2] [3] [5] [7] 1 --> 7\n",
      "[11] [13] [17] 2 --> 17\n",
      "[19] [23] [29] [31] [37] 3 --> 37\n",
      "[41] [43] [47] 4 --> 47\n",
      "\n",
      "The 4th prime ending with 7 is 47\n"
     ]
    }
   ],
   "source": [
    "count=0\n",
    "for prime in prime_iterator(100):\n",
    "    if prime%10==7:\n",
    "        count+=1\n",
    "        print(f\"{count} --> {prime}\")\n",
    "        if count==4:\n",
    "            print(f\"\\nThe 4th prime ending with 7 is {prime}\")\n",
    "            break"
   ]
  },
  {
   "cell_type": "markdown",
   "metadata": {},
   "source": [
    "### Generator\n",
    "\n",
    "* Iterators are useful. But their code is complicated.\n",
    "* consider normal prime_list vs iterator\n",
    "```python\n",
    "def prime_list(min,max=None):\n",
    "    primes=[]\n",
    "    if max is None:\n",
    "        min,max=0,min\n",
    "    \n",
    "    for number in range(min,max):\n",
    "        if is_prime(number):\n",
    "            print(f\"[{number}]\", end=\" \")\n",
    "            primes.append(number)\n",
    "            \n",
    "    return primes\n",
    "```\n",
    "\n",
    "* vs iterator\n",
    "```python\n",
    "class prime_iterator:\n",
    "    def __init__(self,min,max=None):\n",
    "        if max is None:\n",
    "            min,max=0,min\n",
    "        self._min=min\n",
    "        self._max=max\n",
    "        self._current=min-1\n",
    "\n",
    "    def __iter__(self):\n",
    "        return self\n",
    "    \n",
    "    def __next__(self):\n",
    "        self._current+=1\n",
    "        while self._current< self._max:\n",
    "            if is_prime(self._current):\n",
    "                print(f\"[{self._current}]\", end=\" \")\n",
    "                return self._current\n",
    "            else:\n",
    "                self._current+=1\n",
    "\n",
    "        raise StopIteration()\n",
    "    \n",
    "```\n",
    "\n",
    "### Generators are based on python's special keyword **yield**\n",
    "\n",
    "* They auto implement iterator methods\n",
    "\n",
    "        \n",
    "\n",
    "            \n"
   ]
  },
  {
   "cell_type": "code",
   "execution_count": 99,
   "metadata": {},
   "outputs": [],
   "source": [
    "def generate_values():\n",
    "    print(\"Started Generating\")\n",
    "    yield 1\n",
    "    print(\"Generating Second value\")\n",
    "    yield 2\n",
    "    print(\"Generating Last value\")\n",
    "    yield 3\n",
    "    print(\"finished generating\")"
   ]
  },
  {
   "cell_type": "markdown",
   "metadata": {},
   "source": [
    "### When we call the above function\n",
    "\n",
    "1. it returns a **generator**\n",
    "2. code inside the function doesn't really execue\n",
    "    * you won't see a single print"
   ]
  },
  {
   "cell_type": "code",
   "execution_count": 100,
   "metadata": {},
   "outputs": [
    {
     "name": "stdout",
     "output_type": "stream",
     "text": [
      "<generator object generate_values at 0x000002547B423340>\n"
     ]
    }
   ],
   "source": [
    "x = generate_values()\n",
    "print(x)"
   ]
  },
  {
   "cell_type": "markdown",
   "metadata": {},
   "source": [
    "### A generator is a self iterating iterable.\n",
    "\n",
    "* it can be used with both **iter()** and **next()** method\n",
    "* it returns itself"
   ]
  },
  {
   "cell_type": "code",
   "execution_count": 102,
   "metadata": {},
   "outputs": [
    {
     "name": "stdout",
     "output_type": "stream",
     "text": [
      "<generator object generate_values at 0x000002547B423340>\n",
      "True\n"
     ]
    }
   ],
   "source": [
    "y=iter(x)\n",
    "print(y)\n",
    "\n",
    "print(x is y)"
   ]
  },
  {
   "cell_type": "markdown",
   "metadata": {},
   "source": [
    "#### The code inside the function runs when it next is called\n",
    "\n",
    "* the code will execute till first yeild.\n",
    "* then it will stop and not execute further"
   ]
  },
  {
   "cell_type": "code",
   "execution_count": 103,
   "metadata": {},
   "outputs": [
    {
     "name": "stdout",
     "output_type": "stream",
     "text": [
      "Started Generating\n",
      "1\n"
     ]
    }
   ],
   "source": [
    "print(next(y))\n"
   ]
  },
  {
   "cell_type": "markdown",
   "metadata": {},
   "source": [
    "### each call to next will make it stop at next yeild"
   ]
  },
  {
   "cell_type": "code",
   "execution_count": 104,
   "metadata": {},
   "outputs": [
    {
     "name": "stdout",
     "output_type": "stream",
     "text": [
      "Generating Second value\n",
      "2\n",
      "Generating Last value\n",
      "3\n"
     ]
    }
   ],
   "source": [
    "print(next(y))\n",
    "\n",
    "print(next(y))"
   ]
  },
  {
   "cell_type": "markdown",
   "metadata": {},
   "source": [
    "### attempt to call next will stop iteration"
   ]
  },
  {
   "cell_type": "code",
   "execution_count": 105,
   "metadata": {},
   "outputs": [
    {
     "name": "stdout",
     "output_type": "stream",
     "text": [
      "finished generating\n"
     ]
    },
    {
     "ename": "StopIteration",
     "evalue": "",
     "output_type": "error",
     "traceback": [
      "\u001b[1;31m---------------------------------------------------------------------------\u001b[0m",
      "\u001b[1;31mStopIteration\u001b[0m                             Traceback (most recent call last)",
      "Cell \u001b[1;32mIn[105], line 1\u001b[0m\n\u001b[1;32m----> 1\u001b[0m \u001b[38;5;28;43mnext\u001b[39;49m\u001b[43m(\u001b[49m\u001b[43my\u001b[49m\u001b[43m)\u001b[49m\n",
      "\u001b[1;31mStopIteration\u001b[0m: "
     ]
    }
   ],
   "source": [
    "next(y)"
   ]
  },
  {
   "cell_type": "markdown",
   "metadata": {},
   "source": [
    "### prime_generator"
   ]
  },
  {
   "cell_type": "code",
   "execution_count": 106,
   "metadata": {},
   "outputs": [],
   "source": [
    "def prime_generator(min,max=None):\n",
    "    if max is None:\n",
    "        min,max=0,min\n",
    "    \n",
    "    for number in range(min,max):\n",
    "        if is_prime(number):\n",
    "            print(f\"[{number}]\", end=\" \")\n",
    "            yield number"
   ]
  },
  {
   "cell_type": "code",
   "execution_count": 107,
   "metadata": {},
   "outputs": [
    {
     "name": "stdout",
     "output_type": "stream",
     "text": [
      "[2] [3] [5] [7] 1 --> 7\n",
      "[11] [13] [17] 2 --> 17\n",
      "[19] [23] [29] [31] [37] 3 --> 37\n",
      "[41] [43] [47] 4 --> 47\n",
      "\n",
      "The 4th prime ending with 7 is 47\n"
     ]
    }
   ],
   "source": [
    "count=0\n",
    "for prime in prime_generator(1000):\n",
    "    if prime%10==7:\n",
    "        count+=1\n",
    "        print(f\"{count} --> {prime}\")\n",
    "        if count==4:\n",
    "            print(f\"\\nThe 4th prime ending with 7 is {prime}\")\n",
    "            break"
   ]
  },
  {
   "cell_type": "code",
   "execution_count": null,
   "metadata": {},
   "outputs": [],
   "source": []
  }
 ],
 "metadata": {
  "kernelspec": {
   "display_name": "Python 3",
   "language": "python",
   "name": "python3"
  },
  "language_info": {
   "codemirror_mode": {
    "name": "ipython",
    "version": 3
   },
   "file_extension": ".py",
   "mimetype": "text/x-python",
   "name": "python",
   "nbconvert_exporter": "python",
   "pygments_lexer": "ipython3",
   "version": "3.12.1"
  }
 },
 "nbformat": 4,
 "nbformat_minor": 2
}
