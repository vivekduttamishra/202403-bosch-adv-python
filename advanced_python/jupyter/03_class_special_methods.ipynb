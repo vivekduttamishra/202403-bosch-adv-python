{
 "cells": [
  {
   "cell_type": "markdown",
   "metadata": {},
   "source": [
    "## Class (Object) special memebers\n",
    "\n",
    "* python defines a lot of special members in a class.\n",
    "* These members are prefixed and suffixed with double underscores.\n",
    "* Some pare present in every class\n",
    "    * example: \\_\\_init\\_\\_, \\_\\_eq\\_\\_, \\_\\_str\\_\\_\n",
    "\n",
    "* Others are defined on need basis.\n",
    "    * example: \\_\\_int\\_\\_, \\_\\_add\\_\\_\n",
    "\n",
    "* These methods, if present, performs special tasks and integrate with language elements.\n",
    "\n",
    "### Classfication of Special Methods\n",
    "\n",
    "\n",
    "#### 1. Life cycle Methods.\n",
    "\n",
    "* These methods play special role in the life time of object\n",
    "* These include\n",
    "    * \\_\\_new\\_\\_\n",
    "        * allocates memory for the current object\n",
    "        * all class contains it\n",
    "        * we generally do not change this method\n",
    "        * can be changed in special use cases\n",
    "    \n",
    "    * \\_\\_init\\_\\_\n",
    "        * used for initialization of the object\n",
    "        * present by default\n",
    "        * most commonly we defined it in our class\n",
    "\n",
    "    * \\_\\_del\\_\\_\n",
    "        * called when object is being destroyed.\n",
    "        * useful to free up the unmanaged resources taken by the object\n",
    "            * open file\n",
    "            * network connection\n",
    "            * database connection\n",
    "\n",
    "        * it is called when object is destroyed\n",
    "            1. if we explcitly destory reference using **del** keyword\n",
    "            2. if object loses the last reference it has"
   ]
  },
  {
   "cell_type": "code",
   "execution_count": 4,
   "metadata": {},
   "outputs": [],
   "source": [
    "class Person:\n",
    "    def __new__(cls, name):\n",
    "        print(f'Person.__new__ called with {name}')\n",
    "        # let us use default __new__ to create object\n",
    "        return object.__new__(cls)\n",
    "    \n",
    "\n",
    "    def __init__(self, name):\n",
    "        self.name = name\n",
    "        print(f'Person.__init__ called with {name}')\n",
    "\n",
    "    def __del__(self) :\n",
    "        print(f'Person.__del__ called for {self.name}')\n",
    "        "
   ]
  },
  {
   "cell_type": "code",
   "execution_count": 6,
   "metadata": {},
   "outputs": [
    {
     "name": "stdout",
     "output_type": "stream",
     "text": [
      "Person.__new__ called with John\n",
      "Person.__init__ called with John\n"
     ]
    }
   ],
   "source": [
    "p1 = Person('John')"
   ]
  },
  {
   "cell_type": "code",
   "execution_count": 7,
   "metadata": {},
   "outputs": [
    {
     "name": "stdout",
     "output_type": "stream",
     "text": [
      "Person.__new__ called with Mary\n",
      "Person.__init__ called with Mary\n"
     ]
    }
   ],
   "source": [
    "p2= Person('Mary')"
   ]
  },
  {
   "cell_type": "code",
   "execution_count": 8,
   "metadata": {},
   "outputs": [],
   "source": [
    "### new or init is not called when we assign references\n",
    "p3=p2\n",
    "p4=p2"
   ]
  },
  {
   "cell_type": "markdown",
   "metadata": {},
   "source": [
    "#### we can delete an object by calling **del** on its only reference"
   ]
  },
  {
   "cell_type": "code",
   "execution_count": 9,
   "metadata": {},
   "outputs": [
    {
     "name": "stdout",
     "output_type": "stream",
     "text": [
      "Person.__del__ called for John\n"
     ]
    }
   ],
   "source": [
    "del(p1)"
   ]
  },
  {
   "cell_type": "markdown",
   "metadata": {},
   "source": [
    "### But person(\"Merry\") has three references p2,p3,p4\n",
    "\n",
    "* it will not be deleted till all reference is removed"
   ]
  },
  {
   "cell_type": "code",
   "execution_count": 10,
   "metadata": {},
   "outputs": [],
   "source": [
    "del p2\n",
    "#reference p2 is deleted.\n",
    "# but Person(\"Merry\") still has two more references"
   ]
  },
  {
   "cell_type": "code",
   "execution_count": 11,
   "metadata": {},
   "outputs": [
    {
     "ename": "NameError",
     "evalue": "name 'p2' is not defined",
     "output_type": "error",
     "traceback": [
      "\u001b[1;31m---------------------------------------------------------------------------\u001b[0m",
      "\u001b[1;31mNameError\u001b[0m                                 Traceback (most recent call last)",
      "Cell \u001b[1;32mIn[11], line 1\u001b[0m\n\u001b[1;32m----> 1\u001b[0m \u001b[38;5;28mprint\u001b[39m(\u001b[43mp2\u001b[49m)\n",
      "\u001b[1;31mNameError\u001b[0m: name 'p2' is not defined"
     ]
    }
   ],
   "source": [
    "print(p2)"
   ]
  },
  {
   "cell_type": "markdown",
   "metadata": {},
   "source": [
    "### we can remove reference by reassigning it another value"
   ]
  },
  {
   "cell_type": "code",
   "execution_count": 12,
   "metadata": {},
   "outputs": [],
   "source": [
    "p3=\"Hi\" \n",
    "\n",
    "#now Person(\"Merry\") has only one refernce left p4"
   ]
  },
  {
   "cell_type": "code",
   "execution_count": 13,
   "metadata": {},
   "outputs": [
    {
     "name": "stdout",
     "output_type": "stream",
     "text": [
      "Person.__del__ called for Mary\n"
     ]
    }
   ],
   "source": [
    "p4=None\n",
    "# now all refernces to Person(\"Merry\") is removed.\n",
    "# this object will be deleted using __del__() call\n"
   ]
  },
  {
   "cell_type": "markdown",
   "metadata": {},
   "source": [
    "### IMPORTANT\n",
    "\n",
    "* When an object \\_\\_del\\_\\_() is called, the object's life is over\n",
    "* But it may not be removed from the memory immediately\n",
    "* It will be removed when garbage collection takes place\n",
    "    * not sure when\n",
    "\n",
    "* \\_\\_del\\_\\_() is rarely used only for freeing unmanaged resources\n",
    "    * in c++ we use it to free memory\n",
    "    * in python we don't free memory"
   ]
  },
  {
   "cell_type": "markdown",
   "metadata": {},
   "source": [
    "### Conversion Functions\n",
    "\n",
    "* Python allows us to convert our object into different primary types\n",
    "* for each type we are expected to provide a special function\n",
    "* Example\n",
    "    * int(obj) -->  obj.\\_\\_int\\_\\_()\n",
    "        * not present by default\n",
    "    * bool(obj) --> obj.\\_\\_bool\\_()\n",
    "        * not present by default\n",
    "    * float(obj) --> obj.\\_\\_float\\_\\_()\n",
    "        * not present by default\n",
    "\n",
    "#### Most important converter \\_\\_str\\_\\_\n",
    "\n",
    "* It is present by default in all classes\n",
    "* It is automatically called when\n",
    "    * we try to print the object\n",
    "    * use it with f-string\n",
    "\n",
    "* can be invoked explictly\n",
    "\n"
   ]
  },
  {
   "cell_type": "code",
   "execution_count": 15,
   "metadata": {},
   "outputs": [],
   "source": [
    "class Person:\n",
    "    def __init__(self,name):\n",
    "        self.name = name"
   ]
  },
  {
   "cell_type": "code",
   "execution_count": 17,
   "metadata": {},
   "outputs": [
    {
     "name": "stdout",
     "output_type": "stream",
     "text": [
      "<__main__.Person object at 0x0000022ADBC6F230>\n",
      "<__main__.Person object at 0x0000022ADBC6F230>\n"
     ]
    }
   ],
   "source": [
    "\n",
    "\n",
    "p=Person('Vivek')\n",
    "\n",
    "print(p)\n",
    "#same as\n",
    "print(str(p))"
   ]
  },
  {
   "cell_type": "markdown",
   "metadata": {},
   "source": [
    "### This information supplied is not very useful\n",
    "\n",
    "* we can define our own **str** to return a more useful inforamation"
   ]
  },
  {
   "cell_type": "code",
   "execution_count": 18,
   "metadata": {},
   "outputs": [],
   "source": [
    "class Person:\n",
    "    def __init__(self,name):\n",
    "        self.name = name\n",
    "\n",
    "    def __str__(self):\n",
    "        return f'Person({self.name})'"
   ]
  },
  {
   "cell_type": "code",
   "execution_count": 19,
   "metadata": {},
   "outputs": [
    {
     "name": "stdout",
     "output_type": "stream",
     "text": [
      "Person(Vivek Dutta Mishra)\n"
     ]
    }
   ],
   "source": [
    "p=Person('Vivek Dutta Mishra')\n",
    "print(p)"
   ]
  },
  {
   "cell_type": "markdown",
   "metadata": {},
   "source": [
    "### There is no default int converter"
   ]
  },
  {
   "cell_type": "code",
   "execution_count": 20,
   "metadata": {},
   "outputs": [
    {
     "ename": "TypeError",
     "evalue": "int() argument must be a string, a bytes-like object or a real number, not 'Person'",
     "output_type": "error",
     "traceback": [
      "\u001b[1;31m---------------------------------------------------------------------------\u001b[0m",
      "\u001b[1;31mTypeError\u001b[0m                                 Traceback (most recent call last)",
      "Cell \u001b[1;32mIn[20], line 1\u001b[0m\n\u001b[1;32m----> 1\u001b[0m \u001b[38;5;28mprint\u001b[39m(\u001b[38;5;28;43mint\u001b[39;49m\u001b[43m(\u001b[49m\u001b[43mp\u001b[49m\u001b[43m)\u001b[49m)\n",
      "\u001b[1;31mTypeError\u001b[0m: int() argument must be a string, a bytes-like object or a real number, not 'Person'"
     ]
    }
   ],
   "source": [
    "print(int(p))"
   ]
  },
  {
   "cell_type": "markdown",
   "metadata": {},
   "source": [
    "### we may convert an object to int by defining special method\n",
    "\n"
   ]
  },
  {
   "cell_type": "code",
   "execution_count": 21,
   "metadata": {},
   "outputs": [],
   "source": [
    "def get_name_length(person):\n",
    "    return len(person.name)\n",
    "\n",
    "Person.__int__=get_name_length"
   ]
  },
  {
   "cell_type": "code",
   "execution_count": 23,
   "metadata": {},
   "outputs": [
    {
     "name": "stdout",
     "output_type": "stream",
     "text": [
      "18\n"
     ]
    }
   ],
   "source": [
    "print(int(p))"
   ]
  },
  {
   "cell_type": "markdown",
   "metadata": {},
   "source": [
    "### 3. operator overloading\n",
    "\n",
    "* python allows us to define special function to represent common operators\n",
    "* most of these methods are not pre-implmented in a class\n",
    "* but when we define these methods, they can bring a new functionality\n",
    "* This can subcategorized as\n",
    "##### 3.1 Arithmetic\n",
    "\n",
    "* x+y -> x.\\_\\_add\\_\\_(y)\n",
    "* x-y -> x.\\_\\_sub\\_\\_(y)\n",
    "* x*y -> x.\\_\\_mul\\_\\_(y)\n",
    "* x/y -> x.\\_\\_realdiv\\_(y)\n",
    "* x//y -> x.\\_\\_intdiv\\_(y)\n",
    "* ...\n",
    "\n",
    "##### 3.2 Comparision\n",
    "\n",
    "* x==y -> x.\\_\\_eq\\_\\_(y)  <-- **PRESENT BY DEFAULT**\n",
    "* x!=y -> x.\\_\\_ne\\_\\_(y)\n",
    "* x<y -> x.\\_\\_lt\\_\\_(y)\n",
    "* x<=y -> x.\\_\\_le\\_\\_(y)\n",
    "* x>y -> x.\\_\\_gt\\_\\_(y)\n"
   ]
  },
  {
   "cell_type": "markdown",
   "metadata": {},
   "source": [
    "#### Let us define a class to Represent Measurement in Meter"
   ]
  },
  {
   "cell_type": "code",
   "execution_count": 3,
   "metadata": {},
   "outputs": [],
   "source": [
    "class Meter:\n",
    "    def __init__(self, m=0, cm=0):\n",
    "        total_cm=m*100+cm\n",
    "        self.m=total_cm//100\n",
    "        self.cm=total_cm - self.m*100\n",
    "\n",
    "    def __str__(self):\n",
    "        if self.m and self.cm:\n",
    "            return f'{self.m}m {self.cm}cm'\n",
    "        elif self.cm:\n",
    "            return f\"{self.cm}cm\"\n",
    "        else:\n",
    "            return f\"{self.m}m\"          "
   ]
  },
  {
   "cell_type": "code",
   "execution_count": 4,
   "metadata": {},
   "outputs": [
    {
     "name": "stdout",
     "output_type": "stream",
     "text": [
      "0m\n",
      "2m 30cm\n",
      "4.0m 47.0cm\n",
      "30.0cm\n",
      "4m 9cm\n"
     ]
    }
   ],
   "source": [
    "lengths=[ Meter(), Meter(2,30), Meter(4.47), Meter(0.3), Meter(2,209)]\n",
    "\n",
    "for length in lengths:\n",
    "    print(length)"
   ]
  },
  {
   "cell_type": "markdown",
   "metadata": {},
   "source": [
    "#### **==** is present in all function by default"
   ]
  },
  {
   "cell_type": "code",
   "execution_count": 5,
   "metadata": {},
   "outputs": [
    {
     "name": "stdout",
     "output_type": "stream",
     "text": [
      "['__class__', '__delattr__', '__dict__', '__dir__', '__doc__', '__eq__', '__format__', '__ge__', '__getattribute__', '__getstate__', '__gt__', '__hash__', '__init__', '__init_subclass__', '__le__', '__lt__', '__module__', '__ne__', '__new__', '__reduce__', '__reduce_ex__', '__repr__', '__setattr__', '__sizeof__', '__str__', '__subclasshook__', '__weakref__', 'cm', 'm']\n"
     ]
    }
   ],
   "source": [
    "m=Meter()\n",
    "print(dir(m))"
   ]
  },
  {
   "cell_type": "code",
   "execution_count": 6,
   "metadata": {},
   "outputs": [
    {
     "name": "stdout",
     "output_type": "stream",
     "text": [
      "4m==4m => False\n",
      "4m==5m => False\n",
      "5m==5m => True\n"
     ]
    }
   ],
   "source": [
    "m1=Meter(4)\n",
    "m2=Meter(4)\n",
    "m3=Meter(5)\n",
    "m4=m3\n",
    "\n",
    "print(f'{m1}=={m2} => {m1==m2}')\n",
    "print(f'{m2}=={m3} => {m2==m}')\n",
    "print(f'{m3}=={m4} => {m3==m4}')"
   ]
  },
  {
   "cell_type": "markdown",
   "metadata": {},
   "source": [
    "### why 4m==4m => False\n",
    "\n",
    "* By default \\_\\_eq\\_\\_ compares references not values\n",
    "* two reference to same object is ==  \n",
    "    * two different obejcts are !=\n",
    "\n",
    "#### What if we want value to compared?"
   ]
  },
  {
   "cell_type": "code",
   "execution_count": 7,
   "metadata": {},
   "outputs": [],
   "source": [
    "def eq(m1,m2):\n",
    "    return m1.m==m2.m and m1.cm==m2.cm\n",
    "\n",
    "Meter.__eq__= eq"
   ]
  },
  {
   "cell_type": "code",
   "execution_count": 8,
   "metadata": {},
   "outputs": [
    {
     "name": "stdout",
     "output_type": "stream",
     "text": [
      "4m==4m => True\n",
      "4m==5m => False\n",
      "5m==5m => True\n"
     ]
    }
   ],
   "source": [
    "m1=Meter(4)\n",
    "m2=Meter(4)\n",
    "m3=Meter(5)\n",
    "m4=m3\n",
    "\n",
    "print(f'{m1}=={m2} => {m1==m2}')\n",
    "print(f'{m2}=={m3} => {m2==m}')\n",
    "print(f'{m3}=={m4} => {m3==m4}')"
   ]
  },
  {
   "cell_type": "markdown",
   "metadata": {},
   "source": [
    "#### IMPORTANT: != is not ==\n",
    "\n",
    "* if we define __eq__ python uses negation to reprsent !=\n",
    "* x != y ==>  not x.\\_\\_eq\\_\\_(y)"
   ]
  },
  {
   "cell_type": "code",
   "execution_count": 10,
   "metadata": {},
   "outputs": [
    {
     "name": "stdout",
     "output_type": "stream",
     "text": [
      "4m!=4m => False\n",
      "4m!=5m => True\n",
      "5m!=5m => False\n"
     ]
    }
   ],
   "source": [
    "print(f'{m1}!={m2} => {m1!=m2}') # False\n",
    "print(f'{m2}!={m3} => {m2!=m}') # True\n",
    "print(f'{m3}!={m4} => {m3!=m4}') # False"
   ]
  },
  {
   "cell_type": "markdown",
   "metadata": {},
   "source": [
    "### reference comparison => **is**\n",
    "\n",
    "* if we want only reference comparison we should use **is** operation"
   ]
  },
  {
   "cell_type": "code",
   "execution_count": 11,
   "metadata": {},
   "outputs": [
    {
     "name": "stdout",
     "output_type": "stream",
     "text": [
      "False\n",
      "True\n"
     ]
    }
   ],
   "source": [
    "print(m1 is m2) #False\n",
    "print(m3 is m4) #True"
   ]
  },
  {
   "cell_type": "markdown",
   "metadata": {},
   "source": [
    "#### some predefined operators (<,<=,>,>=) throw exception by default\n",
    "\n",
    "* if we need them we have to define them\n",
    "* if we define only \\_\\_lt\\_\\_ and \\_\\_eq\\_\\_ it can handle all the comparision.\n",
    "\n",
    "* x>y => not (x<y or x==y)\n",
    "* x<=y => x<y or x==y\n",
    "* x>=y => not (x<y or x==y\n"
   ]
  },
  {
   "cell_type": "code",
   "execution_count": 12,
   "metadata": {},
   "outputs": [
    {
     "ename": "TypeError",
     "evalue": "'<' not supported between instances of 'Meter' and 'Meter'",
     "output_type": "error",
     "traceback": [
      "\u001b[1;31m---------------------------------------------------------------------------\u001b[0m",
      "\u001b[1;31mTypeError\u001b[0m                                 Traceback (most recent call last)",
      "Cell \u001b[1;32mIn[12], line 1\u001b[0m\n\u001b[1;32m----> 1\u001b[0m \u001b[43mm1\u001b[49m\u001b[38;5;241;43m<\u001b[39;49m\u001b[43mm2\u001b[49m\n",
      "\u001b[1;31mTypeError\u001b[0m: '<' not supported between instances of 'Meter' and 'Meter'"
     ]
    }
   ],
   "source": [
    "m1<m2"
   ]
  },
  {
   "cell_type": "markdown",
   "metadata": {},
   "source": [
    "### Object and Truthfulness\n",
    "\n",
    "* In python boolean values are not represented just by True/False\n",
    "* Other values can also represent Truthfulness (Truthies)\n",
    "* Following values are considered True/False in boolean context\n",
    "    * True\n",
    "        * True\n",
    "        * any non zero number\n",
    "        * any non empty string\n",
    "        * any non empty collection\n",
    "        * any defined object that doesn't \n",
    "            * operator bool defined\n",
    "            * doesn't have len(x) defined\n",
    "\n",
    "    * False\n",
    "        * False\n",
    "        * 0\n",
    "        * ''\n",
    "        * empty colllection\n",
    "        * any object with define __bool__ returning False\n",
    "        * any object with 0 length\n"
   ]
  },
  {
   "cell_type": "code",
   "execution_count": 15,
   "metadata": {},
   "outputs": [],
   "source": [
    "def check_truthfulness(obj):\n",
    "    if obj:\n",
    "        print(f'\"{obj}\" is True')\n",
    "    else:\n",
    "        print(f'\"{obj}\" is False')"
   ]
  },
  {
   "cell_type": "code",
   "execution_count": 16,
   "metadata": {},
   "outputs": [
    {
     "name": "stdout",
     "output_type": "stream",
     "text": [
      "\"20\" is True\n",
      "\"-2\" is True\n",
      "\"0\" is False\n",
      "\"Hi\" is True\n",
      "\"\" is False\n",
      "\"[1, 2]\" is True\n",
      "\"[]\" is False\n",
      "\"None\" is False\n"
     ]
    }
   ],
   "source": [
    "check_truthfulness(20)\n",
    "check_truthfulness(-2)\n",
    "check_truthfulness(0)\n",
    "\n",
    "check_truthfulness('Hi')\n",
    "check_truthfulness('')\n",
    "\n",
    "check_truthfulness([1,2])\n",
    "\n",
    "check_truthfulness([])\n",
    "\n",
    "check_truthfulness(None)\n",
    "\n"
   ]
  },
  {
   "cell_type": "code",
   "execution_count": 17,
   "metadata": {},
   "outputs": [
    {
     "name": "stdout",
     "output_type": "stream",
     "text": [
      "\"2.0m 40.0cm\" is True\n",
      "\"0m\" is True\n"
     ]
    }
   ],
   "source": [
    "check_truthfulness(Meter(2.4))\n",
    "check_truthfulness(Meter())"
   ]
  },
  {
   "cell_type": "markdown",
   "metadata": {},
   "source": [
    "### few objects can have length\n",
    "\n",
    "* Example\n",
    "    * string\n",
    "    * list\n",
    "    * tuple\n",
    "    * **Meter**\n",
    "        * it may represent meter as float\n",
    "\n",
    "* python defines a function to check len() of an object"
   ]
  },
  {
   "cell_type": "code",
   "execution_count": 18,
   "metadata": {},
   "outputs": [
    {
     "name": "stdout",
     "output_type": "stream",
     "text": [
      "3\n",
      "11\n"
     ]
    }
   ],
   "source": [
    "a=[1,2,3]\n",
    "b=\"Hello World\"\n",
    "\n",
    "print(len(a))\n",
    "print(len(b))"
   ]
  },
  {
   "cell_type": "code",
   "execution_count": 19,
   "metadata": {},
   "outputs": [
    {
     "ename": "TypeError",
     "evalue": "object of type 'Meter' has no len()",
     "output_type": "error",
     "traceback": [
      "\u001b[1;31m---------------------------------------------------------------------------\u001b[0m",
      "\u001b[1;31mTypeError\u001b[0m                                 Traceback (most recent call last)",
      "Cell \u001b[1;32mIn[19], line 1\u001b[0m\n\u001b[1;32m----> 1\u001b[0m \u001b[38;5;28mprint\u001b[39m(\u001b[38;5;28;43mlen\u001b[39;49m\u001b[43m(\u001b[49m\u001b[43mMeter\u001b[49m\u001b[43m(\u001b[49m\u001b[38;5;241;43m2.4\u001b[39;49m\u001b[43m)\u001b[49m\u001b[43m)\u001b[49m)\n",
      "\u001b[1;31mTypeError\u001b[0m: object of type 'Meter' has no len()"
     ]
    }
   ],
   "source": [
    "print(len(Meter(2.4)))"
   ]
  },
  {
   "cell_type": "markdown",
   "metadata": {},
   "source": [
    "#### we can define \\_\\_len\\_\\_ function\n",
    "\n",
    "* should return **int**\n",
    "* if present can also be considered as criteria for turthfullness."
   ]
  },
  {
   "cell_type": "code",
   "execution_count": 22,
   "metadata": {},
   "outputs": [],
   "source": [
    "def length(m):\n",
    "    return int( m.m*100+ m.cm)\n",
    "\n",
    "Meter.__len__=length"
   ]
  },
  {
   "cell_type": "code",
   "execution_count": 23,
   "metadata": {},
   "outputs": [
    {
     "data": {
      "text/plain": [
       "240"
      ]
     },
     "execution_count": 23,
     "metadata": {},
     "output_type": "execute_result"
    }
   ],
   "source": [
    "len(Meter(2.4))"
   ]
  },
  {
   "cell_type": "code",
   "execution_count": 24,
   "metadata": {},
   "outputs": [
    {
     "name": "stdout",
     "output_type": "stream",
     "text": [
      "\"2.0m 40.0cm\" is True\n",
      "\"0m\" is False\n"
     ]
    }
   ],
   "source": [
    "check_truthfulness(Meter(2.4))\n",
    "\n",
    "check_truthfulness(Meter())"
   ]
  },
  {
   "cell_type": "markdown",
   "metadata": {},
   "source": [
    "### Adding a few arithmetic operator"
   ]
  },
  {
   "cell_type": "code",
   "execution_count": 25,
   "metadata": {},
   "outputs": [],
   "source": [
    "Meter.__add__ = lambda m1,m2: Meter(m1.m+m2.m, m1.cm+m2.cm)"
   ]
  },
  {
   "cell_type": "code",
   "execution_count": 27,
   "metadata": {},
   "outputs": [
    {
     "name": "stdout",
     "output_type": "stream",
     "text": [
      "7.0m 50.0cm + 2m 75cm => 10.0m 25.0cm\n"
     ]
    }
   ],
   "source": [
    "m1 = Meter(7.5)\n",
    "m2 = Meter(2,75)\n",
    "\n",
    "print(f'{m1} + {m2} => {m1+m2}')"
   ]
  },
  {
   "cell_type": "code",
   "execution_count": 28,
   "metadata": {},
   "outputs": [
    {
     "ename": "TypeError",
     "evalue": "unsupported operand type(s) for -: 'Meter' and 'Meter'",
     "output_type": "error",
     "traceback": [
      "\u001b[1;31m---------------------------------------------------------------------------\u001b[0m",
      "\u001b[1;31mTypeError\u001b[0m                                 Traceback (most recent call last)",
      "Cell \u001b[1;32mIn[28], line 1\u001b[0m\n\u001b[1;32m----> 1\u001b[0m \u001b[43mm1\u001b[49m\u001b[38;5;241;43m-\u001b[39;49m\u001b[43mm2\u001b[49m\n",
      "\u001b[1;31mTypeError\u001b[0m: unsupported operand type(s) for -: 'Meter' and 'Meter'"
     ]
    }
   ],
   "source": [
    "m1-m2"
   ]
  },
  {
   "cell_type": "markdown",
   "metadata": {},
   "source": [
    "#### The completed code"
   ]
  },
  {
   "cell_type": "code",
   "execution_count": 29,
   "metadata": {},
   "outputs": [],
   "source": [
    "class Meter:\n",
    "    def __init__(self, m=0, cm=0):\n",
    "        total_cm=m*100+cm\n",
    "        self.m=int(total_cm//100)\n",
    "        self.cm=total_cm - self.m*100\n",
    "\n",
    "    def __str__(self):\n",
    "        if self.m and self.cm:\n",
    "            return f'{self.m}m {self.cm}cm'\n",
    "        elif self.cm:\n",
    "            return f\"{self.cm}cm\"\n",
    "        else:    \n",
    "            return f\"{self.m}m\"  \n",
    "\n",
    "    def __len__(self):\n",
    "        return int(self.m*100+self.cm)\n",
    "\n",
    "    def __eq__(self, other):\n",
    "        return self.m==other.m and self.cm==other.cm\n",
    "    \n",
    "    def __lt__(self, other):\n",
    "        return  len(self)<len(other)\n",
    "    \n",
    "    def __add__(self, other):\n",
    "        return Meter(self.m+other.m, self.cm+other.cm)\n",
    "    \n",
    "    def __sub__(self, other):\n",
    "        return Meter(self.m-other.m, self.cm-other.cm)\n",
    "    \n",
    "\n",
    "            "
   ]
  },
  {
   "cell_type": "code",
   "execution_count": null,
   "metadata": {},
   "outputs": [],
   "source": []
  }
 ],
 "metadata": {
  "kernelspec": {
   "display_name": "Python 3",
   "language": "python",
   "name": "python3"
  },
  "language_info": {
   "codemirror_mode": {
    "name": "ipython",
    "version": 3
   },
   "file_extension": ".py",
   "mimetype": "text/x-python",
   "name": "python",
   "nbconvert_exporter": "python",
   "pygments_lexer": "ipython3",
   "version": "3.12.1"
  }
 },
 "nbformat": 4,
 "nbformat_minor": 2
}
