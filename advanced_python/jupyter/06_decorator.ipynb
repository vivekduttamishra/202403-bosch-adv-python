{
 "cells": [
  {
   "cell_type": "markdown",
   "metadata": {},
   "source": [
    "### Aspect Orientation Programming\n",
    "\n",
    "* Normally a function (should) have one core responsibility\n",
    "* In a business use case we have many different functions like that\n",
    "\n",
    "#### Use case ---> An eCommerce Application\n",
    "\n",
    "##### Important Functions\n",
    "\n",
    "* search_products()\n",
    "* place_order()\n",
    "* get_order_list()\n",
    "* login()\n",
    "\n",
    "##### Additional Redundant Functions\n",
    "\n",
    "* we will have some common (redundant) tasks across these functions\n",
    "* example\n",
    "    * open database connections\n",
    "    * handle exceptions\n",
    "    * measure performance\n",
    "        * we may want to see how much time some functions take\n",
    "            * search_products\n",
    "            * get_order_list\n",
    "    * handle authentication\n",
    "        * eg.\n",
    "            * few functions should work only if user is authenticated\n",
    "                * place_order\n",
    "                * get_order list\n",
    "\n",
    "\n",
    "##### Problem #1 code scattering\n",
    "\n",
    "* same side asepects need to be applied in multiple functions\n",
    "* example\n",
    "    * authentication is applied to\n",
    "        * place_order\n",
    "        * get_order_list\n",
    "    * performance montior is applied to\n",
    "        * search_products\n",
    "        * get_order_list\n",
    "\n",
    "    * exception handling is applied to\n",
    "        * all most all functionality\n",
    "\n",
    "* Same logic written again and again\n",
    "* If the logic changes we need to change everywehere\n",
    "\n",
    "\n",
    "##### Problem #2 code tangling\n",
    "\n",
    "* each core function performs multiple side jobs apart from core logic\n",
    "* example\n",
    "    * get_order_list\n",
    "        * core logic\n",
    "            * search_orders\n",
    "        * side jobs\n",
    "            * verify authentication\n",
    "            * handle exception\n",
    "            * measure performance\n",
    "\n",
    "* each function has multiple logic\n",
    "    * makes code less redable\n",
    "* when we add new concern it may break old logic.\n",
    "            \n",
    "## Let us see the problem in code."
   ]
  },
  {
   "cell_type": "markdown",
   "metadata": {},
   "source": [
    "##### Let us create an authenticator\n",
    "* it is a singleton model\n",
    "* every one shoudld use same instance of autneticator"
   ]
  },
  {
   "cell_type": "code",
   "execution_count": 17,
   "metadata": {},
   "outputs": [],
   "source": [
    "class InvalidCredentialsException(Exception):\n",
    "    pass\n",
    "\n",
    "class SimpleAuthenticator:\n",
    "    \n",
    "    def __init__(self):\n",
    "        self._user=None # no user logged in\n",
    "\n",
    "    def is_authenticated(self):\n",
    "        return self._user is not None\n",
    "    \n",
    "    def login(self,user,password):\n",
    "        users=dict(vivek='p@ss', sanjay='p@ss')\n",
    "        if user in users:\n",
    "            _pass=users[user]\n",
    "            if _pass==password:\n",
    "                self._user=user\n",
    "                return True\n",
    "            \n",
    "        self._user=None\n",
    "        raise Exception('Invalid Credentials')\n",
    "    \n",
    "    def logout(self):\n",
    "        self._user=None\n",
    "\n",
    "SimpleAuthenticator._instance=SimpleAuthenticator()\n"
   ]
  },
  {
   "cell_type": "code",
   "execution_count": 12,
   "metadata": {},
   "outputs": [
    {
     "data": {
      "text/plain": [
       "True"
      ]
     },
     "execution_count": 12,
     "metadata": {},
     "output_type": "execute_result"
    }
   ],
   "source": [
    "SimpleAuthenticator._instance.login('vivek','p@ss')"
   ]
  },
  {
   "cell_type": "code",
   "execution_count": 13,
   "metadata": {},
   "outputs": [
    {
     "data": {
      "text/plain": [
       "True"
      ]
     },
     "execution_count": 13,
     "metadata": {},
     "output_type": "execute_result"
    }
   ],
   "source": [
    "SimpleAuthenticator._instance.is_authenticated()"
   ]
  },
  {
   "cell_type": "code",
   "execution_count": 14,
   "metadata": {},
   "outputs": [],
   "source": [
    "SimpleAuthenticator._instance.logout()"
   ]
  },
  {
   "cell_type": "code",
   "execution_count": 15,
   "metadata": {},
   "outputs": [
    {
     "data": {
      "text/plain": [
       "False"
      ]
     },
     "execution_count": 15,
     "metadata": {},
     "output_type": "execute_result"
    }
   ],
   "source": [
    "SimpleAuthenticator._instance.is_authenticated()"
   ]
  },
  {
   "cell_type": "code",
   "execution_count": 16,
   "metadata": {},
   "outputs": [
    {
     "ename": "Exception",
     "evalue": "Invalid Credentials",
     "output_type": "error",
     "traceback": [
      "\u001b[1;31m---------------------------------------------------------------------------\u001b[0m",
      "\u001b[1;31mException\u001b[0m                                 Traceback (most recent call last)",
      "Cell \u001b[1;32mIn[16], line 1\u001b[0m\n\u001b[1;32m----> 1\u001b[0m \u001b[43mSimpleAuthenticator\u001b[49m\u001b[38;5;241;43m.\u001b[39;49m\u001b[43m_instance\u001b[49m\u001b[38;5;241;43m.\u001b[39;49m\u001b[43mlogin\u001b[49m\u001b[43m(\u001b[49m\u001b[38;5;124;43m'\u001b[39;49m\u001b[38;5;124;43mprabhat\u001b[39;49m\u001b[38;5;124;43m'\u001b[39;49m\u001b[43m,\u001b[49m\u001b[38;5;124;43m'\u001b[39;49m\u001b[38;5;124;43mp@ss\u001b[39;49m\u001b[38;5;124;43m'\u001b[39;49m\u001b[43m)\u001b[49m\n",
      "Cell \u001b[1;32mIn[11], line 18\u001b[0m, in \u001b[0;36mSimpleAuthenticator.login\u001b[1;34m(self, user, password)\u001b[0m\n\u001b[0;32m     15\u001b[0m         \u001b[38;5;28;01mreturn\u001b[39;00m \u001b[38;5;28;01mTrue\u001b[39;00m\n\u001b[0;32m     17\u001b[0m \u001b[38;5;28mself\u001b[39m\u001b[38;5;241m.\u001b[39m_user\u001b[38;5;241m=\u001b[39m\u001b[38;5;28;01mNone\u001b[39;00m\n\u001b[1;32m---> 18\u001b[0m \u001b[38;5;28;01mraise\u001b[39;00m \u001b[38;5;167;01mException\u001b[39;00m(\u001b[38;5;124m'\u001b[39m\u001b[38;5;124mInvalid Credentials\u001b[39m\u001b[38;5;124m'\u001b[39m)\n",
      "\u001b[1;31mException\u001b[0m: Invalid Credentials"
     ]
    }
   ],
   "source": [
    "SimpleAuthenticator._instance.login('prabhat','p@ss')"
   ]
  },
  {
   "cell_type": "markdown",
   "metadata": {},
   "source": [
    "#### Let us now write our business functions"
   ]
  },
  {
   "cell_type": "code",
   "execution_count": 17,
   "metadata": {},
   "outputs": [],
   "source": [
    "import time\n",
    "\n",
    "def search_products():\n",
    "    #performance monitoring\n",
    "    start=time.time()\n",
    "    #core business logic\n",
    "    result=[]\n",
    "\n",
    "    #exception handling logic\n",
    "    try: \n",
    "        #core business logic\n",
    "        print('searching products')\n",
    "        \n",
    "        for i in range(10):\n",
    "            time.sleep(0.75)\n",
    "            result.append(f'Product#{i+1}')\n",
    "        print('searching products done')\n",
    "\n",
    "    except Exception as e:\n",
    "        print(f'error occured :{e}')\n",
    "    #performance monitoring\n",
    "    end=time.time()\n",
    "    print(f'Total Time taken is {end-start}')\n",
    "    #core business logic\n",
    "    return result\n",
    "\n",
    "def get_order_list():\n",
    "    #performance monitoring\n",
    "    start=time.time()\n",
    "    #core business logic\n",
    "\n",
    "    #authentication validation logic\n",
    "    if not SimpleAuthenticator._instance.is_authenticated():\n",
    "        raise Exception('User is not authenticated')\n",
    "\n",
    "    result=[]\n",
    "\n",
    "    #exception handling logic\n",
    "    try: \n",
    "        #core business logic\n",
    "        print('searching products')\n",
    "        \n",
    "        for i in range(10):\n",
    "            time.sleep(0.5)\n",
    "            result.append(f'Order#{i+1}')\n",
    "        print('searching products done')\n",
    "    except Exception as e:\n",
    "        print(f'error occured :{e}')\n",
    "\n",
    "    #performance monitoring\n",
    "    end=time.time()\n",
    "    print(f'Total Time taken is {end-start}')\n",
    "    #core business logic\n",
    "    return result       \n",
    "    \n"
   ]
  },
  {
   "cell_type": "code",
   "execution_count": 18,
   "metadata": {},
   "outputs": [
    {
     "name": "stdout",
     "output_type": "stream",
     "text": [
      "searching products\n",
      "searching products done\n",
      "Total Time taken is 7.504557132720947\n"
     ]
    },
    {
     "data": {
      "text/plain": [
       "['Product#1',\n",
       " 'Product#2',\n",
       " 'Product#3',\n",
       " 'Product#4',\n",
       " 'Product#5',\n",
       " 'Product#6',\n",
       " 'Product#7',\n",
       " 'Product#8',\n",
       " 'Product#9',\n",
       " 'Product#10']"
      ]
     },
     "execution_count": 18,
     "metadata": {},
     "output_type": "execute_result"
    }
   ],
   "source": [
    "search_products()"
   ]
  },
  {
   "cell_type": "markdown",
   "metadata": {},
   "source": [
    "#### A generic Performance Monitoring Logic\n",
    "\n",
    "* can we  write a generic function to monitor performance of any function?\n",
    "* Simple Performance monitoring had following steps\n",
    "    1. store sthe start timer\n",
    "    2. let the business logic run\n",
    "    3. store the end time\n",
    "    4. print the log\n",
    "    \n",
    "* now we can pass the business logic as call back to performance monitoring "
   ]
  },
  {
   "cell_type": "code",
   "execution_count": 19,
   "metadata": {},
   "outputs": [],
   "source": [
    "def find_performance(fn):\n",
    "    start=time.time()\n",
    "    fn()\n",
    "    end=time.time()\n",
    "    print(f'Total Time taken is {end-start} seconds')"
   ]
  },
  {
   "cell_type": "code",
   "execution_count": 22,
   "metadata": {},
   "outputs": [],
   "source": [
    "def place_order():\n",
    "    print('placing order...')\n",
    "    time.sleep(0.4)\n",
    "    print('order placed')"
   ]
  },
  {
   "cell_type": "code",
   "execution_count": 23,
   "metadata": {},
   "outputs": [
    {
     "name": "stdout",
     "output_type": "stream",
     "text": [
      "placing order...\n",
      "order placed\n"
     ]
    }
   ],
   "source": [
    "#by default placing order will not give you your performance\n",
    "place_order()"
   ]
  },
  {
   "cell_type": "markdown",
   "metadata": {},
   "source": [
    "### Measuring the Performance of a function"
   ]
  },
  {
   "cell_type": "code",
   "execution_count": 26,
   "metadata": {},
   "outputs": [
    {
     "name": "stdout",
     "output_type": "stream",
     "text": [
      "placing order...\n",
      "order placed\n",
      "Total Time taken is 0.40082502365112305 seconds\n"
     ]
    }
   ],
   "source": [
    "find_performance(place_order)"
   ]
  },
  {
   "cell_type": "markdown",
   "metadata": {},
   "source": [
    "#### Problem\n",
    "\n",
    "* user will not want to wrap their call to place_order in find_performance\n",
    "    * what if we have optimized and don't want to find_performance anymore?\n",
    "* user will like to call their function normally\n"
   ]
  },
  {
   "cell_type": "markdown",
   "metadata": {},
   "source": [
    "#### Let us comibine call back and closure together\n",
    "\n",
    "* here we will create a wrapper that will \n",
    "    * wrap the core logic and additional concern together\n",
    "* this wrapper can be considered as a **enchanced version** of my core logic\n",
    "\n",
    "* the wrapper can be defined using a inner function\n",
    "* the outer function can help us simply the wrapping per function\n",
    "\n",
    "\n",
    "#### Code walkthrough\n",
    "\n",
    "1. performance function takes **target** as callback\n",
    "    * this target is my core functionality for which we want to measure performance\n",
    "2. We define a **inner** wrapper\n",
    "    * wrapper had two key elements\n",
    "        1. performance monitoring\n",
    "            * Line 3,5,6\n",
    "        2. core logic invoked on line #4\n",
    "        \n",
    "8. we are returning wrapper function\n",
    "    * wrapper functionc can be considered as an enchanced (more featurefull version) of actual target\n",
    "    * It is still performing the core job\n",
    "    * but it has additional features of performance monitoring"
   ]
  },
  {
   "cell_type": "code",
   "execution_count": 30,
   "metadata": {},
   "outputs": [],
   "source": [
    "def performance(target):\n",
    "    def wrapper():\n",
    "        start=time.time()\n",
    "        target()\n",
    "        end=time.time()\n",
    "        print(f'Total Time taken by {target.__name__} is {end-start} seconds')\n",
    "\n",
    "    return wrapper"
   ]
  },
  {
   "cell_type": "markdown",
   "metadata": {},
   "source": [
    "#### Let us see how this thing works"
   ]
  },
  {
   "cell_type": "code",
   "execution_count": 31,
   "metadata": {},
   "outputs": [
    {
     "name": "stdout",
     "output_type": "stream",
     "text": [
      "placing order...\n",
      "order placed\n"
     ]
    }
   ],
   "source": [
    "#default place_order doesn't measure performance\n",
    "place_order()"
   ]
  },
  {
   "cell_type": "code",
   "execution_count": 33,
   "metadata": {},
   "outputs": [
    {
     "name": "stdout",
     "output_type": "stream",
     "text": [
      "placing order...\n",
      "order placed\n",
      "Total Time taken by place_order is 0.4007441997528076 seconds\n"
     ]
    }
   ],
   "source": [
    "### But we can create an enhanced version of place_order\n",
    "\n",
    "place_order_p = performance(place_order)\n",
    "\n",
    "### now we can use place_order_p instead of place_order whereever we need\n",
    "\n",
    "place_order_p()\n",
    "\n",
    "### place_order_p can still place the order. but can also give you time taken\n"
   ]
  },
  {
   "cell_type": "markdown",
   "metadata": {},
   "source": [
    "#### What if we always want to measure performance for place_order\n",
    "\n",
    "* we may have used place_order() had many places\n",
    "* now we may have to replace place_order() with place_order_p() everywhere\n",
    "* this is undeseriable\n",
    "\n",
    "##### We can replace the reference to the core function with wrapped_logic"
   ]
  },
  {
   "cell_type": "code",
   "execution_count": 36,
   "metadata": {},
   "outputs": [],
   "source": [
    "def long_running_task():\n",
    "    print('long running task started')\n",
    "    time.sleep(2.5)\n",
    "    print('long running task finished')\n",
    "\n",
    "#replace original function with wrapped function\n",
    "long_running_task = performance(long_running_task)\n",
    "\n",
    "#now when user calls my core function, they actually call this wrapped function\n"
   ]
  },
  {
   "cell_type": "code",
   "execution_count": 37,
   "metadata": {},
   "outputs": [
    {
     "name": "stdout",
     "output_type": "stream",
     "text": [
      "long running task started\n",
      "long running task finished\n",
      "Total Time taken by long_running_task is 2.5009372234344482 seconds\n"
     ]
    }
   ],
   "source": [
    "long_running_task()"
   ]
  },
  {
   "cell_type": "markdown",
   "metadata": {},
   "source": [
    "#### Important Note\n",
    "\n",
    "* here long_running_task is not actually the long_running_task\n",
    "* it is the wrapper function that **performance()** returned.\n",
    "\n",
    "##### Can you provde that that long_running_task is not actually long_running_task\n",
    "\n",
    "* just check the function name"
   ]
  },
  {
   "cell_type": "code",
   "execution_count": 38,
   "metadata": {},
   "outputs": [
    {
     "data": {
      "text/plain": [
       "'wrapper'"
      ]
     },
     "execution_count": 38,
     "metadata": {},
     "output_type": "execute_result"
    }
   ],
   "source": [
    "long_running_task.__name__"
   ]
  },
  {
   "cell_type": "markdown",
   "metadata": {},
   "source": [
    "### Decorator Design Pattern\n",
    "\n",
    "* it is a standard design pattern to enchance the functionality using wrappers\n",
    "* Currently we have achieved he result using  a combination of callback closure\n",
    "\n",
    "### Python Decorator syntax.\n",
    "\n",
    "* in the previous example, we wrapped the elements manually\n",
    "\n",
    "```python\n",
    "def some_function():\n",
    "    # some business logic here\n",
    "\n",
    "some_function= decorate_with_new_function(some_function)\n",
    "```\n",
    "\n",
    "* This thing can done by using a smart syntax\n",
    "\n",
    "```python\n",
    "@decorate_with_new_function\n",
    "def some_function():\n",
    "    # some business logic here\n",
    "```"
   ]
  },
  {
   "cell_type": "code",
   "execution_count": 39,
   "metadata": {},
   "outputs": [],
   "source": [
    "@performance\n",
    "def long_running_task2():\n",
    "    '''\n",
    "    This is the long running task 2\n",
    "    And it has been automatically \n",
    "    Decorated with performance\n",
    "    \n",
    "    '''\n",
    "    print('long running task 2 started')\n",
    "    time.sleep(4.5)\n",
    "    print('long running task 2 finished')\n"
   ]
  },
  {
   "cell_type": "markdown",
   "metadata": {},
   "source": [
    "#### The above code is exactly same as\n",
    "```python\n",
    "def long_running_task2():\n",
    "    pass\n",
    "\n",
    "long_running_task2 = performance(long_running_task2)\n",
    "```\n"
   ]
  },
  {
   "cell_type": "code",
   "execution_count": 40,
   "metadata": {},
   "outputs": [
    {
     "name": "stdout",
     "output_type": "stream",
     "text": [
      "long running task 2 started\n",
      "long running task 2 finished\n",
      "Total Time taken by long_running_task2 is 4.500742673873901 seconds\n"
     ]
    }
   ],
   "source": [
    "long_running_task2()"
   ]
  },
  {
   "cell_type": "markdown",
   "metadata": {},
   "source": [
    "#### we can see the functions internal name is different"
   ]
  },
  {
   "cell_type": "code",
   "execution_count": 41,
   "metadata": {},
   "outputs": [
    {
     "data": {
      "text/plain": [
       "'wrapper'"
      ]
     },
     "execution_count": 41,
     "metadata": {},
     "output_type": "execute_result"
    }
   ],
   "source": [
    "long_running_task2.__name__"
   ]
  },
  {
   "cell_type": "markdown",
   "metadata": {},
   "source": [
    "#### We can get the help on this function right now\n",
    "* the actual function is now hidden\n",
    "* wrapper doesn't have same docstring"
   ]
  },
  {
   "cell_type": "code",
   "execution_count": 42,
   "metadata": {},
   "outputs": [
    {
     "name": "stdout",
     "output_type": "stream",
     "text": [
      "Help on function wrapper in module __main__:\n",
      "\n",
      "wrapper()\n",
      "\n"
     ]
    }
   ],
   "source": [
    "help(long_running_task2)"
   ]
  },
  {
   "cell_type": "markdown",
   "metadata": {},
   "source": [
    "#### How can we fix this?\n",
    "\n",
    "* we can copy the name and docstring from original function to wrapper"
   ]
  },
  {
   "cell_type": "code",
   "execution_count": 43,
   "metadata": {},
   "outputs": [],
   "source": [
    "def performance(target):\n",
    "    def wrapper():\n",
    "        start=time.time()\n",
    "        target()\n",
    "        end=time.time()\n",
    "        print(f'Total Time taken by {target.__name__} is {end-start} seconds')\n",
    "\n",
    "    wrapper.__name__=target.__name__\n",
    "    wrapper.__doc__=target.__doc__\n",
    "    return wrapper"
   ]
  },
  {
   "cell_type": "code",
   "execution_count": 44,
   "metadata": {},
   "outputs": [],
   "source": [
    "@performance\n",
    "def long_running_task2():\n",
    "    '''\n",
    "    This is the long running task 2\n",
    "    And it has been automatically \n",
    "    Decorated with performance\n",
    "    \n",
    "    '''\n",
    "    print('long running task 2 started')\n",
    "    time.sleep(4.5)\n",
    "    print('long running task 2 finished')\n"
   ]
  },
  {
   "cell_type": "markdown",
   "metadata": {},
   "source": [
    "#### Now we will not be able to see this function different from orginal"
   ]
  },
  {
   "cell_type": "code",
   "execution_count": 45,
   "metadata": {},
   "outputs": [
    {
     "name": "stdout",
     "output_type": "stream",
     "text": [
      "long running task 2 started\n",
      "long running task 2 finished\n",
      "Total Time taken by long_running_task2 is 4.50159478187561 seconds\n"
     ]
    }
   ],
   "source": [
    "long_running_task2()"
   ]
  },
  {
   "cell_type": "code",
   "execution_count": 46,
   "metadata": {},
   "outputs": [
    {
     "data": {
      "text/plain": [
       "'long_running_task2'"
      ]
     },
     "execution_count": 46,
     "metadata": {},
     "output_type": "execute_result"
    }
   ],
   "source": [
    "long_running_task2.__name__"
   ]
  },
  {
   "cell_type": "code",
   "execution_count": 47,
   "metadata": {},
   "outputs": [
    {
     "name": "stdout",
     "output_type": "stream",
     "text": [
      "Help on function long_running_task2 in module __main__:\n",
      "\n",
      "long_running_task2()\n",
      "    This is the long running task 2\n",
      "    And it has been automatically\n",
      "    Decorated with performance\n",
      "\n"
     ]
    }
   ],
   "source": [
    "help(long_running_task2)"
   ]
  },
  {
   "cell_type": "markdown",
   "metadata": {},
   "source": [
    "### This code however will fail if function takes and argument or returns an argument\n",
    "\n",
    "* consider our current decorator\n",
    "---\n",
    "```python\n",
    "def performance(target):\n",
    "    def wrapper():\n",
    "        start=time.time()\n",
    "        target()\n",
    "        end=time.time()\n",
    "        print(f'Total Time taken by {target.__name__} is {end-start} seconds')\n",
    "\n",
    "    wrapper.__name__=target.__name__\n",
    "    wrapper.__doc__=target.__doc__\n",
    "    return wrapper\n",
    "```\n",
    "---\n",
    "\n",
    "* now consider a decorated function\n",
    "---\n",
    "```python\n",
    "@performance\n",
    "def sum(x,y):\n",
    "    return x+y\n",
    "```\n",
    "---\n",
    "\n",
    "* after decorating any function, what we really get is **wrapper**\n",
    "\n",
    "* when user will call sum(2,3), they are passing two parameter\n",
    "    * but wraper doesn't take any parameer. It will result in error\n",
    "\n",
    "* wrapper doesn't return a result\n",
    "    * it will always return None\n",
    "\n"
   ]
  },
  {
   "cell_type": "code",
   "execution_count": 48,
   "metadata": {},
   "outputs": [],
   "source": [
    "@performance\n",
    "def plus(x,y):\n",
    "    return x+y"
   ]
  },
  {
   "cell_type": "code",
   "execution_count": 49,
   "metadata": {},
   "outputs": [
    {
     "ename": "TypeError",
     "evalue": "performance.<locals>.wrapper() takes 0 positional arguments but 2 were given",
     "output_type": "error",
     "traceback": [
      "\u001b[1;31m---------------------------------------------------------------------------\u001b[0m",
      "\u001b[1;31mTypeError\u001b[0m                                 Traceback (most recent call last)",
      "Cell \u001b[1;32mIn[49], line 1\u001b[0m\n\u001b[1;32m----> 1\u001b[0m \u001b[43mplus\u001b[49m\u001b[43m(\u001b[49m\u001b[38;5;241;43m2\u001b[39;49m\u001b[43m,\u001b[49m\u001b[38;5;241;43m3\u001b[39;49m\u001b[43m)\u001b[49m\n",
      "\u001b[1;31mTypeError\u001b[0m: performance.<locals>.wrapper() takes 0 positional arguments but 2 were given"
     ]
    }
   ],
   "source": [
    "plus(2,3)"
   ]
  },
  {
   "cell_type": "markdown",
   "metadata": {},
   "source": [
    "#### How to fix this problem\n",
    "\n",
    "1. We must pass the same parameters to the wrapper that actual target will take\n",
    "2. We must return the result returned by actual target\n",
    "\n",
    "\n",
    "#### Attempt #1"
   ]
  },
  {
   "cell_type": "code",
   "execution_count": 50,
   "metadata": {},
   "outputs": [],
   "source": [
    "def performance(target):\n",
    "    def wrapper(x,y):\n",
    "        start=time.time()\n",
    "        result=target(x,y)\n",
    "        end=time.time()\n",
    "        print(f'Total Time taken by {target.__name__} is {end-start} seconds')\n",
    "        return result\n",
    "    wrapper.__name__=target.__name__\n",
    "    wrapper.__doc__=target.__doc__\n",
    "    return wrapper"
   ]
  },
  {
   "cell_type": "code",
   "execution_count": 51,
   "metadata": {},
   "outputs": [],
   "source": [
    "@performance\n",
    "def sum(x,y):\n",
    "    return x+y"
   ]
  },
  {
   "cell_type": "code",
   "execution_count": 52,
   "metadata": {},
   "outputs": [
    {
     "name": "stdout",
     "output_type": "stream",
     "text": [
      "Total Time taken by sum is 0.0 seconds\n"
     ]
    },
    {
     "data": {
      "text/plain": [
       "5"
      ]
     },
     "execution_count": 52,
     "metadata": {},
     "output_type": "execute_result"
    }
   ],
   "source": [
    "sum(2,3)"
   ]
  },
  {
   "cell_type": "markdown",
   "metadata": {},
   "source": [
    "#### Problem\n",
    "* Now the problem is it works with only those targets that take exactly two parameters\n",
    "* it will not work if there is parameter mistmatch\n"
   ]
  },
  {
   "cell_type": "code",
   "execution_count": 53,
   "metadata": {},
   "outputs": [
    {
     "ename": "TypeError",
     "evalue": "performance.<locals>.wrapper() missing 1 required positional argument: 'y'",
     "output_type": "error",
     "traceback": [
      "\u001b[1;31m---------------------------------------------------------------------------\u001b[0m",
      "\u001b[1;31mTypeError\u001b[0m                                 Traceback (most recent call last)",
      "Cell \u001b[1;32mIn[53], line 5\u001b[0m\n\u001b[0;32m      1\u001b[0m \u001b[38;5;129m@performance\u001b[39m\n\u001b[0;32m      2\u001b[0m \u001b[38;5;28;01mdef\u001b[39;00m \u001b[38;5;21minverse\u001b[39m(x):\n\u001b[0;32m      3\u001b[0m     \u001b[38;5;28;01mreturn\u001b[39;00m \u001b[38;5;241m1\u001b[39m\u001b[38;5;241m/\u001b[39mx\n\u001b[1;32m----> 5\u001b[0m \u001b[43minverse\u001b[49m\u001b[43m(\u001b[49m\u001b[38;5;241;43m5\u001b[39;49m\u001b[43m)\u001b[49m\n",
      "\u001b[1;31mTypeError\u001b[0m: performance.<locals>.wrapper() missing 1 required positional argument: 'y'"
     ]
    }
   ],
   "source": [
    "@performance\n",
    "def inverse(x):\n",
    "    return 1/x\n",
    "\n",
    "inverse(5)"
   ]
  },
  {
   "cell_type": "markdown",
   "metadata": {},
   "source": [
    "#### A Generic Decorator\n",
    "\n",
    "* Since we don't know what parameters user may pass, to make it generic we should pass\n",
    "    * \\*args to handle all positional parameters\n",
    "    * \\*\\*kwargs to handle all keyword parameters\n",
    "\n",
    "* Generic design of a decorator\n",
    "\n",
    "```python\n",
    "def some_decorator( target ):\n",
    "    def wrapper( *args, **kwargs ):\n",
    "        #1. do some additional work here, if needed\n",
    "        \n",
    "        #2 call the actual function\n",
    "        result = target( *args, **kwargs )\n",
    "        \n",
    "        #3. do some additional work here, if needed\n",
    "\n",
    "        #4. return the result        \n",
    "        return result\n",
    "    #apply name and docs\n",
    "    wrapper.__name__=target.__name__\n",
    "    wrapper.__doc__=target.__doc__\n",
    "    return wrapper\n",
    "```\n",
    "\n",
    "* We may also additionally handle exceptions if needed.\n",
    "\n",
    "* we have a special built-in decorator to handle\n",
    "\n",
    "```python\n",
    "#apply name and docs\n",
    "wrapper.__name__=target.__name__\n",
    "wrapper.__doc__=target.__doc__\n",
    "```\n",
    "\n",
    "* we can replace it by adding **@wraps** decorator over wrapper function\n",
    "    * this decorator is present in **functools** module\n",
    "\n",
    "\n",
    "#### Final Version of Few Decorators\n",
    "\n",
    "\n",
    "##### performance monitor\n"
   ]
  },
  {
   "cell_type": "code",
   "execution_count": 8,
   "metadata": {},
   "outputs": [],
   "source": [
    "import time\n",
    "from functools import wraps\n",
    "def performance(target):\n",
    "    \n",
    "    def wrapper( *args, **kwargs ):\n",
    "        #1. do some additional work here, if needed\n",
    "        start=time.time()\n",
    "        try:\n",
    "            #2 call the actual function\n",
    "            result = target( *args, **kwargs )\n",
    "            return result\n",
    "        finally:            \n",
    "            #3. do some additional work here, if needed\n",
    "            end=time.time()\n",
    "            print(f'Total Time taken by {target.__name__}({args},{kwargs}) is {end-start} seconds')\n",
    "\n",
    "    #wrapper.__name__=target.__name__\n",
    "    #wrapper.__doc__=target.__doc__\n",
    "\n",
    "    return wrapper"
   ]
  },
  {
   "cell_type": "markdown",
   "metadata": {},
   "source": [
    "##### 2. authenicated\n",
    "\n",
    "* rejects the call if you are not authenicated"
   ]
  },
  {
   "cell_type": "code",
   "execution_count": 9,
   "metadata": {},
   "outputs": [],
   "source": [
    "from functools import wraps\n",
    "\n",
    "def authenicated(target):\n",
    "    \n",
    "    def wrapper( *args, **kwargs ):\n",
    "        #1. do some additional work here, if needed\n",
    "        if not SimpleAuthenticator._instance.is_authenticated():\n",
    "            raise InvalidCredentialsException(f'Invalid Credentials')\n",
    "        \n",
    "        #2 call the actual function\n",
    "        return target( *args, **kwargs )\n",
    "    \n",
    "    return wrapper\n",
    "        "
   ]
  },
  {
   "cell_type": "markdown",
   "metadata": {},
   "source": [
    "#### Additional Parameters to decorator\n",
    "\n",
    "* sometimes we want to provide addtional information while decorating a code.\n",
    "* Example \n",
    "\n",
    "##### We want to add simulated delay (for testing purposes) to a code\n",
    "\n",
    "* these delay should be user defined\n",
    "* example\n",
    "    * long running task#1 should delay 2 seconds\n",
    "    * long running task#2 should delay 4 seconds\n",
    "\n",
    "* now decorator can't hard code this value\n",
    "\n",
    "* We want to do something like this\n",
    "\n",
    "---\n",
    "```python\n",
    "@delay(2)\n",
    "def task1():\n",
    "    pass\n",
    "\n",
    "@delay(3)\n",
    "def task2():\n",
    "    pass\n",
    "```\n",
    "---\n",
    "\n",
    "* To do this we need to apply one more wrapper\n",
    "\n",
    "* now we will have three function.\n",
    "    * parameterized_decorator(extra_parameter) --> target_wrapper(target) -->  wrapper(*args,**kwargs)\n",
    "\n",
    "---\n",
    "```python\n",
    "def my_decorator(extra_parameter):\n",
    "    def target_wrapper( target):\n",
    "        @wraps\n",
    "        def wrapper( *args, **kwargs ):\n",
    "            #your decorator logic\n",
    "            result = wrapper(*args, **kwargs)\n",
    "            return result\n",
    "        return wrapper\n",
    "    return target_wrapper\n",
    "```\n",
    "---\n",
    "\n"
   ]
  },
  {
   "cell_type": "markdown",
   "metadata": {},
   "source": [
    "#### Delay decorator\n"
   ]
  },
  {
   "cell_type": "code",
   "execution_count": 10,
   "metadata": {},
   "outputs": [],
   "source": [
    "def delay(seconds):\n",
    "    def target_wrapper(target):\n",
    "        #@wraps\n",
    "        def wrapper(*args, **kwargs):\n",
    "            #decorator logic\n",
    "            time.sleep(seconds)\n",
    "            #actual target call\n",
    "            return target(*args, **kwargs)\n",
    "\n",
    "        return wrapper\n",
    "\n",
    "    return target_wrapper"
   ]
  },
  {
   "cell_type": "markdown",
   "metadata": {},
   "source": [
    "#### a logger decorator\n"
   ]
  },
  {
   "cell_type": "code",
   "execution_count": 11,
   "metadata": {},
   "outputs": [],
   "source": [
    "def log_call(target):\n",
    "    #@wraps(target)\n",
    "    def wrapper(*args, **kwargs):\n",
    "        print(f'Calling {target.__name__}({args},{kwargs})')\n",
    "        result = target(*args, **kwargs)\n",
    "        print(f'Finsihed {target.__name__}({args},{kwargs})')\n",
    "        return result\n",
    "    return wrapper"
   ]
  },
  {
   "cell_type": "markdown",
   "metadata": {},
   "source": [
    "#### Multiple Decoration\n",
    "\n",
    "* we can decorate same function mulitple decorators.\n",
    "* each will be wrapping one by one in the order they are applied.\n",
    "\n",
    "```python\n",
    "@decorator1\n",
    "@decorator2\n",
    "@decorator3\n",
    "def fn():\n",
    "    pass\n",
    "\n",
    "```\n",
    "* is same as\n",
    "\n",
    "```python\n",
    "def fn():\n",
    "    pass\n",
    "\n",
    "fn = decorator1(decorator2(decorator3(fn)))\n",
    "```"
   ]
  },
  {
   "cell_type": "markdown",
   "metadata": {},
   "source": [
    "#### Back to ecommerce application"
   ]
  },
  {
   "cell_type": "code",
   "execution_count": 12,
   "metadata": {},
   "outputs": [],
   "source": [
    "def search_products(qry):\n",
    "    result=[]\n",
    "    for i in range(1,11):\n",
    "        result.append(f'Product {i}')\n",
    "        time.sleep(0.5)\n",
    "    return result"
   ]
  },
  {
   "cell_type": "code",
   "execution_count": 13,
   "metadata": {},
   "outputs": [
    {
     "data": {
      "text/plain": [
       "['Product 1',\n",
       " 'Product 2',\n",
       " 'Product 3',\n",
       " 'Product 4',\n",
       " 'Product 5',\n",
       " 'Product 6',\n",
       " 'Product 7',\n",
       " 'Product 8',\n",
       " 'Product 9',\n",
       " 'Product 10']"
      ]
     },
     "execution_count": 13,
     "metadata": {},
     "output_type": "execute_result"
    }
   ],
   "source": [
    "search_products('mobile')"
   ]
  },
  {
   "cell_type": "markdown",
   "metadata": {},
   "source": [
    "#### decorated versions"
   ]
  },
  {
   "cell_type": "code",
   "execution_count": 14,
   "metadata": {},
   "outputs": [],
   "source": [
    "\n",
    "@performance\n",
    "def search_products(qry):\n",
    "    result=[]\n",
    "    for i in range(1,11):\n",
    "        result.append(f'{qry} {i}')\n",
    "        time.sleep(0.5)\n",
    "    return result\n",
    "\n",
    "\n",
    "@performance\n",
    "@delay(3)\n",
    "@authenicated\n",
    "def search_orders(qry):\n",
    "    result=[]\n",
    "    for i in range(1,5):\n",
    "        result.append(f'Order {qry} {i}')\n",
    "        \n",
    "    return result"
   ]
  },
  {
   "cell_type": "code",
   "execution_count": 15,
   "metadata": {},
   "outputs": [
    {
     "name": "stdout",
     "output_type": "stream",
     "text": [
      "Total Time taken by search_products(('Samsung Mobile',),{}) is 5.00384521484375 seconds\n"
     ]
    },
    {
     "data": {
      "text/plain": [
       "['Samsung Mobile 1',\n",
       " 'Samsung Mobile 2',\n",
       " 'Samsung Mobile 3',\n",
       " 'Samsung Mobile 4',\n",
       " 'Samsung Mobile 5',\n",
       " 'Samsung Mobile 6',\n",
       " 'Samsung Mobile 7',\n",
       " 'Samsung Mobile 8',\n",
       " 'Samsung Mobile 9',\n",
       " 'Samsung Mobile 10']"
      ]
     },
     "execution_count": 15,
     "metadata": {},
     "output_type": "execute_result"
    }
   ],
   "source": [
    "search_products(\"Samsung Mobile\")"
   ]
  },
  {
   "cell_type": "code",
   "execution_count": 18,
   "metadata": {},
   "outputs": [
    {
     "name": "stdout",
     "output_type": "stream",
     "text": [
      "Total Time taken by wrapper(('Vivek',),{}) is 3.000960350036621 seconds\n"
     ]
    },
    {
     "ename": "InvalidCredentialsException",
     "evalue": "Invalid Credentials",
     "output_type": "error",
     "traceback": [
      "\u001b[1;31m---------------------------------------------------------------------------\u001b[0m",
      "\u001b[1;31mInvalidCredentialsException\u001b[0m               Traceback (most recent call last)",
      "Cell \u001b[1;32mIn[18], line 1\u001b[0m\n\u001b[1;32m----> 1\u001b[0m \u001b[43msearch_orders\u001b[49m\u001b[43m(\u001b[49m\u001b[38;5;124;43m\"\u001b[39;49m\u001b[38;5;124;43mVivek\u001b[39;49m\u001b[38;5;124;43m\"\u001b[39;49m\u001b[43m)\u001b[49m\n",
      "Cell \u001b[1;32mIn[8], line 10\u001b[0m, in \u001b[0;36mperformance.<locals>.wrapper\u001b[1;34m(*args, **kwargs)\u001b[0m\n\u001b[0;32m      7\u001b[0m start\u001b[38;5;241m=\u001b[39mtime\u001b[38;5;241m.\u001b[39mtime()\n\u001b[0;32m      8\u001b[0m \u001b[38;5;28;01mtry\u001b[39;00m:\n\u001b[0;32m      9\u001b[0m     \u001b[38;5;66;03m#2 call the actual function\u001b[39;00m\n\u001b[1;32m---> 10\u001b[0m     result \u001b[38;5;241m=\u001b[39m \u001b[43mtarget\u001b[49m\u001b[43m(\u001b[49m\u001b[43m \u001b[49m\u001b[38;5;241;43m*\u001b[39;49m\u001b[43margs\u001b[49m\u001b[43m,\u001b[49m\u001b[43m \u001b[49m\u001b[38;5;241;43m*\u001b[39;49m\u001b[38;5;241;43m*\u001b[39;49m\u001b[43mkwargs\u001b[49m\u001b[43m \u001b[49m\u001b[43m)\u001b[49m\n\u001b[0;32m     11\u001b[0m     \u001b[38;5;28;01mreturn\u001b[39;00m result\n\u001b[0;32m     12\u001b[0m \u001b[38;5;28;01mfinally\u001b[39;00m:            \n\u001b[0;32m     13\u001b[0m     \u001b[38;5;66;03m#3. do some additional work here, if needed\u001b[39;00m\n",
      "Cell \u001b[1;32mIn[10], line 8\u001b[0m, in \u001b[0;36mdelay.<locals>.target_wrapper.<locals>.wrapper\u001b[1;34m(*args, **kwargs)\u001b[0m\n\u001b[0;32m      6\u001b[0m time\u001b[38;5;241m.\u001b[39msleep(seconds)\n\u001b[0;32m      7\u001b[0m \u001b[38;5;66;03m#actual target call\u001b[39;00m\n\u001b[1;32m----> 8\u001b[0m \u001b[38;5;28;01mreturn\u001b[39;00m \u001b[43mtarget\u001b[49m\u001b[43m(\u001b[49m\u001b[38;5;241;43m*\u001b[39;49m\u001b[43margs\u001b[49m\u001b[43m,\u001b[49m\u001b[43m \u001b[49m\u001b[38;5;241;43m*\u001b[39;49m\u001b[38;5;241;43m*\u001b[39;49m\u001b[43mkwargs\u001b[49m\u001b[43m)\u001b[49m\n",
      "Cell \u001b[1;32mIn[9], line 8\u001b[0m, in \u001b[0;36mauthenicated.<locals>.wrapper\u001b[1;34m(*args, **kwargs)\u001b[0m\n\u001b[0;32m      5\u001b[0m \u001b[38;5;28;01mdef\u001b[39;00m \u001b[38;5;21mwrapper\u001b[39m( \u001b[38;5;241m*\u001b[39margs, \u001b[38;5;241m*\u001b[39m\u001b[38;5;241m*\u001b[39mkwargs ):\n\u001b[0;32m      6\u001b[0m     \u001b[38;5;66;03m#1. do some additional work here, if needed\u001b[39;00m\n\u001b[0;32m      7\u001b[0m     \u001b[38;5;28;01mif\u001b[39;00m \u001b[38;5;129;01mnot\u001b[39;00m SimpleAuthenticator\u001b[38;5;241m.\u001b[39m_instance\u001b[38;5;241m.\u001b[39mis_authenticated():\n\u001b[1;32m----> 8\u001b[0m         \u001b[38;5;28;01mraise\u001b[39;00m InvalidCredentialsException(\u001b[38;5;124mf\u001b[39m\u001b[38;5;124m'\u001b[39m\u001b[38;5;124mInvalid Credentials\u001b[39m\u001b[38;5;124m'\u001b[39m)\n\u001b[0;32m     10\u001b[0m     \u001b[38;5;66;03m#2 call the actual function\u001b[39;00m\n\u001b[0;32m     11\u001b[0m     \u001b[38;5;28;01mreturn\u001b[39;00m target( \u001b[38;5;241m*\u001b[39margs, \u001b[38;5;241m*\u001b[39m\u001b[38;5;241m*\u001b[39mkwargs )\n",
      "\u001b[1;31mInvalidCredentialsException\u001b[0m: Invalid Credentials"
     ]
    }
   ],
   "source": [
    "search_orders(\"Vivek\")"
   ]
  },
  {
   "cell_type": "code",
   "execution_count": 19,
   "metadata": {},
   "outputs": [
    {
     "data": {
      "text/plain": [
       "True"
      ]
     },
     "execution_count": 19,
     "metadata": {},
     "output_type": "execute_result"
    }
   ],
   "source": [
    "SimpleAuthenticator._instance.login('vivek','p@ss')"
   ]
  },
  {
   "cell_type": "code",
   "execution_count": 20,
   "metadata": {},
   "outputs": [
    {
     "name": "stdout",
     "output_type": "stream",
     "text": [
      "Total Time taken by wrapper(('Vivek',),{}) is 3.000385284423828 seconds\n"
     ]
    },
    {
     "data": {
      "text/plain": [
       "['Order Vivek 1', 'Order Vivek 2', 'Order Vivek 3', 'Order Vivek 4']"
      ]
     },
     "execution_count": 20,
     "metadata": {},
     "output_type": "execute_result"
    }
   ],
   "source": [
    "search_orders('Vivek')"
   ]
  },
  {
   "cell_type": "markdown",
   "metadata": {},
   "source": [
    "#### Handle exception decorator\n",
    "\n",
    "* we may want to long and return a default value in case of an error rather than throwing it"
   ]
  },
  {
   "cell_type": "code",
   "execution_count": 23,
   "metadata": {},
   "outputs": [],
   "source": [
    "def supress_exception(ExceptionType=Exception, error_result=[]):\n",
    "    def target_wrapper(target):\n",
    "        def wrapper(*args, **kwargs):\n",
    "            try:\n",
    "                return target(*args, **kwargs)\n",
    "            \n",
    "            except ExceptionType as e:\n",
    "                print(f'LOG: Error {e}')\n",
    "                return error_result\n",
    "            \n",
    "        return wrapper\n",
    "    return target_wrapper"
   ]
  },
  {
   "cell_type": "code",
   "execution_count": 24,
   "metadata": {},
   "outputs": [],
   "source": [
    "@performance\n",
    "@delay(3)\n",
    "@supress_exception(InvalidCredentialsException, [])\n",
    "@authenicated\n",
    "def search_orders(qry):\n",
    "    result=[]\n",
    "    for i in range(1,5):\n",
    "        result.append(f'Order {qry} {i}')\n",
    "        \n",
    "    return result"
   ]
  },
  {
   "cell_type": "code",
   "execution_count": 25,
   "metadata": {},
   "outputs": [
    {
     "name": "stdout",
     "output_type": "stream",
     "text": [
      "Total Time taken by wrapper(('Vivek',),{}) is 3.00089955329895 seconds\n"
     ]
    },
    {
     "data": {
      "text/plain": [
       "['Order Vivek 1', 'Order Vivek 2', 'Order Vivek 3', 'Order Vivek 4']"
      ]
     },
     "execution_count": 25,
     "metadata": {},
     "output_type": "execute_result"
    }
   ],
   "source": [
    "search_orders('Vivek')"
   ]
  },
  {
   "cell_type": "code",
   "execution_count": 26,
   "metadata": {},
   "outputs": [],
   "source": [
    "SimpleAuthenticator._instance.logout()"
   ]
  },
  {
   "cell_type": "code",
   "execution_count": 27,
   "metadata": {},
   "outputs": [
    {
     "name": "stdout",
     "output_type": "stream",
     "text": [
      "LOG: Error Invalid Credentials\n",
      "Total Time taken by wrapper(('Vivek',),{}) is 3.000981330871582 seconds\n"
     ]
    },
    {
     "data": {
      "text/plain": [
       "[]"
      ]
     },
     "execution_count": 27,
     "metadata": {},
     "output_type": "execute_result"
    }
   ],
   "source": [
    "search_orders('Vivek')"
   ]
  },
  {
   "cell_type": "markdown",
   "metadata": {},
   "source": [
    "### A Class Decorator\n",
    "\n",
    "* sometimes we may want to create a class Decorator to add functionalities in a class\n",
    "* let us say one common function we need in every class is \\_\\_str\\_\\_\n",
    "* by default str returns a useless piece of information\n",
    "* I want my \\_\\_str\\_\\_ to return all properties and their value\n",
    "\n",
    "```python\n",
    "book=Book('The Accursed God', 'Vivek Dutta Mishra', 399)\n",
    "print(book) # Book[ title: 'The Accursed God', author: 'Vivek Dutta Mishra, price: 399] \n",
    "```\n",
    "\n",
    "* we may write a \\_\\_str\\_\\_ function to do this in every class. \n",
    "    * but that would be redundant.\n",
    "\n",
    "* we can handle this using a decorator\n",
    "\n",
    "#### Phase#1 How to find all properties prsent in a object?\n",
    "\n",
    "* every object has a special member called \\_\\_dict\\_\\_.\n",
    "* It includes all defined proeprties and methods "
   ]
  },
  {
   "cell_type": "code",
   "execution_count": 31,
   "metadata": {},
   "outputs": [],
   "source": [
    "class Book:\n",
    "    def __init__(self,title,author,price):\n",
    "        self.title=title\n",
    "        self.author=author\n",
    "        self.price=price\n",
    "    "
   ]
  },
  {
   "cell_type": "code",
   "execution_count": 32,
   "metadata": {},
   "outputs": [
    {
     "name": "stdout",
     "output_type": "stream",
     "text": [
      "<__main__.Book object at 0x0000027ED2EDD070>\n"
     ]
    }
   ],
   "source": [
    "b=Book('The Accursed God','Vivek Dutta Mishra',399)\n",
    "print(b)"
   ]
  },
  {
   "cell_type": "code",
   "execution_count": 33,
   "metadata": {},
   "outputs": [
    {
     "data": {
      "text/plain": [
       "{'title': 'The Accursed God', 'author': 'Vivek Dutta Mishra', 'price': 399}"
      ]
     },
     "execution_count": 33,
     "metadata": {},
     "output_type": "execute_result"
    }
   ],
   "source": [
    "b.__dict__"
   ]
  },
  {
   "cell_type": "markdown",
   "metadata": {},
   "source": [
    "#### we can make a pretty string builder"
   ]
  },
  {
   "cell_type": "code",
   "execution_count": 34,
   "metadata": {},
   "outputs": [],
   "source": [
    "def pretty_string_builder(obj):\n",
    "    _str= type(obj).__name__\n",
    "    _str+= str(obj.__dict__)\n",
    "    return _str"
   ]
  },
  {
   "cell_type": "code",
   "execution_count": 35,
   "metadata": {},
   "outputs": [
    {
     "name": "stdout",
     "output_type": "stream",
     "text": [
      "<__main__.Book object at 0x0000027ED2EDD070>\n",
      "Book{'title': 'The Accursed God', 'author': 'Vivek Dutta Mishra', 'price': 399}\n"
     ]
    }
   ],
   "source": [
    "print(b)\n",
    "print(pretty_string_builder(b))"
   ]
  },
  {
   "cell_type": "markdown",
   "metadata": {},
   "source": [
    "#### Phase #2 Write a class decorator to add \\_\\_str\\_\\_ method to the object\n",
    "\n",
    "* A class decorator is exactly like a function decorator\n",
    "* both class and functions are object\n",
    "* it simply taks class as target"
   ]
  },
  {
   "cell_type": "code",
   "execution_count": 38,
   "metadata": {},
   "outputs": [],
   "source": [
    "\n",
    "def presentable(cls): # we will decorate a \n",
    "    def fn(obj):\n",
    "        return type(obj).__name__ + str(obj.__dict__)\n",
    "    \n",
    "    cls.__str__ = fn\n",
    "    return cls\n",
    "        "
   ]
  },
  {
   "cell_type": "code",
   "execution_count": 39,
   "metadata": {},
   "outputs": [],
   "source": [
    "@presentable\n",
    "class Book:\n",
    "    def __init__(self,title,author,price):\n",
    "        self.title=title\n",
    "        self.author=author\n",
    "        self.price=price"
   ]
  },
  {
   "cell_type": "code",
   "execution_count": 40,
   "metadata": {},
   "outputs": [
    {
     "name": "stdout",
     "output_type": "stream",
     "text": [
      "Book{'title': 'The Accursed God', 'author': 'Vivek Dutta Mishra', 'price': 399}\n"
     ]
    }
   ],
   "source": [
    "b=Book('The Accursed God','Vivek Dutta Mishra',399)\n",
    "print(b)"
   ]
  },
  {
   "cell_type": "code",
   "execution_count": 41,
   "metadata": {},
   "outputs": [],
   "source": [
    "@presentable\n",
    "class Author:\n",
    "    def __init__(self,name,biography):\n",
    "        self.name=name\n",
    "        self.biography=biography"
   ]
  },
  {
   "cell_type": "code",
   "execution_count": 42,
   "metadata": {},
   "outputs": [
    {
     "name": "stdout",
     "output_type": "stream",
     "text": [
      "Author{'name': 'Mahatma Gandhi', 'biography': 'The father of the nation India'}\n"
     ]
    }
   ],
   "source": [
    "a= Author('Mahatma Gandhi', 'The father of the nation India')\n",
    "print(a)"
   ]
  },
  {
   "cell_type": "code",
   "execution_count": 43,
   "metadata": {},
   "outputs": [
    {
     "name": "stdout",
     "output_type": "stream",
     "text": [
      "Author{'name': 'Mahatma Gandhi', 'biography': 'The father of the nation India', 'photo': 'gandhi.jpg'}\n"
     ]
    }
   ],
   "source": [
    "a.photo=\"gandhi.jpg\"\n",
    "print(a)"
   ]
  },
  {
   "cell_type": "code",
   "execution_count": 44,
   "metadata": {},
   "outputs": [],
   "source": [
    "@presentable\n",
    "class Point:\n",
    "    def __init__(self,x,y):\n",
    "        self.x=x\n",
    "        self.y=y\n",
    "        "
   ]
  },
  {
   "cell_type": "code",
   "execution_count": 45,
   "metadata": {},
   "outputs": [
    {
     "name": "stdout",
     "output_type": "stream",
     "text": [
      "Point{'x': 3, 'y': 4}\n",
      "Point{'x': 1, 'y': 1}\n",
      "Point{'x': 2, 'y': 0}\n"
     ]
    }
   ],
   "source": [
    "points=[ Point(3,4), Point(1,1), Point(2,0)]\n",
    "\n",
    "for p in points:\n",
    "    print(p)"
   ]
  },
  {
   "cell_type": "markdown",
   "metadata": {},
   "source": [
    "### Singleton decorat\n",
    "\n",
    "* sometimes we want a class to have a single instance.\n",
    "* we want to avoid creating a second object if the first object exists\n",
    "* we want to achieve this using a decorator\n",
    "\n",
    "#### How it will work\n",
    "\n",
    "* it will define it's own \n",
    "    * __init__\n",
    "        * to check if the object is already created.\n",
    "    * instance\n",
    "\n",
    "* normally \n",
    "    * for any singlton get also have a instance() function to return it's instance\n",
    "    * there __init__ should be parameterless"
   ]
  },
  {
   "cell_type": "code",
   "execution_count": 46,
   "metadata": {},
   "outputs": [],
   "source": [
    "def Singleton(cls):\n",
    "    cls.__instance=None\n",
    "    original_init= cls.__init__\n",
    "\n",
    "    def new_init(self):\n",
    "        if cls.__instance is not None:\n",
    "            raise Exception(\"Single doesn't allow a second object\")\n",
    "        else:\n",
    "            original_init(self)\n",
    "            cls.__instance=self\n",
    "            \n",
    "\n",
    "    def instance():\n",
    "        if cls.__instance is None:\n",
    "            cls.__instance=cls()\n",
    "        return cls.__instance\n",
    "    \n",
    "    cls.__init__=new_init\n",
    "    cls.instance=instance\n",
    "\n",
    "    return cls\n"
   ]
  },
  {
   "cell_type": "code",
   "execution_count": 49,
   "metadata": {},
   "outputs": [],
   "source": [
    "@Singleton\n",
    "class AuthManager:\n",
    "    def __init__(self):\n",
    "        self._users=dict(vivek='p@ss', sanjay=\"p@ss\")\n",
    "        self._user=None\n",
    "\n",
    "    def authenticate(self,username,password):\n",
    "        if username in self._users and self._users[username]==password:\n",
    "            self._user=username\n",
    "            return True\n",
    "        else:\n",
    "            self._user=None\n",
    "            raise InvalidCredentialsException(\"Invalid Credentials\")\n",
    "        \n",
    "    def loutout(self): self._user=None\n",
    "    def is_authenticated(self): return self._user is not None"
   ]
  },
  {
   "cell_type": "code",
   "execution_count": 50,
   "metadata": {},
   "outputs": [],
   "source": [
    "a1 = AuthManager()"
   ]
  },
  {
   "cell_type": "code",
   "execution_count": 51,
   "metadata": {},
   "outputs": [
    {
     "ename": "Exception",
     "evalue": "Single doesn't allow a second object",
     "output_type": "error",
     "traceback": [
      "\u001b[1;31m---------------------------------------------------------------------------\u001b[0m",
      "\u001b[1;31mException\u001b[0m                                 Traceback (most recent call last)",
      "Cell \u001b[1;32mIn[51], line 1\u001b[0m\n\u001b[1;32m----> 1\u001b[0m a2\u001b[38;5;241m=\u001b[39m \u001b[43mAuthManager\u001b[49m\u001b[43m(\u001b[49m\u001b[43m)\u001b[49m\n",
      "Cell \u001b[1;32mIn[46], line 7\u001b[0m, in \u001b[0;36mSingleton.<locals>.new_init\u001b[1;34m(self)\u001b[0m\n\u001b[0;32m      5\u001b[0m \u001b[38;5;28;01mdef\u001b[39;00m \u001b[38;5;21mnew_init\u001b[39m(\u001b[38;5;28mself\u001b[39m):\n\u001b[0;32m      6\u001b[0m     \u001b[38;5;28;01mif\u001b[39;00m \u001b[38;5;28mcls\u001b[39m\u001b[38;5;241m.\u001b[39m__instance \u001b[38;5;129;01mis\u001b[39;00m \u001b[38;5;129;01mnot\u001b[39;00m \u001b[38;5;28;01mNone\u001b[39;00m:\n\u001b[1;32m----> 7\u001b[0m         \u001b[38;5;28;01mraise\u001b[39;00m \u001b[38;5;167;01mException\u001b[39;00m(\u001b[38;5;124m\"\u001b[39m\u001b[38;5;124mSingle doesn\u001b[39m\u001b[38;5;124m'\u001b[39m\u001b[38;5;124mt allow a second object\u001b[39m\u001b[38;5;124m\"\u001b[39m)\n\u001b[0;32m      8\u001b[0m     \u001b[38;5;28;01melse\u001b[39;00m:\n\u001b[0;32m      9\u001b[0m         original_init(\u001b[38;5;28mself\u001b[39m)\n",
      "\u001b[1;31mException\u001b[0m: Single doesn't allow a second object"
     ]
    }
   ],
   "source": [
    "a2= AuthManager()"
   ]
  },
  {
   "cell_type": "code",
   "execution_count": 52,
   "metadata": {},
   "outputs": [
    {
     "data": {
      "text/plain": [
       "True"
      ]
     },
     "execution_count": 52,
     "metadata": {},
     "output_type": "execute_result"
    }
   ],
   "source": [
    "AuthManager.instance().authenticate('vivek','p@ss')"
   ]
  },
  {
   "cell_type": "code",
   "execution_count": 63,
   "metadata": {},
   "outputs": [],
   "source": [
    "@Singleton\n",
    "class PrintManager:\n",
    "    pass"
   ]
  },
  {
   "cell_type": "markdown",
   "metadata": {},
   "source": []
  },
  {
   "cell_type": "code",
   "execution_count": 64,
   "metadata": {},
   "outputs": [
    {
     "name": "stdout",
     "output_type": "stream",
     "text": [
      "True\n"
     ]
    }
   ],
   "source": [
    "p1= PrintManager.instance()\n",
    "p2= PrintManager.instance()\n",
    "\n",
    "print(p1 is p2)"
   ]
  },
  {
   "cell_type": "code",
   "execution_count": 65,
   "metadata": {},
   "outputs": [
    {
     "name": "stdout",
     "output_type": "stream",
     "text": [
      "['__class__', '__delattr__', '__dict__', '__dir__', '__doc__', '__eq__', '__format__', '__ge__', '__getattribute__', '__getstate__', '__gt__', '__hash__', '__init__', '__init_subclass__', '__instance', '__le__', '__lt__', '__module__', '__ne__', '__new__', '__reduce__', '__reduce_ex__', '__repr__', '__setattr__', '__sizeof__', '__str__', '__subclasshook__', '__weakref__', 'instance']\n"
     ]
    }
   ],
   "source": [
    "print(dir(PrintManager))"
   ]
  },
  {
   "cell_type": "code",
   "execution_count": 66,
   "metadata": {},
   "outputs": [
    {
     "ename": "Exception",
     "evalue": "Single doesn't allow a second object",
     "output_type": "error",
     "traceback": [
      "\u001b[1;31m---------------------------------------------------------------------------\u001b[0m",
      "\u001b[1;31mException\u001b[0m                                 Traceback (most recent call last)",
      "Cell \u001b[1;32mIn[66], line 1\u001b[0m\n\u001b[1;32m----> 1\u001b[0m p2\u001b[38;5;241m=\u001b[39m\u001b[43mPrintManager\u001b[49m\u001b[43m(\u001b[49m\u001b[43m)\u001b[49m\n",
      "Cell \u001b[1;32mIn[46], line 7\u001b[0m, in \u001b[0;36mSingleton.<locals>.new_init\u001b[1;34m(self)\u001b[0m\n\u001b[0;32m      5\u001b[0m \u001b[38;5;28;01mdef\u001b[39;00m \u001b[38;5;21mnew_init\u001b[39m(\u001b[38;5;28mself\u001b[39m):\n\u001b[0;32m      6\u001b[0m     \u001b[38;5;28;01mif\u001b[39;00m \u001b[38;5;28mcls\u001b[39m\u001b[38;5;241m.\u001b[39m__instance \u001b[38;5;129;01mis\u001b[39;00m \u001b[38;5;129;01mnot\u001b[39;00m \u001b[38;5;28;01mNone\u001b[39;00m:\n\u001b[1;32m----> 7\u001b[0m         \u001b[38;5;28;01mraise\u001b[39;00m \u001b[38;5;167;01mException\u001b[39;00m(\u001b[38;5;124m\"\u001b[39m\u001b[38;5;124mSingle doesn\u001b[39m\u001b[38;5;124m'\u001b[39m\u001b[38;5;124mt allow a second object\u001b[39m\u001b[38;5;124m\"\u001b[39m)\n\u001b[0;32m      8\u001b[0m     \u001b[38;5;28;01melse\u001b[39;00m:\n\u001b[0;32m      9\u001b[0m         original_init(\u001b[38;5;28mself\u001b[39m)\n",
      "\u001b[1;31mException\u001b[0m: Single doesn't allow a second object"
     ]
    }
   ],
   "source": [
    "p2=PrintManager()"
   ]
  },
  {
   "cell_type": "code",
   "execution_count": null,
   "metadata": {},
   "outputs": [],
   "source": []
  }
 ],
 "metadata": {
  "kernelspec": {
   "display_name": "Python 3",
   "language": "python",
   "name": "python3"
  },
  "language_info": {
   "codemirror_mode": {
    "name": "ipython",
    "version": 3
   },
   "file_extension": ".py",
   "mimetype": "text/x-python",
   "name": "python",
   "nbconvert_exporter": "python",
   "pygments_lexer": "ipython3",
   "version": "3.12.1"
  }
 },
 "nbformat": 4,
 "nbformat_minor": 2
}
