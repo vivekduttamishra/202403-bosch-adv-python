{
 "cells": [
  {
   "cell_type": "markdown",
   "metadata": {},
   "source": [
    "### Aspect Orientation Programming\n",
    "\n",
    "* Normally a function (should) have one core responsibility\n",
    "* In a business use case we have many different functions like that\n",
    "\n",
    "#### Use case ---> An eCommerce Application\n",
    "\n",
    "##### Important Functions\n",
    "\n",
    "* search_products()\n",
    "* place_order()\n",
    "* get_order_list()\n",
    "* login()\n",
    "\n",
    "##### Additional Redundant Functions\n",
    "\n",
    "* we will have some common (redundant) tasks across these functions\n",
    "* example\n",
    "    * open database connections\n",
    "    * handle exceptions\n",
    "    * measure performance\n",
    "        * we may want to see how much time some functions take\n",
    "            * search_products\n",
    "            * get_order_list\n",
    "    * handle authentication\n",
    "        * eg.\n",
    "            * few functions should work only if user is authenticated\n",
    "                * place_order\n",
    "                * get_order list\n",
    "\n",
    "\n",
    "##### Problem #1 code scattering\n",
    "\n",
    "* same side asepects need to be applied in multiple functions\n",
    "* example\n",
    "    * authentication is applied to\n",
    "        * place_order\n",
    "        * get_order_list\n",
    "    * performance montior is applied to\n",
    "        * search_products\n",
    "        * get_order_list\n",
    "\n",
    "    * exception handling is applied to\n",
    "        * all most all functionality\n",
    "\n",
    "* Same logic written again and again\n",
    "* If the logic changes we need to change everywehere\n",
    "\n",
    "\n",
    "##### Problem #2 code tangling\n",
    "\n",
    "* each core function performs multiple side jobs apart from core logic\n",
    "* example\n",
    "    * get_order_list\n",
    "        * core logic\n",
    "            * search_orders\n",
    "        * side jobs\n",
    "            * verify authentication\n",
    "            * handle exception\n",
    "            * measure performance\n",
    "\n",
    "* each function has multiple logic\n",
    "    * makes code less redable\n",
    "* when we add new concern it may break old logic.\n",
    "            \n",
    "## Let us see the problem in code."
   ]
  },
  {
   "cell_type": "markdown",
   "metadata": {},
   "source": [
    "##### Let us create an authenticator\n",
    "* it is a singleton model\n",
    "* every one shoudld use same instance of autneticator"
   ]
  },
  {
   "cell_type": "code",
   "execution_count": 11,
   "metadata": {},
   "outputs": [],
   "source": [
    "class SimpleAuthenticator:\n",
    "    \n",
    "    def __init__(self):\n",
    "        self._user=None # no user logged in\n",
    "\n",
    "    def is_authenticated(self):\n",
    "        return self._user is not None\n",
    "    \n",
    "    def login(self,user,password):\n",
    "        users=dict(vivek='p@ss', sanjay='p@ss')\n",
    "        if user in users:\n",
    "            _pass=users[user]\n",
    "            if _pass==password:\n",
    "                self._user=user\n",
    "                return True\n",
    "            \n",
    "        self._user=None\n",
    "        raise Exception('Invalid Credentials')\n",
    "    \n",
    "    def logout(self):\n",
    "        self._user=None\n",
    "\n",
    "SimpleAuthenticator._instance=SimpleAuthenticator()\n"
   ]
  },
  {
   "cell_type": "code",
   "execution_count": 12,
   "metadata": {},
   "outputs": [
    {
     "data": {
      "text/plain": [
       "True"
      ]
     },
     "execution_count": 12,
     "metadata": {},
     "output_type": "execute_result"
    }
   ],
   "source": [
    "SimpleAuthenticator._instance.login('vivek','p@ss')"
   ]
  },
  {
   "cell_type": "code",
   "execution_count": 13,
   "metadata": {},
   "outputs": [
    {
     "data": {
      "text/plain": [
       "True"
      ]
     },
     "execution_count": 13,
     "metadata": {},
     "output_type": "execute_result"
    }
   ],
   "source": [
    "SimpleAuthenticator._instance.is_authenticated()"
   ]
  },
  {
   "cell_type": "code",
   "execution_count": 14,
   "metadata": {},
   "outputs": [],
   "source": [
    "SimpleAuthenticator._instance.logout()"
   ]
  },
  {
   "cell_type": "code",
   "execution_count": 15,
   "metadata": {},
   "outputs": [
    {
     "data": {
      "text/plain": [
       "False"
      ]
     },
     "execution_count": 15,
     "metadata": {},
     "output_type": "execute_result"
    }
   ],
   "source": [
    "SimpleAuthenticator._instance.is_authenticated()"
   ]
  },
  {
   "cell_type": "code",
   "execution_count": 16,
   "metadata": {},
   "outputs": [
    {
     "ename": "Exception",
     "evalue": "Invalid Credentials",
     "output_type": "error",
     "traceback": [
      "\u001b[1;31m---------------------------------------------------------------------------\u001b[0m",
      "\u001b[1;31mException\u001b[0m                                 Traceback (most recent call last)",
      "Cell \u001b[1;32mIn[16], line 1\u001b[0m\n\u001b[1;32m----> 1\u001b[0m \u001b[43mSimpleAuthenticator\u001b[49m\u001b[38;5;241;43m.\u001b[39;49m\u001b[43m_instance\u001b[49m\u001b[38;5;241;43m.\u001b[39;49m\u001b[43mlogin\u001b[49m\u001b[43m(\u001b[49m\u001b[38;5;124;43m'\u001b[39;49m\u001b[38;5;124;43mprabhat\u001b[39;49m\u001b[38;5;124;43m'\u001b[39;49m\u001b[43m,\u001b[49m\u001b[38;5;124;43m'\u001b[39;49m\u001b[38;5;124;43mp@ss\u001b[39;49m\u001b[38;5;124;43m'\u001b[39;49m\u001b[43m)\u001b[49m\n",
      "Cell \u001b[1;32mIn[11], line 18\u001b[0m, in \u001b[0;36mSimpleAuthenticator.login\u001b[1;34m(self, user, password)\u001b[0m\n\u001b[0;32m     15\u001b[0m         \u001b[38;5;28;01mreturn\u001b[39;00m \u001b[38;5;28;01mTrue\u001b[39;00m\n\u001b[0;32m     17\u001b[0m \u001b[38;5;28mself\u001b[39m\u001b[38;5;241m.\u001b[39m_user\u001b[38;5;241m=\u001b[39m\u001b[38;5;28;01mNone\u001b[39;00m\n\u001b[1;32m---> 18\u001b[0m \u001b[38;5;28;01mraise\u001b[39;00m \u001b[38;5;167;01mException\u001b[39;00m(\u001b[38;5;124m'\u001b[39m\u001b[38;5;124mInvalid Credentials\u001b[39m\u001b[38;5;124m'\u001b[39m)\n",
      "\u001b[1;31mException\u001b[0m: Invalid Credentials"
     ]
    }
   ],
   "source": [
    "SimpleAuthenticator._instance.login('prabhat','p@ss')"
   ]
  },
  {
   "cell_type": "markdown",
   "metadata": {},
   "source": [
    "#### Let us now write our business functions"
   ]
  },
  {
   "cell_type": "code",
   "execution_count": 17,
   "metadata": {},
   "outputs": [],
   "source": [
    "import time\n",
    "\n",
    "def search_products():\n",
    "    #performance monitoring\n",
    "    start=time.time()\n",
    "    #core business logic\n",
    "    result=[]\n",
    "\n",
    "    #exception handling logic\n",
    "    try: \n",
    "        #core business logic\n",
    "        print('searching products')\n",
    "        \n",
    "        for i in range(10):\n",
    "            time.sleep(0.75)\n",
    "            result.append(f'Product#{i+1}')\n",
    "        print('searching products done')\n",
    "\n",
    "    except Exception as e:\n",
    "        print(f'error occured :{e}')\n",
    "    #performance monitoring\n",
    "    end=time.time()\n",
    "    print(f'Total Time taken is {end-start}')\n",
    "    #core business logic\n",
    "    return result\n",
    "\n",
    "def get_order_list():\n",
    "    #performance monitoring\n",
    "    start=time.time()\n",
    "    #core business logic\n",
    "\n",
    "    #authentication validation logic\n",
    "    if not SimpleAuthenticator._instance.is_authenticated():\n",
    "        raise Exception('User is not authenticated')\n",
    "\n",
    "    result=[]\n",
    "\n",
    "    #exception handling logic\n",
    "    try: \n",
    "        #core business logic\n",
    "        print('searching products')\n",
    "        \n",
    "        for i in range(10):\n",
    "            time.sleep(0.5)\n",
    "            result.append(f'Order#{i+1}')\n",
    "        print('searching products done')\n",
    "    except Exception as e:\n",
    "        print(f'error occured :{e}')\n",
    "\n",
    "    #performance monitoring\n",
    "    end=time.time()\n",
    "    print(f'Total Time taken is {end-start}')\n",
    "    #core business logic\n",
    "    return result       \n",
    "    \n"
   ]
  },
  {
   "cell_type": "code",
   "execution_count": 18,
   "metadata": {},
   "outputs": [
    {
     "name": "stdout",
     "output_type": "stream",
     "text": [
      "searching products\n",
      "searching products done\n",
      "Total Time taken is 7.504557132720947\n"
     ]
    },
    {
     "data": {
      "text/plain": [
       "['Product#1',\n",
       " 'Product#2',\n",
       " 'Product#3',\n",
       " 'Product#4',\n",
       " 'Product#5',\n",
       " 'Product#6',\n",
       " 'Product#7',\n",
       " 'Product#8',\n",
       " 'Product#9',\n",
       " 'Product#10']"
      ]
     },
     "execution_count": 18,
     "metadata": {},
     "output_type": "execute_result"
    }
   ],
   "source": [
    "search_products()"
   ]
  },
  {
   "cell_type": "markdown",
   "metadata": {},
   "source": [
    "#### A generic Performance Monitoring Logic\n",
    "\n",
    "* can we  write a generic function to monitor performance of any function?\n",
    "* Simple Performance monitoring had following steps\n",
    "    1. store sthe start timer\n",
    "    2. let the business logic run\n",
    "    3. store the end time\n",
    "    4. print the log\n",
    "    \n",
    "* now we can pass the business logic as call back to performance monitoring "
   ]
  },
  {
   "cell_type": "code",
   "execution_count": 19,
   "metadata": {},
   "outputs": [],
   "source": [
    "def find_performance(fn):\n",
    "    start=time.time()\n",
    "    fn()\n",
    "    end=time.time()\n",
    "    print(f'Total Time taken is {end-start} seconds')"
   ]
  },
  {
   "cell_type": "code",
   "execution_count": 22,
   "metadata": {},
   "outputs": [],
   "source": [
    "def place_order():\n",
    "    print('placing order...')\n",
    "    time.sleep(0.4)\n",
    "    print('order placed')"
   ]
  },
  {
   "cell_type": "code",
   "execution_count": 23,
   "metadata": {},
   "outputs": [
    {
     "name": "stdout",
     "output_type": "stream",
     "text": [
      "placing order...\n",
      "order placed\n"
     ]
    }
   ],
   "source": [
    "#by default placing order will not give you your performance\n",
    "place_order()"
   ]
  },
  {
   "cell_type": "markdown",
   "metadata": {},
   "source": [
    "### Measuring the Performance of a function"
   ]
  },
  {
   "cell_type": "code",
   "execution_count": 26,
   "metadata": {},
   "outputs": [
    {
     "name": "stdout",
     "output_type": "stream",
     "text": [
      "placing order...\n",
      "order placed\n",
      "Total Time taken is 0.40082502365112305 seconds\n"
     ]
    }
   ],
   "source": [
    "find_performance(place_order)"
   ]
  },
  {
   "cell_type": "markdown",
   "metadata": {},
   "source": [
    "#### Problem\n",
    "\n",
    "* user will not want to wrap their call to place_order in find_performance\n",
    "    * what if we have optimized and don't want to find_performance anymore?\n",
    "* user will like to call their function normally\n"
   ]
  },
  {
   "cell_type": "markdown",
   "metadata": {},
   "source": [
    "#### Let us comibine call back and closure together\n",
    "\n",
    "* here we will create a wrapper that will \n",
    "    * wrap the core logic and additional concern together\n",
    "* this wrapper can be considered as a **enchanced version** of my core logic\n",
    "\n",
    "* the wrapper can be defined using a inner function\n",
    "* the outer function can help us simply the wrapping per function\n",
    "\n",
    "\n",
    "#### Code walkthrough\n",
    "\n",
    "1. performance function takes **target** as callback\n",
    "    * this target is my core functionality for which we want to measure performance\n",
    "2. We define a **inner** wrapper\n",
    "    * wrapper had two key elements\n",
    "        1. performance monitoring\n",
    "            * Line 3,5,6\n",
    "        2. core logic invoked on line #4\n",
    "        \n",
    "8. we are returning wrapper function\n",
    "    * wrapper functionc can be considered as an enchanced (more featurefull version) of actual target\n",
    "    * It is still performing the core job\n",
    "    * but it has additional features of performance monitoring"
   ]
  },
  {
   "cell_type": "code",
   "execution_count": 30,
   "metadata": {},
   "outputs": [],
   "source": [
    "def performance(target):\n",
    "    def wrapper():\n",
    "        start=time.time()\n",
    "        target()\n",
    "        end=time.time()\n",
    "        print(f'Total Time taken by {target.__name__} is {end-start} seconds')\n",
    "\n",
    "    return wrapper"
   ]
  },
  {
   "cell_type": "markdown",
   "metadata": {},
   "source": [
    "#### Let us see how this thing works"
   ]
  },
  {
   "cell_type": "code",
   "execution_count": 31,
   "metadata": {},
   "outputs": [
    {
     "name": "stdout",
     "output_type": "stream",
     "text": [
      "placing order...\n",
      "order placed\n"
     ]
    }
   ],
   "source": [
    "#default place_order doesn't measure performance\n",
    "place_order()"
   ]
  },
  {
   "cell_type": "code",
   "execution_count": 33,
   "metadata": {},
   "outputs": [
    {
     "name": "stdout",
     "output_type": "stream",
     "text": [
      "placing order...\n",
      "order placed\n",
      "Total Time taken by place_order is 0.4007441997528076 seconds\n"
     ]
    }
   ],
   "source": [
    "### But we can create an enhanced version of place_order\n",
    "\n",
    "place_order_p = performance(place_order)\n",
    "\n",
    "### now we can use place_order_p instead of place_order whereever we need\n",
    "\n",
    "place_order_p()\n",
    "\n",
    "### place_order_p can still place the order. but can also give you time taken\n"
   ]
  },
  {
   "cell_type": "markdown",
   "metadata": {},
   "source": [
    "#### What if we always want to measure performance for place_order\n",
    "\n",
    "* we may have used place_order() had many places\n",
    "* now we may have to replace place_order() with place_order_p() everywhere\n",
    "* this is undeseriable\n",
    "\n",
    "##### We can replace the reference to the core function with wrapped_logic"
   ]
  },
  {
   "cell_type": "code",
   "execution_count": 36,
   "metadata": {},
   "outputs": [],
   "source": [
    "def long_running_task():\n",
    "    print('long running task started')\n",
    "    time.sleep(2.5)\n",
    "    print('long running task finished')\n",
    "\n",
    "#replace original function with wrapped function\n",
    "long_running_task = performance(long_running_task)\n",
    "\n",
    "#now when user calls my core function, they actually call this wrapped function\n"
   ]
  },
  {
   "cell_type": "code",
   "execution_count": 37,
   "metadata": {},
   "outputs": [
    {
     "name": "stdout",
     "output_type": "stream",
     "text": [
      "long running task started\n",
      "long running task finished\n",
      "Total Time taken by long_running_task is 2.5009372234344482 seconds\n"
     ]
    }
   ],
   "source": [
    "long_running_task()"
   ]
  },
  {
   "cell_type": "markdown",
   "metadata": {},
   "source": [
    "#### Important Note\n",
    "\n",
    "* here long_running_task is not actually the long_running_task\n",
    "* it is the wrapper function that **performance()** returned.\n",
    "\n",
    "##### Can you provde that that long_running_task is not actually long_running_task\n",
    "\n",
    "* just check the function name"
   ]
  },
  {
   "cell_type": "code",
   "execution_count": 38,
   "metadata": {},
   "outputs": [
    {
     "data": {
      "text/plain": [
       "'wrapper'"
      ]
     },
     "execution_count": 38,
     "metadata": {},
     "output_type": "execute_result"
    }
   ],
   "source": [
    "long_running_task.__name__"
   ]
  },
  {
   "cell_type": "code",
   "execution_count": null,
   "metadata": {},
   "outputs": [],
   "source": []
  }
 ],
 "metadata": {
  "kernelspec": {
   "display_name": "Python 3",
   "language": "python",
   "name": "python3"
  },
  "language_info": {
   "codemirror_mode": {
    "name": "ipython",
    "version": 3
   },
   "file_extension": ".py",
   "mimetype": "text/x-python",
   "name": "python",
   "nbconvert_exporter": "python",
   "pygments_lexer": "ipython3",
   "version": "3.12.1"
  }
 },
 "nbformat": 4,
 "nbformat_minor": 2
}
