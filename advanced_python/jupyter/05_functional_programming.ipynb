{
 "cells": [
  {
   "cell_type": "markdown",
   "metadata": {},
   "source": [
    "## Functional Programming\n",
    "\n",
    "* refers to a programming paradigm where we treat a function as an object\n",
    "* we define our logic using those function objects.\n",
    "* it mostly based on two important function concepts\n",
    "    1. we can pass a function to another as an argument.\n",
    "    2. a function can return another function as an argument\n",
    "    \n",
    "#### Calculator Example\n"
   ]
  },
  {
   "cell_type": "code",
   "execution_count": 8,
   "metadata": {},
   "outputs": [],
   "source": [
    "class Calculator:\n",
    "    def present(self,value1, opr, value2):\n",
    "        if opr == 'plus':\n",
    "            result= value1 + value2\n",
    "        elif opr == 'minus':\n",
    "            result= value1 - value2\n",
    "        elif opr == 'multiply':\n",
    "            result= value1 * value2\n",
    "        elif opr == 'divide':\n",
    "            result= value1 / value2\n",
    "        else:\n",
    "            raise ValueError(f\"Invalid operator:{opr}\")\n",
    "\n",
    "        print(f'{value1} {opr} {value2} = {result}')    \n",
    "    "
   ]
  },
  {
   "cell_type": "code",
   "execution_count": 9,
   "metadata": {},
   "outputs": [
    {
     "name": "stdout",
     "output_type": "stream",
     "text": [
      "20 plus 30 = 50\n",
      "20 divide 4 = 5.0\n"
     ]
    }
   ],
   "source": [
    "calc=Calculator()\n",
    "\n",
    "calc.present(20, 'plus', 30)\n",
    "calc.present(20, 'divide', 4)\n"
   ]
  },
  {
   "cell_type": "code",
   "execution_count": 10,
   "metadata": {},
   "outputs": [
    {
     "ename": "ValueError",
     "evalue": "Invalid operator:mod",
     "output_type": "error",
     "traceback": [
      "\u001b[1;31m---------------------------------------------------------------------------\u001b[0m",
      "\u001b[1;31mValueError\u001b[0m                                Traceback (most recent call last)",
      "Cell \u001b[1;32mIn[10], line 1\u001b[0m\n\u001b[1;32m----> 1\u001b[0m \u001b[43mcalc\u001b[49m\u001b[38;5;241;43m.\u001b[39;49m\u001b[43mpresent\u001b[49m\u001b[43m(\u001b[49m\u001b[38;5;241;43m20\u001b[39;49m\u001b[43m,\u001b[49m\u001b[43m \u001b[49m\u001b[38;5;124;43m'\u001b[39;49m\u001b[38;5;124;43mmod\u001b[39;49m\u001b[38;5;124;43m'\u001b[39;49m\u001b[43m,\u001b[49m\u001b[43m \u001b[49m\u001b[38;5;241;43m7\u001b[39;49m\u001b[43m)\u001b[49m\n",
      "Cell \u001b[1;32mIn[8], line 12\u001b[0m, in \u001b[0;36mCalculator.present\u001b[1;34m(self, value1, opr, value2)\u001b[0m\n\u001b[0;32m     10\u001b[0m     result\u001b[38;5;241m=\u001b[39m value1 \u001b[38;5;241m/\u001b[39m value2\n\u001b[0;32m     11\u001b[0m \u001b[38;5;28;01melse\u001b[39;00m:\n\u001b[1;32m---> 12\u001b[0m     \u001b[38;5;28;01mraise\u001b[39;00m \u001b[38;5;167;01mValueError\u001b[39;00m(\u001b[38;5;124mf\u001b[39m\u001b[38;5;124m\"\u001b[39m\u001b[38;5;124mInvalid operator:\u001b[39m\u001b[38;5;132;01m{\u001b[39;00mopr\u001b[38;5;132;01m}\u001b[39;00m\u001b[38;5;124m\"\u001b[39m)\n\u001b[0;32m     14\u001b[0m \u001b[38;5;28mprint\u001b[39m(\u001b[38;5;124mf\u001b[39m\u001b[38;5;124m'\u001b[39m\u001b[38;5;132;01m{\u001b[39;00mvalue1\u001b[38;5;132;01m}\u001b[39;00m\u001b[38;5;124m \u001b[39m\u001b[38;5;132;01m{\u001b[39;00mopr\u001b[38;5;132;01m}\u001b[39;00m\u001b[38;5;124m \u001b[39m\u001b[38;5;132;01m{\u001b[39;00mvalue2\u001b[38;5;132;01m}\u001b[39;00m\u001b[38;5;124m = \u001b[39m\u001b[38;5;132;01m{\u001b[39;00mresult\u001b[38;5;132;01m}\u001b[39;00m\u001b[38;5;124m'\u001b[39m)\n",
      "\u001b[1;31mValueError\u001b[0m: Invalid operator:mod"
     ]
    }
   ],
   "source": [
    "calc.present(20, 'mod', 7)"
   ]
  },
  {
   "cell_type": "markdown",
   "metadata": {},
   "source": [
    "#### Problem\n",
    "\n",
    "* we have a working calculator\n",
    "* but the calculator is not extensible\n",
    "* if we need more operations tomorrow (mod,power, permutation) we will have to modify the calculator again.\n",
    "* similarly current calculator always displays the result on console\n",
    "    * if tomorrow we want to display the result at different place (web page, GUI) this calcualtor will be useless, although it will still can peform the calculation\n",
    "\n",
    "* this code has different responsibilities. mixed\n",
    "\n",
    "\n",
    "#### Solution ---> Function Object\n",
    "\n",
    "* treat each operation as function object\n",
    "* pass the function object you want to use.\n",
    "* also treat the print() function as one of the possible choices for presenting output.\n",
    "* we can replace print with any other function of our choice."
   ]
  },
  {
   "cell_type": "markdown",
   "metadata": {},
   "source": [
    "#### Phase #1 create each operation as a separate function"
   ]
  },
  {
   "cell_type": "code",
   "execution_count": 11,
   "metadata": {},
   "outputs": [],
   "source": [
    "def plus(a,b): return a+b\n",
    "def minus(a,b): return a-b\n",
    "def multiply(a,b): return a*b\n",
    "def divide(a,b): return a/b"
   ]
  },
  {
   "cell_type": "markdown",
   "metadata": {},
   "source": [
    "### Phase #2 calculator can take these (and more) functions as parameter\n",
    "\n",
    "#### Approach #1\n",
    "* user can pass the function that it wants to invoke"
   ]
  },
  {
   "cell_type": "code",
   "execution_count": 13,
   "metadata": {},
   "outputs": [],
   "source": [
    "class Calculator:\n",
    "    def present(self,value1, opr, value2):\n",
    "        result=opr(value1,value2)\n",
    "        print(f'{value1} {opr.__name__} {value2} = {result}') "
   ]
  },
  {
   "cell_type": "code",
   "execution_count": 14,
   "metadata": {},
   "outputs": [
    {
     "name": "stdout",
     "output_type": "stream",
     "text": [
      "20 plus 30 = 50\n",
      "20 divide 11 = 1.8181818181818181\n"
     ]
    }
   ],
   "source": [
    "calc=Calculator()\n",
    "calc.present(20, plus, 30)\n",
    "calc.present(20, divide, 11)\n",
    "# now you can't really pass a function, you don't have"
   ]
  },
  {
   "cell_type": "markdown",
   "metadata": {},
   "source": [
    "#### Problem: client may not be able to pass the function directly\n",
    "* can we pass a string?"
   ]
  },
  {
   "cell_type": "code",
   "execution_count": 20,
   "metadata": {},
   "outputs": [],
   "source": [
    "class Calculator:\n",
    "    def __init__(self, presenter=None):\n",
    "        self.presenter=presenter\n",
    "        if self.presenter is None:\n",
    "            self.presenter= lambda v1,opr,v2,result: print(f'{v1} {opr} {v2} => {result}')\n",
    "\n",
    "        self._operators={}\n",
    "        self._add_basic_operators()\n",
    "\n",
    "    def _add_basic_operators(self):\n",
    "        self.add_operator(plus)\n",
    "        self.add_operator(minus)\n",
    "        self.add_operator(multiply)\n",
    "        self.add_operator(divide)\n",
    "\n",
    "\n",
    "    def add_operator(self, operator, name=None):\n",
    "        if name is None:\n",
    "            name = operator.__name__\n",
    "        self._operators[name.lower()]=operator\n",
    "\n",
    "    def present(self,value1, opr, value2):\n",
    "        opr=opr.lower()\n",
    "        if opr in self._operators:\n",
    "            fn=self._operators[opr]\n",
    "            result=fn(value1,value2)\n",
    "            print(f'{value1} {opr} {value2} = {result}')\n",
    "        else:\n",
    "            raise ValueError(f'No such operator: \"{opr}\"') "
   ]
  },
  {
   "cell_type": "code",
   "execution_count": 21,
   "metadata": {},
   "outputs": [
    {
     "name": "stdout",
     "output_type": "stream",
     "text": [
      "20 plus 30 = 50\n",
      "20 divide 11 = 1.8181818181818181\n"
     ]
    }
   ],
   "source": [
    "calc=Calculator()\n",
    "\n",
    "calc.present(20, 'plus', 30)\n",
    "\n",
    "calc.present(20, 'Divide', 11)"
   ]
  },
  {
   "cell_type": "code",
   "execution_count": 22,
   "metadata": {},
   "outputs": [
    {
     "ename": "ValueError",
     "evalue": "No such operator: \"mod\"",
     "output_type": "error",
     "traceback": [
      "\u001b[1;31m---------------------------------------------------------------------------\u001b[0m",
      "\u001b[1;31mValueError\u001b[0m                                Traceback (most recent call last)",
      "Cell \u001b[1;32mIn[22], line 1\u001b[0m\n\u001b[1;32m----> 1\u001b[0m \u001b[43mcalc\u001b[49m\u001b[38;5;241;43m.\u001b[39;49m\u001b[43mpresent\u001b[49m\u001b[43m(\u001b[49m\u001b[38;5;241;43m20\u001b[39;49m\u001b[43m,\u001b[49m\u001b[43m \u001b[49m\u001b[38;5;124;43m'\u001b[39;49m\u001b[38;5;124;43mmod\u001b[39;49m\u001b[38;5;124;43m'\u001b[39;49m\u001b[43m,\u001b[49m\u001b[38;5;241;43m7\u001b[39;49m\u001b[43m)\u001b[49m\n",
      "Cell \u001b[1;32mIn[20], line 29\u001b[0m, in \u001b[0;36mCalculator.present\u001b[1;34m(self, value1, opr, value2)\u001b[0m\n\u001b[0;32m     27\u001b[0m     \u001b[38;5;28mprint\u001b[39m(\u001b[38;5;124mf\u001b[39m\u001b[38;5;124m'\u001b[39m\u001b[38;5;132;01m{\u001b[39;00mvalue1\u001b[38;5;132;01m}\u001b[39;00m\u001b[38;5;124m \u001b[39m\u001b[38;5;132;01m{\u001b[39;00mopr\u001b[38;5;132;01m}\u001b[39;00m\u001b[38;5;124m \u001b[39m\u001b[38;5;132;01m{\u001b[39;00mvalue2\u001b[38;5;132;01m}\u001b[39;00m\u001b[38;5;124m = \u001b[39m\u001b[38;5;132;01m{\u001b[39;00mresult\u001b[38;5;132;01m}\u001b[39;00m\u001b[38;5;124m'\u001b[39m)\n\u001b[0;32m     28\u001b[0m \u001b[38;5;28;01melse\u001b[39;00m:\n\u001b[1;32m---> 29\u001b[0m     \u001b[38;5;28;01mraise\u001b[39;00m \u001b[38;5;167;01mValueError\u001b[39;00m(\u001b[38;5;124mf\u001b[39m\u001b[38;5;124m'\u001b[39m\u001b[38;5;124mNo such operator: \u001b[39m\u001b[38;5;124m\"\u001b[39m\u001b[38;5;132;01m{\u001b[39;00mopr\u001b[38;5;132;01m}\u001b[39;00m\u001b[38;5;124m\"\u001b[39m\u001b[38;5;124m'\u001b[39m)\n",
      "\u001b[1;31mValueError\u001b[0m: No such operator: \"mod\""
     ]
    }
   ],
   "source": [
    "calc.present(20, 'mod',7)"
   ]
  },
  {
   "cell_type": "markdown",
   "metadata": {},
   "source": [
    "### But we can add mod logic dynamically"
   ]
  },
  {
   "cell_type": "code",
   "execution_count": 23,
   "metadata": {},
   "outputs": [],
   "source": [
    "def mod(v1,v2): return v1%v2\n",
    "\n",
    "calc.add_operator(mod)"
   ]
  },
  {
   "cell_type": "code",
   "execution_count": 24,
   "metadata": {},
   "outputs": [
    {
     "name": "stdout",
     "output_type": "stream",
     "text": [
      "20 mod 7 = 6\n"
     ]
    }
   ],
   "source": [
    "calc.present(20, 'mod', 7)"
   ]
  },
  {
   "cell_type": "markdown",
   "metadata": {},
   "source": [
    "### we can also add functionality use lambda function\n",
    "\n",
    "* but all lambdas are called lambda\n",
    "* so we will a friendly name in add_operator function as optional second argument"
   ]
  },
  {
   "cell_type": "code",
   "execution_count": 26,
   "metadata": {},
   "outputs": [],
   "source": [
    "calc.add_operator( lambda v1,v2: v1**v2, 'power')"
   ]
  },
  {
   "cell_type": "code",
   "execution_count": 27,
   "metadata": {},
   "outputs": [
    {
     "name": "stdout",
     "output_type": "stream",
     "text": [
      "20 power 3 = 8000\n"
     ]
    }
   ],
   "source": [
    "calc.present(20, 'power', 3)"
   ]
  },
  {
   "cell_type": "markdown",
   "metadata": {},
   "source": [
    "#### Assignment 2.3\n",
    "\n",
    "* write a search function that takes a sequence of values and returns\n",
    "    * all even numbers\n",
    "    * all prime numbers\n",
    "    * all numbers divisible by 7\n",
    "    * all permanent employees of an organization\n",
    "\n",
    "* search should be your function\n",
    "    * No built-in function use allowed."
   ]
  },
  {
   "cell_type": "markdown",
   "metadata": {},
   "source": [
    "### Solution #1"
   ]
  },
  {
   "cell_type": "code",
   "execution_count": 1,
   "metadata": {},
   "outputs": [],
   "source": [
    "def search( values):\n",
    "    result=[]\n",
    "    for value in values:\n",
    "        if value %2 ==0:\n",
    "            result.append(value)\n",
    "    return result"
   ]
  },
  {
   "cell_type": "code",
   "execution_count": 2,
   "metadata": {},
   "outputs": [],
   "source": [
    "values=[2,9,11,8,4,13,3,72,8,4,25,33,27]\n",
    "\n"
   ]
  },
  {
   "cell_type": "code",
   "execution_count": 3,
   "metadata": {},
   "outputs": [
    {
     "data": {
      "text/plain": [
       "[2, 8, 4, 72, 8, 4]"
      ]
     },
     "execution_count": 3,
     "metadata": {},
     "output_type": "execute_result"
    }
   ],
   "source": [
    "search(values)"
   ]
  },
  {
   "cell_type": "markdown",
   "metadata": {},
   "source": [
    "#### Best Practices\n",
    "\n",
    "*  search shouldn't return a list.\n",
    "    * it should yield.\n",
    "    * never return a large list if it can be avoided."
   ]
  },
  {
   "cell_type": "code",
   "execution_count": 4,
   "metadata": {},
   "outputs": [],
   "source": [
    "def search( values):\n",
    "    \n",
    "    for value in values:\n",
    "        if value %2 ==0:\n",
    "            yield(value)\n",
    "    "
   ]
  },
  {
   "cell_type": "code",
   "execution_count": 5,
   "metadata": {},
   "outputs": [
    {
     "name": "stdout",
     "output_type": "stream",
     "text": [
      "2 8 4 72 8 4 "
     ]
    }
   ],
   "source": [
    "for evens in search(values):\n",
    "    print(evens,  end=' ')"
   ]
  },
  {
   "cell_type": "markdown",
   "metadata": {},
   "source": [
    "### Problem --> it only searches evens.\n",
    "\n",
    "* what about other requiremens like\n",
    "    * search prime\n",
    "    * search employees\n",
    "\n",
    "\n",
    "### Approach #1"
   ]
  },
  {
   "cell_type": "code",
   "execution_count": 2,
   "metadata": {},
   "outputs": [],
   "source": [
    "def search_evens( values):\n",
    "    \n",
    "    for value in values:\n",
    "        if value %2 ==0:\n",
    "            yield(value)\n",
    "\n",
    "def is_prime(value):\n",
    "    if value<2: return False\n",
    "    for i in range(2,value):\n",
    "        if value %i ==0:\n",
    "            return False\n",
    "    return True\n",
    "\n",
    "def search_prime(values):\n",
    "    \n",
    "    for value in values:\n",
    "        if is_prime(value):\n",
    "            yield(value)"
   ]
  },
  {
   "cell_type": "code",
   "execution_count": 7,
   "metadata": {},
   "outputs": [
    {
     "name": "stdout",
     "output_type": "stream",
     "text": [
      "2 11 13 3 "
     ]
    }
   ],
   "source": [
    "for prime in search_prime(values):\n",
    "    print(prime, end=' ')"
   ]
  },
  {
   "cell_type": "code",
   "execution_count": 11,
   "metadata": {},
   "outputs": [],
   "source": [
    "import org\n",
    "\n",
    "bosch= org.get_organization('Bosch',50)\n"
   ]
  },
  {
   "cell_type": "markdown",
   "metadata": {},
   "source": [
    "### Search logic for permanent employees"
   ]
  },
  {
   "cell_type": "code",
   "execution_count": 7,
   "metadata": {},
   "outputs": [],
   "source": [
    "def search_permanent_employees(org):\n",
    "    for employee in org:\n",
    "        if employee._isPermanent:\n",
    "            yield employee"
   ]
  },
  {
   "cell_type": "code",
   "execution_count": 10,
   "metadata": {},
   "outputs": [
    {
     "name": "stdout",
     "output_type": "stream",
     "text": [
      "32\n"
     ]
    }
   ],
   "source": [
    "count=0\n",
    "for e in search_permanent_employees(bosch):\n",
    "    count+=1\n",
    "    \n",
    "print(count)"
   ]
  },
  {
   "cell_type": "markdown",
   "metadata": {},
   "source": [
    "### Problem\n",
    "\n",
    "* we are writing multiple search functions\n",
    "* They have largely common code\n",
    "* they differ just at point"
   ]
  },
  {
   "cell_type": "markdown",
   "metadata": {},
   "source": [
    "### Approach #2"
   ]
  },
  {
   "cell_type": "code",
   "execution_count": 15,
   "metadata": {},
   "outputs": [],
   "source": [
    "def search(values,criteria):\n",
    "    results=[]\n",
    "    for value in values:\n",
    "        match=False\n",
    "        if criteria=='evens':\n",
    "            match= value%2==0\n",
    "        elif criteria=='prime':\n",
    "            match= is_prime(value)\n",
    "        elif criteria=='permanent_employees':\n",
    "            match= value._isPermanent\n",
    "        \n",
    "        if match:\n",
    "            results.append(value)\n",
    "\n",
    "    return results"
   ]
  },
  {
   "cell_type": "code",
   "execution_count": 16,
   "metadata": {},
   "outputs": [],
   "source": [
    "def print_results(results):\n",
    "    for result in results:\n",
    "        print(result, end=' ')"
   ]
  },
  {
   "cell_type": "code",
   "execution_count": 18,
   "metadata": {},
   "outputs": [
    {
     "name": "stdout",
     "output_type": "stream",
     "text": [
      "2 4 18 8 "
     ]
    }
   ],
   "source": [
    "values=[2,9,11,4,15,18,7,61,8]\n",
    "print_results(search(values,'evens'))"
   ]
  },
  {
   "cell_type": "code",
   "execution_count": 19,
   "metadata": {},
   "outputs": [
    {
     "name": "stdout",
     "output_type": "stream",
     "text": [
      "2 11 7 61 "
     ]
    }
   ],
   "source": [
    "print_results(search(values,'prime'))"
   ]
  },
  {
   "cell_type": "code",
   "execution_count": 21,
   "metadata": {},
   "outputs": [
    {
     "name": "stdout",
     "output_type": "stream",
     "text": [
      "Employee3 True\n",
      "Employee5 True\n",
      "Employee6 True\n",
      "Employee9 True\n",
      "Employee10 True\n",
      "Employee12 True\n",
      "Employee13 True\n",
      "Employee15 True\n",
      "Employee16 True\n",
      "Employee17 True\n",
      "Employee18 True\n",
      "Employee20 True\n",
      "Employee22 True\n",
      "Employee24 True\n",
      "Employee25 True\n",
      "Employee28 True\n",
      "Employee29 True\n",
      "Employee30 True\n",
      "Employee32 True\n",
      "Employee33 True\n",
      "Employee34 True\n",
      "Employee35 True\n",
      "Employee36 True\n",
      "Employee37 True\n",
      "Employee38 True\n",
      "Employee39 True\n",
      "Employee40 True\n",
      "Employee41 True\n",
      "Employee42 True\n",
      "Employee43 True\n",
      "Employee44 True\n",
      "Employee46 True\n",
      "Employee48 True\n",
      "total  33\n"
     ]
    }
   ],
   "source": [
    "result= search(bosch,'permanent_employees')\n",
    "count=0\n",
    "for emp in result:\n",
    "    count+=1\n",
    "    print(emp._name, emp._isPermanent )\n",
    "\n",
    "print('total ',count)"
   ]
  },
  {
   "cell_type": "markdown",
   "metadata": {},
   "source": [
    "### problem\n",
    "\n",
    "* just like calculator we have multiple logic merged in one function\n",
    "* if tomorrow we need more criteria we will have to write logic for each of them in the search\n",
    "\n",
    "* remember each crieria in iteself is a function\n",
    "    * can be represented with a function object"
   ]
  },
  {
   "cell_type": "markdown",
   "metadata": {},
   "source": [
    "#### Passing a callback function"
   ]
  },
  {
   "cell_type": "code",
   "execution_count": 23,
   "metadata": {},
   "outputs": [],
   "source": [
    "def search(values, criteria):\n",
    "    results=[]\n",
    "    for value in values:\n",
    "        if criteria(value):\n",
    "            results.append(value)\n",
    "\n",
    "    return results"
   ]
  },
  {
   "cell_type": "code",
   "execution_count": 24,
   "metadata": {},
   "outputs": [
    {
     "name": "stdout",
     "output_type": "stream",
     "text": [
      "2 11 7 61 "
     ]
    }
   ],
   "source": [
    "primes = search(values, is_prime)\n",
    "\n",
    "for prime in primes:\n",
    "    print(prime, end=' ')"
   ]
  },
  {
   "cell_type": "markdown",
   "metadata": {},
   "source": [
    "### to perform even search we can just define is_even function"
   ]
  },
  {
   "cell_type": "code",
   "execution_count": 25,
   "metadata": {},
   "outputs": [],
   "source": [
    "def is_even(value): return value%2==0"
   ]
  },
  {
   "cell_type": "code",
   "execution_count": 26,
   "metadata": {},
   "outputs": [
    {
     "name": "stdout",
     "output_type": "stream",
     "text": [
      "2 4 18 8 "
     ]
    }
   ],
   "source": [
    "evens = search(values, is_even)\n",
    "print_results(evens)"
   ]
  },
  {
   "cell_type": "markdown",
   "metadata": {},
   "source": [
    "### Or we can use lambda function to pass search criteria"
   ]
  },
  {
   "cell_type": "code",
   "execution_count": 27,
   "metadata": {},
   "outputs": [
    {
     "name": "stdout",
     "output_type": "stream",
     "text": [
      "Employee3\tEmployee5\tEmployee6\tEmployee9\tEmployee10\tEmployee12\tEmployee13\tEmployee15\tEmployee16\tEmployee17\tEmployee18\tEmployee20\tEmployee22\tEmployee24\tEmployee25\tEmployee28\tEmployee29\tEmployee30\tEmployee32\tEmployee33\tEmployee34\tEmployee35\tEmployee36\tEmployee37\tEmployee38\tEmployee39\tEmployee40\tEmployee41\tEmployee42\tEmployee43\tEmployee44\tEmployee46\tEmployee48\t"
     ]
    }
   ],
   "source": [
    "permanent = search(bosch, lambda emp: emp._isPermanent)\n",
    "for emp in permanent:\n",
    "    print(emp._name, end='\\t')"
   ]
  },
  {
   "cell_type": "markdown",
   "metadata": {},
   "source": [
    "### Now we can do different types of searches\n",
    "\n",
    "\n",
    "#### Find all employess whose salary is less that 35000"
   ]
  },
  {
   "cell_type": "code",
   "execution_count": 31,
   "metadata": {},
   "outputs": [
    {
     "name": "stdout",
     "output_type": "stream",
     "text": [
      "Employee0 28000\n",
      "Employee2 21000\n",
      "Employee3 31000\n",
      "Employee6 32000\n",
      "Employee7 20000\n",
      "Employee9 23000\n",
      "Employee14 23000\n",
      "Employee16 21000\n",
      "Employee18 20000\n",
      "Employee20 23000\n",
      "Employee21 25000\n",
      "Employee22 33000\n",
      "Employee24 30000\n",
      "Employee27 23000\n",
      "Employee32 34000\n",
      "Employee36 25000\n",
      "Employee41 29000\n",
      "Employee42 31000\n",
      "Employee43 23000\n",
      "Employee44 23000\n",
      "Employee47 34000\n",
      "Employee49 30000\n"
     ]
    }
   ],
   "source": [
    "result = search(bosch, lambda emp: emp._salary<35000)\n",
    "\n",
    "for emp in result:\n",
    "    print(emp._name, emp._salary)"
   ]
  },
  {
   "cell_type": "markdown",
   "metadata": {},
   "source": [
    "### Function Returning Another Function"
   ]
  },
  {
   "cell_type": "code",
   "execution_count": 33,
   "metadata": {},
   "outputs": [],
   "source": [
    "def plus(x,y): return x+y\n",
    "\n",
    "def minus(x,y) : return x-y\n",
    "\n",
    "def selector(opr):\n",
    "    if opr=='plus':\n",
    "        return  plus #return a function \n",
    "    elif opr=='minus':\n",
    "        return minus\n",
    "    else:\n",
    "        raise ValueError('No such operator')"
   ]
  },
  {
   "cell_type": "code",
   "execution_count": 34,
   "metadata": {},
   "outputs": [],
   "source": [
    "a= selector('plus')\n",
    "b= selector('minus')\n",
    "c= selector('plus')"
   ]
  },
  {
   "cell_type": "code",
   "execution_count": 36,
   "metadata": {},
   "outputs": [
    {
     "name": "stdout",
     "output_type": "stream",
     "text": [
      "<function plus at 0x00000197AA3A1260>\n"
     ]
    },
    {
     "data": {
      "text/plain": [
       "22"
      ]
     },
     "execution_count": 36,
     "metadata": {},
     "output_type": "execute_result"
    }
   ],
   "source": [
    "print(a)\n",
    "a(10,12)"
   ]
  },
  {
   "cell_type": "code",
   "execution_count": 38,
   "metadata": {},
   "outputs": [
    {
     "name": "stdout",
     "output_type": "stream",
     "text": [
      "False\n",
      "True\n"
     ]
    }
   ],
   "source": [
    "print(a is b) # False plus is not minus\n",
    "print(a is c) # True plus is plus"
   ]
  },
  {
   "cell_type": "code",
   "execution_count": 40,
   "metadata": {},
   "outputs": [
    {
     "name": "stdout",
     "output_type": "stream",
     "text": [
      "<function plus at 0x00000197AA3A1260> 1750907621984\n",
      "<function minus at 0x00000197AA2F6B60> 1750906923872\n",
      "<function plus at 0x00000197AA3A1260> 1750907621984\n"
     ]
    }
   ],
   "source": [
    "print(a, id(a))\n",
    "print(b, id(b))\n",
    "print(c, id(c))"
   ]
  },
  {
   "cell_type": "markdown",
   "metadata": {},
   "source": [
    "### call chain"
   ]
  },
  {
   "cell_type": "code",
   "execution_count": 42,
   "metadata": {},
   "outputs": [
    {
     "name": "stdout",
     "output_type": "stream",
     "text": [
      "5 4\n"
     ]
    }
   ],
   "source": [
    "r1=selector(\"plus\")(2,3)\n",
    "r2=selector(\"minus\")(12,8)\n",
    "print(r1,r2)"
   ]
  },
  {
   "cell_type": "markdown",
   "metadata": {},
   "source": [
    "#### What we learnt.\n",
    "\n",
    "* A function **selector** may return another function.\n",
    "* each function has a id\n",
    "* we can call the returned function.\n",
    "* we can call both functions in one statement using call chains\n",
    "\n",
    "\n",
    "\n",
    "## Part 2. INNER FUNCTION: We can define a function inside another function\n",
    "\n",
    "* A function can return an inner function\n",
    "* When a function is called it creates a new instance of inner function\n",
    "* each call will return a different instance of inner function \n",
    "    * They may have same name and same use\n",
    "        * but they will not be same function"
   ]
  },
  {
   "cell_type": "code",
   "execution_count": 43,
   "metadata": {},
   "outputs": [],
   "source": [
    "\n",
    "def selector(opr):\n",
    "    def plus(x,y): return x+y\n",
    "    def minus(x,y) : return x-y\n",
    "    \n",
    "    if opr=='plus':\n",
    "        return  plus #return a function \n",
    "    elif opr=='minus':\n",
    "        return minus\n",
    "    else:\n",
    "        raise ValueError('No such operator')"
   ]
  },
  {
   "cell_type": "markdown",
   "metadata": {},
   "source": [
    "### Here we we call selector(\"plus\") twice, we get two different plus functions"
   ]
  },
  {
   "cell_type": "code",
   "execution_count": 44,
   "metadata": {},
   "outputs": [
    {
     "name": "stdout",
     "output_type": "stream",
     "text": [
      "plus plus\n",
      "50 50\n"
     ]
    }
   ],
   "source": [
    "x = selector('plus')\n",
    "y = selector('plus')\n",
    "\n",
    "# both function has same name and logic\n",
    "print(x.__name__, y.__name__)\n",
    "a,b=20,30\n",
    "print(x(a,b), y(a,b))"
   ]
  },
  {
   "cell_type": "code",
   "execution_count": 45,
   "metadata": {},
   "outputs": [
    {
     "name": "stdout",
     "output_type": "stream",
     "text": [
      "1750907623264\n",
      "1750907627104\n",
      "False\n"
     ]
    }
   ],
   "source": [
    "### But they are not same. They have different ids\n",
    "\n",
    "print(id(x))\n",
    "print(id(y))\n",
    "print(x is y)"
   ]
  },
  {
   "cell_type": "markdown",
   "metadata": {},
   "source": [
    "### What is the use of Having multiple copies of same function in memory?\n",
    "* It uses a closure scope.\n",
    "\n",
    "#### Standard scope for a functions local variable\n",
    "* when we call a function, all the parameters and local variables are created\n",
    "* when function completes all the parameter and local variabels are deleted.\n",
    "\n"
   ]
  },
  {
   "cell_type": "code",
   "execution_count": 47,
   "metadata": {},
   "outputs": [],
   "source": [
    "class Variable:\n",
    "    def __init__(self,name,value):\n",
    "        self.name=name\n",
    "        self.value=value\n",
    "        print(f'variable {self.name} created with value = {self.value}')\n",
    "\n",
    "    def __del__(self):\n",
    "        print(f'variable {self.name} removed')\n",
    "\n",
    "    def __str__(self):\n",
    "        return f'{self.name} = {self.value}'\n"
   ]
  },
  {
   "cell_type": "code",
   "execution_count": 50,
   "metadata": {},
   "outputs": [],
   "source": [
    "def call_me(param):\n",
    "    local=Variable('local',10)\n",
    "    print(param)\n",
    "    print(local)"
   ]
  },
  {
   "cell_type": "code",
   "execution_count": 51,
   "metadata": {},
   "outputs": [
    {
     "name": "stdout",
     "output_type": "stream",
     "text": [
      "variable p created with value = 100\n",
      "variable local created with value = 10\n",
      "p = 100\n",
      "local = 10\n",
      "variable p removed\n",
      "variable local removed\n"
     ]
    }
   ],
   "source": [
    "call_me(Variable('p',100))"
   ]
  },
  {
   "cell_type": "markdown",
   "metadata": {},
   "source": [
    "### Closure Scope\n",
    "\n",
    "* When a function returns an inner function, this approach can cause a problem\n",
    "* consder the below code"
   ]
  },
  {
   "cell_type": "code",
   "execution_count": 52,
   "metadata": {},
   "outputs": [],
   "source": [
    "def outer(p ):\n",
    "\n",
    "    def inner():\n",
    "        print(p)\n",
    "\n",
    "    return inner"
   ]
  },
  {
   "cell_type": "markdown",
   "metadata": {},
   "source": [
    "#### Challenge\n",
    "\n",
    "* when we call \n",
    "```python\n",
    "x = outer(Variable(10))\n",
    "# outer function is over.\n",
    "# if p is removed\n",
    "# what will next line print\n",
    "x()\n",
    "```\n",
    "* the function outer completes after returning the result\n",
    "* As per standard rule, variable \"p\" will be removed from memory\n",
    "* inner function is not called yet\n",
    "\n",
    "* now when we try to call x() in calls inner(). inner() tries to print \"p1\"\n",
    "    * but \"p1\" is remvoed. Right?\n",
    "\n",
    "\n",
    "### Closure Scope\n",
    "\n",
    "* If the outer function returns an inner, then all its parameter and locals will be available to the inner() function\n",
    "* They will NOT be removed from memeory"
   ]
  },
  {
   "cell_type": "code",
   "execution_count": 57,
   "metadata": {},
   "outputs": [],
   "source": [
    "def outer(p):\n",
    "    local=Variable(\"local\", p.value*2)\n",
    "    def inner():\n",
    "        print(local)\n",
    "        print(p)\n"
   ]
  },
  {
   "cell_type": "code",
   "execution_count": 58,
   "metadata": {},
   "outputs": [
    {
     "name": "stdout",
     "output_type": "stream",
     "text": [
      "variable p created with value = 100\n",
      "variable local created with value = 200\n",
      "variable p removed\n",
      "variable local removed\n"
     ]
    }
   ],
   "source": [
    "outer(Variable(\"p\",100))"
   ]
  },
  {
   "cell_type": "markdown",
   "metadata": {},
   "source": [
    "#### But if we return inner"
   ]
  },
  {
   "cell_type": "code",
   "execution_count": 59,
   "metadata": {},
   "outputs": [],
   "source": [
    "def outer(p):\n",
    "    local=Variable(\"local\", p.value*2)\n",
    "    def inner():\n",
    "        print(local)\n",
    "        print(p)\n",
    "\n",
    "    return inner"
   ]
  },
  {
   "cell_type": "code",
   "execution_count": 60,
   "metadata": {},
   "outputs": [
    {
     "name": "stdout",
     "output_type": "stream",
     "text": [
      "variable a created with value = 10\n",
      "variable local created with value = 20\n"
     ]
    }
   ],
   "source": [
    "a = outer(Variable(\"a\",10))"
   ]
  },
  {
   "cell_type": "code",
   "execution_count": 61,
   "metadata": {},
   "outputs": [
    {
     "name": "stdout",
     "output_type": "stream",
     "text": [
      "variable b created with value = 20\n",
      "variable local created with value = 40\n"
     ]
    }
   ],
   "source": [
    "b= outer(Variable('b',20))"
   ]
  },
  {
   "cell_type": "markdown",
   "metadata": {},
   "source": [
    "##### Now a and b will remember their versionof local and parameter"
   ]
  },
  {
   "cell_type": "code",
   "execution_count": 63,
   "metadata": {},
   "outputs": [
    {
     "name": "stdout",
     "output_type": "stream",
     "text": [
      "local = 20\n",
      "a = 10\n"
     ]
    }
   ],
   "source": [
    "a()"
   ]
  },
  {
   "cell_type": "code",
   "execution_count": 64,
   "metadata": {},
   "outputs": [
    {
     "name": "stdout",
     "output_type": "stream",
     "text": [
      "local = 40\n",
      "b = 20\n"
     ]
    }
   ],
   "source": [
    "b()"
   ]
  },
  {
   "cell_type": "markdown",
   "metadata": {},
   "source": [
    "#### How does this concept Help?\n",
    "\n",
    "* we can pass additional functions to inner function by passing them to outer function\n",
    "* how many parameter below function takes?\n"
   ]
  },
  {
   "cell_type": "code",
   "execution_count": 68,
   "metadata": {},
   "outputs": [],
   "source": [
    "def multiplierOf(number):\n",
    "    def multiply(value):\n",
    "        return number*value\n",
    "    return multiply"
   ]
  },
  {
   "cell_type": "code",
   "execution_count": 69,
   "metadata": {},
   "outputs": [],
   "source": [
    "m19 = multiplierOf(19)\n",
    "m17 = multiplierOf(17)"
   ]
  },
  {
   "cell_type": "markdown",
   "metadata": {},
   "source": [
    "#### Note\n",
    "\n",
    "* both m17 and m19 are same function multiply\n"
   ]
  },
  {
   "cell_type": "code",
   "execution_count": 70,
   "metadata": {},
   "outputs": [
    {
     "name": "stdout",
     "output_type": "stream",
     "text": [
      "multiply\n",
      "multiply\n"
     ]
    }
   ],
   "source": [
    "print(m17.__name__)\n",
    "print(m19.__name__)"
   ]
  },
  {
   "cell_type": "markdown",
   "metadata": {},
   "source": [
    "### How man parameter is multiply function taking?\n",
    "```python\n",
    "\n",
    "def multiplierOf(number):\n",
    "    def multiply(value):\n",
    "        return number*value\n",
    "    return multiply\n",
    "```\n",
    "\n",
    "* multiply function is officially taking just one parameter **value**\n",
    "* but each instance will also remember another argument **number** from the closure\n",
    "* Thus they are actually taking two parameters\n",
    "* This could be very useful if you want to pass additional information to a function but can't do it officially"
   ]
  },
  {
   "cell_type": "markdown",
   "metadata": {},
   "source": [
    "### Search Function revisited\n",
    "\n",
    "* let us say we want to search a list of Books"
   ]
  },
  {
   "cell_type": "code",
   "execution_count": 2,
   "metadata": {},
   "outputs": [],
   "source": [
    "class Book:\n",
    "    def __init__(self,title,author,price):\n",
    "        self.title=title\n",
    "        self.author=author\n",
    "        self.price=price\n",
    "\n",
    "    def __str__(self):\n",
    "        return f'{self.title} by {self.author} is {self.price}'\n",
    "    \n",
    "\n",
    "def print_books(books, caption=\"\"):\n",
    "    print(caption)\n",
    "    print(f\"{'Title'.center(20)}|{'Author'.center(30)}|{'Price'.center(10)}\")\n",
    "    print('-'*62)\n",
    "    for book in books:\n",
    "        print(f\"{book.title.ljust(20)}|{book.author.ljust(30)}|{str(book.price).rjust(10)}\")\n",
    "\n",
    "\n",
    "def get_books():\n",
    "    yield Book('The Accursed God','Vivek Dutta Mishra',399)\n",
    "    yield Book('Rashmrathi','Ramdhari Singh Dinkar',199)\n",
    "    yield Book('Kurukshetra','Ramdhari Singh Dinkar',99)\n",
    "    yield Book('Manas','Vivek Dutta Mishra',299)\n",
    "    yield Book('Kane and Abel','Jeffrey Archer',459)\n",
    "    yield Book('Brethren','John Grisham',499)\n",
    "\n",
    "\n",
    "    "
   ]
  },
  {
   "cell_type": "code",
   "execution_count": 3,
   "metadata": {},
   "outputs": [
    {
     "name": "stdout",
     "output_type": "stream",
     "text": [
      "\n",
      "       Title        |            Author            |  Price   \n",
      "--------------------------------------------------------------\n",
      "The Accursed God    |Vivek Dutta Mishra            |       399\n",
      "Rashmrathi          |Ramdhari Singh Dinkar         |       199\n",
      "Kurukshetra         |Ramdhari Singh Dinkar         |        99\n",
      "Manas               |Vivek Dutta Mishra            |       299\n",
      "Kane and Abel       |Jeffrey Archer                |       459\n",
      "Brethren            |John Grisham                  |       499\n"
     ]
    }
   ],
   "source": [
    "books = get_books()\n",
    "print_books(books)"
   ]
  },
  {
   "cell_type": "markdown",
   "metadata": {},
   "source": [
    "### How do I search for books by 'Vivek'\n",
    "\n",
    "* here we can call our search function\n",
    "\n",
    "```python\n",
    "def search(values, criteria):\n",
    "    \n",
    "    for value in values:\n",
    "        if criteria(value):\n",
    "            yield(value)\n",
    "\n",
    "    \n",
    "```\n",
    "\n",
    "* How many parameter does criteria function take? \n",
    "    * only one parameter \n",
    "        * to check if the current object is match\n",
    "    * search function passes this parameter\n",
    "\n",
    "* How do I pass \"Vivek\" \n",
    "    * normally a match may need another parameter\n",
    "        * you need something to match with\n",
    "\n",
    "* What if I want to search all books in a price range min-max?\n",
    "    * how do we pass two additional parameter, when criteria takes a single paramter\n",
    "\n",
    "\n",
    "#### Option #1 Hard Code <--- **BAD IDEA**\n",
    "\n"
   ]
  },
  {
   "cell_type": "code",
   "execution_count": 4,
   "metadata": {},
   "outputs": [],
   "source": [
    "def search(values, criteria):\n",
    "    result=[]\n",
    "    \n",
    "    for value in values:\n",
    "       \n",
    "        if criteria(value):\n",
    "            result.append(value)\n",
    "\n",
    "    return result"
   ]
  },
  {
   "cell_type": "code",
   "execution_count": 5,
   "metadata": {},
   "outputs": [
    {
     "name": "stdout",
     "output_type": "stream",
     "text": [
      "\n",
      "       Title        |            Author            |  Price   \n",
      "--------------------------------------------------------------\n",
      "The Accursed God    |Vivek Dutta Mishra            |       399\n",
      "Manas               |Vivek Dutta Mishra            |       299\n"
     ]
    }
   ],
   "source": [
    "def book_by_vivek(book):\n",
    "    return book.author=='Vivek Dutta Mishra'\n",
    "\n",
    "books=get_books()\n",
    "result = search(books, book_by_vivek)\n",
    "\n",
    "print_books(result)\n"
   ]
  },
  {
   "cell_type": "markdown",
   "metadata": {},
   "source": [
    "#### Problem: We have to write similar function for each author\n",
    "\n",
    "* books_by_archer\n",
    "* books_by_grisham\n",
    "\n",
    "* ideally author name should be a parameter\n",
    "\n",
    "\n",
    "### Approach #2  Using Closure\n",
    "\n",
    "* create criterial as an inner function\n",
    "* pass additonal parameters to the outer function\n",
    "\n",
    "* now we are passing two paramters\n",
    "    * author to outer function\n",
    "    * book to actual criteria defined as inner function"
   ]
  },
  {
   "cell_type": "code",
   "execution_count": 6,
   "metadata": {},
   "outputs": [],
   "source": [
    "def by_author(author):\n",
    "    \n",
    "    def criteria(book):\n",
    "        return author.lower() in book.author.lower()\n",
    "    \n",
    "    return criteria"
   ]
  },
  {
   "cell_type": "code",
   "execution_count": 7,
   "metadata": {},
   "outputs": [
    {
     "name": "stdout",
     "output_type": "stream",
     "text": [
      "\n",
      "       Title        |            Author            |  Price   \n",
      "--------------------------------------------------------------\n",
      "The Accursed God    |Vivek Dutta Mishra            |       399\n",
      "Manas               |Vivek Dutta Mishra            |       299\n"
     ]
    }
   ],
   "source": [
    "books = get_books()\n",
    "\n",
    "result = search(books, by_author('vivek'))\n",
    "\n",
    "print_books(result)"
   ]
  },
  {
   "cell_type": "code",
   "execution_count": 8,
   "metadata": {},
   "outputs": [
    {
     "name": "stdout",
     "output_type": "stream",
     "text": [
      "\n",
      "       Title        |            Author            |  Price   \n",
      "--------------------------------------------------------------\n",
      "Rashmrathi          |Ramdhari Singh Dinkar         |       199\n",
      "Kurukshetra         |Ramdhari Singh Dinkar         |        99\n"
     ]
    }
   ],
   "source": [
    "books=get_books()\n",
    "\n",
    "result = search(books, by_author('dinkar'))\n",
    "print_books(result)"
   ]
  },
  {
   "cell_type": "markdown",
   "metadata": {},
   "source": [
    "#### Books in Price Range"
   ]
  },
  {
   "cell_type": "code",
   "execution_count": 9,
   "metadata": {},
   "outputs": [],
   "source": [
    "def in_price_range(min,max=None):\n",
    "    if max is None:\n",
    "        min,max=0,min\n",
    "\n",
    "    def criteria(book):\n",
    "        return book.price>=min and book.price<=max\n",
    "    return criteria"
   ]
  },
  {
   "cell_type": "code",
   "execution_count": 10,
   "metadata": {},
   "outputs": [
    {
     "name": "stdout",
     "output_type": "stream",
     "text": [
      "\n",
      "       Title        |            Author            |  Price   \n",
      "--------------------------------------------------------------\n",
      "Rashmrathi          |Ramdhari Singh Dinkar         |       199\n",
      "Kurukshetra         |Ramdhari Singh Dinkar         |        99\n",
      "Manas               |Vivek Dutta Mishra            |       299\n"
     ]
    }
   ],
   "source": [
    "books=get_books()\n",
    "result=search(books, in_price_range(300))\n",
    "print_books(result)"
   ]
  },
  {
   "cell_type": "code",
   "execution_count": 11,
   "metadata": {},
   "outputs": [
    {
     "name": "stdout",
     "output_type": "stream",
     "text": [
      "\n",
      "       Title        |            Author            |  Price   \n",
      "--------------------------------------------------------------\n",
      "The Accursed God    |Vivek Dutta Mishra            |       399\n",
      "Kane and Abel       |Jeffrey Archer                |       459\n",
      "Brethren            |John Grisham                  |       499\n"
     ]
    }
   ],
   "source": [
    "books=get_books()\n",
    "result=search(books, in_price_range(300,1000))\n",
    "print_books(result)"
   ]
  },
  {
   "cell_type": "markdown",
   "metadata": {},
   "source": [
    "#### Assignment 2.4 Can there be a third approach to solve the above problem\n",
    "\n",
    "\n",
    "### Approach #3 Lamdba Expression\n",
    "\n",
    "* lambda can be used for some simpler use case where we need to pass few parameters\n",
    "\n",
    "\n",
    "#### Lets find all books priced less than 300"
   ]
  },
  {
   "cell_type": "code",
   "execution_count": 12,
   "metadata": {},
   "outputs": [],
   "source": [
    "books = [book for book in  get_books()]"
   ]
  },
  {
   "cell_type": "code",
   "execution_count": 13,
   "metadata": {},
   "outputs": [
    {
     "name": "stdout",
     "output_type": "stream",
     "text": [
      "\n",
      "       Title        |            Author            |  Price   \n",
      "--------------------------------------------------------------\n",
      "Rashmrathi          |Ramdhari Singh Dinkar         |       199\n",
      "Kurukshetra         |Ramdhari Singh Dinkar         |        99\n",
      "Manas               |Vivek Dutta Mishra            |       299\n"
     ]
    }
   ],
   "source": [
    "result = search(books, lambda book: book.price<300)\n",
    "\n",
    "print_books(result)"
   ]
  },
  {
   "cell_type": "markdown",
   "metadata": {},
   "source": [
    "#### Why not always do this?\n",
    "\n",
    "* it may not be very readable in complex scenarios like search by author name\n",
    "* will not work for multiple lines of logic."
   ]
  },
  {
   "cell_type": "code",
   "execution_count": 15,
   "metadata": {},
   "outputs": [
    {
     "name": "stdout",
     "output_type": "stream",
     "text": [
      "\n",
      "       Title        |            Author            |  Price   \n",
      "--------------------------------------------------------------\n",
      "The Accursed God    |Vivek Dutta Mishra            |       399\n",
      "Manas               |Vivek Dutta Mishra            |       299\n"
     ]
    }
   ],
   "source": [
    "#result = search(books, by_author('vivek'))\n",
    "result = search(books, lambda book: \"vivek\" in book.author.lower())\n",
    "\n",
    "print_books(result)"
   ]
  },
  {
   "cell_type": "markdown",
   "metadata": {},
   "source": [
    "### Builtin sequence functions that works with callback\n",
    "\n",
    "* there are several builtin algorithms that operate on iterable like list and others.\n",
    "\n",
    "* common ones include\n",
    "    * filter\n",
    "        * works in the same way as our search\n",
    "    * map\n",
    "        * transforms and sequence of one type into another\n",
    "\n",
    "* list has sort\n",
    "    * to sort the list on some basis"
   ]
  },
  {
   "cell_type": "markdown",
   "metadata": {},
   "source": [
    "### lets search using filter\n",
    "* we can use the same callbacks as we used with our search"
   ]
  },
  {
   "cell_type": "code",
   "execution_count": 24,
   "metadata": {},
   "outputs": [
    {
     "name": "stdout",
     "output_type": "stream",
     "text": [
      "\n",
      "       Title        |            Author            |  Price   \n",
      "--------------------------------------------------------------\n",
      "The Accursed God    |Vivek Dutta Mishra            |       399\n",
      "Manas               |Vivek Dutta Mishra            |       299\n"
     ]
    }
   ],
   "source": [
    "result1= filter(book_by_vivek, books)\n",
    "\n",
    "print_books(result1)"
   ]
  },
  {
   "cell_type": "code",
   "execution_count": 25,
   "metadata": {},
   "outputs": [
    {
     "name": "stdout",
     "output_type": "stream",
     "text": [
      "\n",
      "       Title        |            Author            |  Price   \n",
      "--------------------------------------------------------------\n",
      "Kane and Abel       |Jeffrey Archer                |       459\n"
     ]
    }
   ],
   "source": [
    "result2 = filter(by_author('archer'),books)\n",
    "\n",
    "print_books(result2)"
   ]
  },
  {
   "cell_type": "code",
   "execution_count": 26,
   "metadata": {},
   "outputs": [
    {
     "name": "stdout",
     "output_type": "stream",
     "text": [
      "\n",
      "       Title        |            Author            |  Price   \n",
      "--------------------------------------------------------------\n",
      "The Accursed God    |Vivek Dutta Mishra            |       399\n",
      "Kane and Abel       |Jeffrey Archer                |       459\n",
      "Brethren            |John Grisham                  |       499\n"
     ]
    }
   ],
   "source": [
    "result3 = filter(lambda b: b.price>300, books)\n",
    "print_books(result3)"
   ]
  },
  {
   "cell_type": "markdown",
   "metadata": {},
   "source": [
    "### map function"
   ]
  },
  {
   "cell_type": "code",
   "execution_count": 29,
   "metadata": {},
   "outputs": [
    {
     "name": "stdout",
     "output_type": "stream",
     "text": [
      "THE ACCURSED GOD\n",
      "RASHMRATHI\n",
      "KURUKSHETRA\n",
      "MANAS\n",
      "KANE AND ABEL\n",
      "BRETHREN\n"
     ]
    }
   ],
   "source": [
    "#return me the book titles for every book\n",
    "result = map( lambda b: b.title.upper(), books)\n",
    "\n",
    "for x in result:\n",
    "    print(x)"
   ]
  },
  {
   "cell_type": "markdown",
   "metadata": {},
   "source": [
    "### sort\n",
    "\n",
    "* sort is a list function to sort a list of values\n",
    "* by default it sorts item in the natural ascending order"
   ]
  },
  {
   "cell_type": "code",
   "execution_count": 31,
   "metadata": {},
   "outputs": [
    {
     "name": "stdout",
     "output_type": "stream",
     "text": [
      "[2, 4, 5, 8, 9, 11, 15]\n"
     ]
    }
   ],
   "source": [
    "numbers= [2, 9, 11, 8 , 4, 15, 5]\n",
    "\n",
    "# sort\n",
    "numbers.sort()\n",
    "print(numbers)"
   ]
  },
  {
   "cell_type": "markdown",
   "metadata": {},
   "source": [
    "#### we may get a descending sort\n"
   ]
  },
  {
   "cell_type": "code",
   "execution_count": 33,
   "metadata": {},
   "outputs": [
    {
     "name": "stdout",
     "output_type": "stream",
     "text": [
      "[15, 11, 9, 8, 5, 4, 2]\n"
     ]
    }
   ],
   "source": [
    "numbers= [2, 9, 11, 8 , 4, 15, 5]\n",
    "\n",
    "# sort\n",
    "numbers.sort( reverse = True)\n",
    "print(numbers)"
   ]
  },
  {
   "cell_type": "markdown",
   "metadata": {},
   "source": [
    "### Worksing with user defined objects\n",
    "\n",
    "* It can work with user defined object if it has \\_\\_lt\\_\\_ function available\n",
    "    * x<y\n",
    "\n",
    "* which is not available in our books currently"
   ]
  },
  {
   "cell_type": "code",
   "execution_count": 34,
   "metadata": {},
   "outputs": [
    {
     "ename": "TypeError",
     "evalue": "'<' not supported between instances of 'Book' and 'Book'",
     "output_type": "error",
     "traceback": [
      "\u001b[1;31m---------------------------------------------------------------------------\u001b[0m",
      "\u001b[1;31mTypeError\u001b[0m                                 Traceback (most recent call last)",
      "Cell \u001b[1;32mIn[34], line 1\u001b[0m\n\u001b[1;32m----> 1\u001b[0m \u001b[43mbooks\u001b[49m\u001b[38;5;241;43m.\u001b[39;49m\u001b[43msort\u001b[49m\u001b[43m(\u001b[49m\u001b[43m)\u001b[49m\n",
      "\u001b[1;31mTypeError\u001b[0m: '<' not supported between instances of 'Book' and 'Book'"
     ]
    }
   ],
   "source": [
    "books.sort()"
   ]
  },
  {
   "cell_type": "markdown",
   "metadata": {},
   "source": [
    "### Let us adda **<** support\n",
    "\n",
    "#### if we want to sort on price"
   ]
  },
  {
   "cell_type": "code",
   "execution_count": 35,
   "metadata": {},
   "outputs": [],
   "source": [
    "Book.__lt__= lambda b1,b2: b1.price<b2.price"
   ]
  },
  {
   "cell_type": "code",
   "execution_count": 36,
   "metadata": {},
   "outputs": [
    {
     "name": "stdout",
     "output_type": "stream",
     "text": [
      "\n",
      "       Title        |            Author            |  Price   \n",
      "--------------------------------------------------------------\n",
      "Kurukshetra         |Ramdhari Singh Dinkar         |        99\n",
      "Rashmrathi          |Ramdhari Singh Dinkar         |       199\n",
      "Manas               |Vivek Dutta Mishra            |       299\n",
      "The Accursed God    |Vivek Dutta Mishra            |       399\n",
      "Kane and Abel       |Jeffrey Archer                |       459\n",
      "Brethren            |John Grisham                  |       499\n"
     ]
    }
   ],
   "source": [
    "books.sort()\n",
    "\n",
    "print_books(books)"
   ]
  },
  {
   "cell_type": "markdown",
   "metadata": {},
   "source": [
    "#### But we may need to sort object on different criteria\n",
    "\n",
    "* Sort on title\n",
    "* Sort on Author\n",
    "    * for same author sort on price\n",
    "\n",
    "#### We can have only one **<** and many different criteria\n",
    "\n",
    "\n",
    "### sort using callback\n",
    "\n",
    "* sort takes a key which can help us pass the callback logic\n",
    "    * it returns a key on which we want to sort"
   ]
  },
  {
   "cell_type": "code",
   "execution_count": 40,
   "metadata": {},
   "outputs": [
    {
     "name": "stdout",
     "output_type": "stream",
     "text": [
      "\n",
      "       Title        |            Author            |  Price   \n",
      "--------------------------------------------------------------\n",
      "Brethren            |John Grisham                  |       499\n",
      "Kane and Abel       |Jeffrey Archer                |       459\n",
      "Kurukshetra         |Ramdhari Singh Dinkar         |        99\n",
      "Manas               |Vivek Dutta Mishra            |       299\n",
      "Rashmrathi          |Ramdhari Singh Dinkar         |       199\n",
      "The Accursed God    |Vivek Dutta Mishra            |       399\n"
     ]
    }
   ],
   "source": [
    "\n",
    "\n",
    "books.sort( key= lambda b: b.title)\n",
    "\n",
    "print_books(books)"
   ]
  },
  {
   "cell_type": "code",
   "execution_count": 41,
   "metadata": {},
   "outputs": [
    {
     "name": "stdout",
     "output_type": "stream",
     "text": [
      "Help on method_descriptor:\n",
      "\n",
      "sort(self, /, *, key=None, reverse=False)\n",
      "    Sort the list in ascending order and return None.\n",
      "\n",
      "    The sort is in-place (i.e. the list itself is modified) and stable (i.e. the\n",
      "    order of two equal elements is maintained).\n",
      "\n",
      "    If a key function is given, apply it once to each list item and sort them,\n",
      "    ascending or descending, according to their function values.\n",
      "\n",
      "    The reverse flag can be set to sort in descending order.\n",
      "\n"
     ]
    }
   ],
   "source": [
    "help(list.sort)"
   ]
  },
  {
   "cell_type": "code",
   "execution_count": null,
   "metadata": {},
   "outputs": [],
   "source": []
  }
 ],
 "metadata": {
  "kernelspec": {
   "display_name": "Python 3",
   "language": "python",
   "name": "python3"
  },
  "language_info": {
   "codemirror_mode": {
    "name": "ipython",
    "version": 3
   },
   "file_extension": ".py",
   "mimetype": "text/x-python",
   "name": "python",
   "nbconvert_exporter": "python",
   "pygments_lexer": "ipython3",
   "version": "3.12.1"
  }
 },
 "nbformat": 4,
 "nbformat_minor": 2
}
