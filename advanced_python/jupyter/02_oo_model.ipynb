{
 "cells": [
  {
   "cell_type": "markdown",
   "metadata": {},
   "source": [
    "### Object Oriened Model in Python\n",
    "\n",
    "* An object represents a entity from a domain\n",
    "    * domain represents by proplem space  \n",
    "    * Example #1: For Employee Management\n",
    "        * Employee\n",
    "        * Organization\n",
    "        * Department\n",
    "        * Salary Structure\n",
    "        * Address\n",
    "        * EmployeeDb\n",
    "    * Example #2: For Ecommerce Application\n",
    "        * Product\n",
    "        * Customer\n",
    "        * Order\n",
    "        * Inventory\n",
    "\n",
    "    * Example #3: For a App Cab System\n",
    "        * Customer\n",
    "        * Driver\n",
    "        * RideType\n",
    "        * Ride\n",
    "        * Vehicle\n",
    "        * Invoice\n",
    "\n",
    "* Each object has few\n",
    "    * information (a.k.a state)\n",
    "    * behavior (a.k.a functionality)\n",
    "    * usage (when used from outside)\n",
    "    * Example #1: A Car\n",
    "        * state:\n",
    "            * color\n",
    "            * registration\n",
    "            * engine\n",
    "        * behavior:\n",
    "            * start\n",
    "            * stop\n",
    "            * turn\n",
    "        * usage:\n",
    "            * ride\n",
    "\n",
    "    * Example #2: int\n",
    "        * state\n",
    "            * value\n",
    "        * behavior\n",
    "            * basic arithmetic operations\n",
    "                * +, -, *, / ...\n",
    "\n",
    "        * usage:\n",
    "            * represent the \n",
    "                * price of a book\n",
    "                * id of an employee\n",
    "\n",
    "    * Example #3: function\n",
    "        * state\n",
    "            * __name__\n",
    "        * behavior\n",
    "            * internal function logic\n",
    "\n",
    "        * usage:\n",
    "            * call the funciton\n",
    "\n",
    "\n",
    "# How do we define a user defined object?\n",
    "\n",
    "* Most programming languages requires you to create a **class** to describe an object\n",
    "    * Even **python** needs it\n",
    "    * Exception to this rule: **JavaScript**\n",
    "        * you can create an object without needing to create a class.\n",
    "\n",
    "* A class is typically an type descriptor for the object\n",
    "    * often referred as a blueprint or template for an object\n",
    "        * I don't like either words\n",
    "\n",
    "#### Role of class in most popular programming languages (C++/Java/C# etc)\n",
    "\n",
    "* A class servers following **important and essential** purpose\n",
    "    * it acts as (type) descriptor (type) \n",
    "    * it defines the **state** and **behavior** for the object\n",
    "    * An object can have only those **state** and **behavior** that are defined as part of the class.\n",
    "    * They can't add/remove anything that is described in the class.\n",
    "    * Any new feature requrires changes in the class.\n",
    "        * That applies to all objects of the class.\n",
    "\n",
    "##### A simple C++ like code to represent a Triangle\n",
    "```cpp\n",
    "class Triangle{\n",
    "  int s1,s2,s3;\n",
    "public:\n",
    "  Triangle(int s1,int s2,int s3){\n",
    "    this->s1=s1;\n",
    "    this->s2=s2;\n",
    "    this->s3=s3;\n",
    "  }\n",
    "  double area(){    \n",
    "    double s= (s1+s2+s3)/2;\n",
    "    return sqrt(s*(s-s1)*(s-s2)*(s-s3));\n",
    "  }\n",
    "  int perimeter(){\n",
    "    return s1+s2+s3;\n",
    "  }\n",
    "};\n",
    "\n",
    "int main(){\n",
    "  Triangle t1(3,4,5);\n",
    "  cout<<t1.area()<<endl;\n",
    "  cout<<t1.perimeter()<<endl;\n",
    "  return 0;\n",
    "}\n",
    "```\n",
    "\n",
    "##### Implication\n",
    "\n",
    "* Now a Triangle object can have only sides s1,s2,s3 and behavior area(), perimeter()\n",
    "\n",
    "* It can't have additional \n",
    "    * state (information) like\n",
    "        * color\n",
    "    * behavior like\n",
    "        * draw()\n",
    "\n",
    "\n",
    "\n",
    "\n"
   ]
  },
  {
   "cell_type": "markdown",
   "metadata": {},
   "source": [
    "## Python OO is different\n",
    "\n",
    "* In python, too, we need a class to create an object\n",
    "* But Python class has just two core responsibility\n",
    "    1. create an object of that class\n",
    "    2. provide type and id information for an object\n",
    "\n",
    "* It is **NOT** required for a python class to define\n",
    "    * state\n",
    "    * behavior\n",
    "\n",
    "* **They can be added to the object after creation.**\n",
    "\n",
    "\n",
    "### The simplest python class to Represent an Employee."
   ]
  },
  {
   "cell_type": "code",
   "execution_count": 1,
   "metadata": {},
   "outputs": [],
   "source": [
    "class Employee:\n",
    "    pass"
   ]
  },
  {
   "cell_type": "markdown",
   "metadata": {},
   "source": [
    "### What can be the usage of this empty class?"
   ]
  },
  {
   "cell_type": "code",
   "execution_count": 5,
   "metadata": {},
   "outputs": [
    {
     "name": "stdout",
     "output_type": "stream",
     "text": [
      "type(e1) <class '__main__.Employee'>\n",
      "id(e1) 2453351924896\n",
      "type(e2) <class '__main__.Employee'>\n",
      "id(e2) 2453332004352\n"
     ]
    }
   ],
   "source": [
    "e1=Employee()\n",
    "e2=Employee()\n",
    "\n",
    "# e1 and e2 have same type but different ids.\n",
    "print(f'type(e1) {type(e1)}')\n",
    "print(f'id(e1) {id(e1)}')\n",
    "\n",
    "print(f'type(e2) {type(e2)}')\n",
    "print(f'id(e2) {id(e2)}')"
   ]
  },
  {
   "cell_type": "code",
   "execution_count": 6,
   "metadata": {},
   "outputs": [
    {
     "data": {
      "text/plain": [
       "True"
      ]
     },
     "execution_count": 6,
     "metadata": {},
     "output_type": "execute_result"
    }
   ],
   "source": [
    "type(e1)==type(e2)"
   ]
  },
  {
   "cell_type": "markdown",
   "metadata": {},
   "source": [
    "### How do we define the states of Employee?\n",
    "\n",
    "* we can attach a state to an object after it is created."
   ]
  },
  {
   "cell_type": "code",
   "execution_count": 7,
   "metadata": {},
   "outputs": [
    {
     "name": "stdout",
     "output_type": "stream",
     "text": [
      "Employee 1, name: John, salary: 1000\n"
     ]
    }
   ],
   "source": [
    "# create the employee\n",
    "e1=Employee()\n",
    "\n",
    "# define the required states.\n",
    "e1.id=1\n",
    "e1.name='John'\n",
    "e1.salary=1000\n",
    "\n",
    "\n",
    "# print the employee\n",
    "print(f'Employee {e1.id}, name: {e1.name}, salary: {e1.salary}')"
   ]
  },
  {
   "cell_type": "markdown",
   "metadata": {},
   "source": [
    "#### Helper Functions"
   ]
  },
  {
   "cell_type": "code",
   "execution_count": 10,
   "metadata": {},
   "outputs": [],
   "source": [
    "def create_employee(id,name,salary):\n",
    "    e=Employee()\n",
    "    #attach state after object is created.\n",
    "    e.id=id\n",
    "    e.name=name\n",
    "    e.salary=salary\n",
    "    return e\n",
    "\n",
    "def show(employee):\n",
    "    print(f'Employee {employee.id}, name: {employee.name}, salary: {employee.salary}')"
   ]
  },
  {
   "cell_type": "code",
   "execution_count": 9,
   "metadata": {},
   "outputs": [
    {
     "name": "stdout",
     "output_type": "stream",
     "text": [
      "Employee 1, name: Sanjay, salary: 10000\n",
      "Employee 2, name: Prabhat, salary: 20000\n"
     ]
    }
   ],
   "source": [
    "e1=create_employee(1,'Sanjay',10000)\n",
    "e2=create_employee(2,'Prabhat',20000)\n",
    "\n",
    "show(e1)\n",
    "show(e2)"
   ]
  },
  {
   "cell_type": "markdown",
   "metadata": {},
   "source": [
    "### Does it make sense to add states after creating an object (Is it realistic)?\n",
    "\n",
    "* Can we know everything about an object before its creation?\n",
    "* Think about a \"Person\"\n",
    "    * States (information)\n",
    "        * name\n",
    "        * height\n",
    "        * age\n",
    "    * Behavior\n",
    "        * eat\n",
    "        * move\n",
    "        * sleep\n",
    "        * drive\n",
    "        * teach\n",
    "        * swim\n",
    "\n",
    "* Question\n",
    "    * How many of these information is available to person at the time birth (creation)\n",
    "        * name?\n",
    "        * can a person move/eat immediately after birth?\n",
    "            * or they acquire these behavior long after their birth?\n",
    "\n",
    "        * Are we sure every person can\n",
    "            * drive\n",
    "            * swim\n",
    "            * teach\n",
    "            * ...\n",
    "\n",
    "* How can we realistically describe all these features for an object before it's creation\n",
    "* What if we need additional information?\n",
    "\n",
    "### Bottom Line:\n",
    "\n",
    "* A python object is more dynamic in comparision to traditional oo language\n",
    "* It can have dynamic properties which are not described by the class.\n",
    "* In tradtional langauges to add a new property we must change the class\n",
    "    * class can be changed only at design time\n",
    "* We can add a property dynamically to an object at the runtime.\n"
   ]
  },
  {
   "cell_type": "markdown",
   "metadata": {},
   "source": [
    "### Let us consider another object ---> Deparment\n",
    "\n",
    "* We again need to \n",
    "    * create the depart object\n",
    "    * show the department object\n"
   ]
  },
  {
   "cell_type": "code",
   "execution_count": 13,
   "metadata": {},
   "outputs": [],
   "source": [
    "class Department:\n",
    "    pass\n",
    "\n",
    "def create_department(id, name, description):\n",
    "    d=Department()\n",
    "    d.id=id\n",
    "    d.name=name\n",
    "    d.description=description\n",
    "    d.employees=[]\n",
    "    return d\n",
    "\n",
    "def add_employee(department, employee):\n",
    "    department.employees.append(employee)\n",
    "\n",
    "def show(department):\n",
    "    print(f'Department Id: {department.id}, Name: {department.name}, Description:{department.description}, Employees: {department.employees}')"
   ]
  },
  {
   "cell_type": "code",
   "execution_count": 14,
   "metadata": {},
   "outputs": [
    {
     "name": "stdout",
     "output_type": "stream",
     "text": [
      "Department Id: 1, Name: Accounts, Description:Accounts Department, Employees: ['Amit', 'Arpana']\n",
      "Department Id: 2, Name: HR, Description:HR Department, Employees: ['Prabhat', 'Pratibha']\n"
     ]
    }
   ],
   "source": [
    "accounts= create_department(1,'Accounts','Accounts Department')\n",
    "hr = create_department(2,'HR','HR Department')\n",
    "\n",
    "add_employee(accounts,\"Amit\")\n",
    "add_employee(accounts,\"Arpana\")\n",
    "\n",
    "add_employee(hr,\"Prabhat\")\n",
    "add_employee(hr,\"Pratibha\")\n",
    "\n",
    "show(accounts)\n",
    "show(hr)\n",
    "\n"
   ]
  },
  {
   "cell_type": "markdown",
   "metadata": {},
   "source": [
    "### Let us test an employee object again"
   ]
  },
  {
   "cell_type": "code",
   "execution_count": 15,
   "metadata": {},
   "outputs": [],
   "source": [
    "e1= create_employee(1, 'Prabhat',20000)"
   ]
  },
  {
   "cell_type": "code",
   "execution_count": 16,
   "metadata": {},
   "outputs": [
    {
     "ename": "AttributeError",
     "evalue": "'Employee' object has no attribute 'description'",
     "output_type": "error",
     "traceback": [
      "\u001b[1;31m---------------------------------------------------------------------------\u001b[0m",
      "\u001b[1;31mAttributeError\u001b[0m                            Traceback (most recent call last)",
      "Cell \u001b[1;32mIn[16], line 1\u001b[0m\n\u001b[1;32m----> 1\u001b[0m \u001b[43mshow\u001b[49m\u001b[43m(\u001b[49m\u001b[43me1\u001b[49m\u001b[43m)\u001b[49m\n",
      "Cell \u001b[1;32mIn[13], line 16\u001b[0m, in \u001b[0;36mshow\u001b[1;34m(department)\u001b[0m\n\u001b[0;32m     15\u001b[0m \u001b[38;5;28;01mdef\u001b[39;00m \u001b[38;5;21mshow\u001b[39m(department):\n\u001b[1;32m---> 16\u001b[0m     \u001b[38;5;28mprint\u001b[39m(\u001b[38;5;124mf\u001b[39m\u001b[38;5;124m'\u001b[39m\u001b[38;5;124mDepartment Id: \u001b[39m\u001b[38;5;132;01m{\u001b[39;00mdepartment\u001b[38;5;241m.\u001b[39mid\u001b[38;5;132;01m}\u001b[39;00m\u001b[38;5;124m, Name: \u001b[39m\u001b[38;5;132;01m{\u001b[39;00mdepartment\u001b[38;5;241m.\u001b[39mname\u001b[38;5;132;01m}\u001b[39;00m\u001b[38;5;124m, Description:\u001b[39m\u001b[38;5;132;01m{\u001b[39;00m\u001b[43mdepartment\u001b[49m\u001b[38;5;241;43m.\u001b[39;49m\u001b[43mdescription\u001b[49m\u001b[38;5;132;01m}\u001b[39;00m\u001b[38;5;124m, Employees: \u001b[39m\u001b[38;5;132;01m{\u001b[39;00mdepartment\u001b[38;5;241m.\u001b[39memployees\u001b[38;5;132;01m}\u001b[39;00m\u001b[38;5;124m'\u001b[39m)\n",
      "\u001b[1;31mAttributeError\u001b[0m: 'Employee' object has no attribute 'description'"
     ]
    }
   ],
   "source": [
    "show(e1)"
   ]
  },
  {
   "cell_type": "markdown",
   "metadata": {},
   "source": [
    "### What is the problem?\n",
    "\n",
    "1. we first created functions for class Employee\n",
    "    * create_employee\n",
    "    * show\n",
    "\n",
    "2. then we created functions for department.\n",
    "    * create_department\n",
    "    * show\n",
    "        * **Now show for employee is inaccessible.(it is still in memory)**\n",
    "\n",
    "3. when we call show(employee) it actuall calls the second show (for department)\n",
    "\n",
    "### Global Names override each other\n",
    "\n",
    "* there is no **overloading**\n",
    "* We didn't have probelm with names\n",
    "    * create_employee\n",
    "    * create_department\n",
    "\n",
    "* They were unique.\n",
    "\n",
    "### How do we solve this problem?\n",
    "\n",
    "* Remember \n",
    "    1. A class is also an object\n",
    "        * we can attach properties to a class.\n",
    "\n",
    "    2. A function is also an object\n",
    "        * we can attach it to a class as a property.\n",
    "\n",
    "\n",
    "##### 1. class is an object\n",
    "\n",
    "* we can attach some information to the class\n",
    "* not to its objects\n",
    "   \n"
   ]
  },
  {
   "cell_type": "code",
   "execution_count": 17,
   "metadata": {},
   "outputs": [
    {
     "name": "stdout",
     "output_type": "stream",
     "text": [
      "<class 'type'> 2453333911280\n"
     ]
    }
   ],
   "source": [
    "print(type(Employee),id(Employee))"
   ]
  },
  {
   "cell_type": "code",
   "execution_count": 19,
   "metadata": {},
   "outputs": [
    {
     "name": "stdout",
     "output_type": "stream",
     "text": [
      "Bosch\n"
     ]
    }
   ],
   "source": [
    "Employee.company=\"Bosch\"\n",
    "print(Employee.company)"
   ]
  },
  {
   "cell_type": "markdown",
   "metadata": {},
   "source": [
    "### We can also attach some function to a class"
   ]
  },
  {
   "cell_type": "code",
   "execution_count": 20,
   "metadata": {},
   "outputs": [],
   "source": [
    "class Employee:\n",
    "    pass\n",
    "\n",
    "def create(id,name,salary):\n",
    "    e=Employee()\n",
    "    e.id=id\n",
    "    e.name=name\n",
    "    e.salary=salary\n",
    "    return e\n",
    "\n",
    "def show(employee):\n",
    "    print(f'Employee {employee.id}, name: {employee.name}, salary: {employee.salary}')\n",
    "\n",
    "# At this point create and show are global references\n",
    "# If we define any new function with same name, the reference will point to new functions\n",
    "# but old function will still be there without reference\n",
    "    \n",
    "# Let us attach a reference to these functions as class properties.\n",
    "    \n",
    "Employee.create=create\n",
    "Employee.show=show\n",
    "\n",
    "# now if we can call these functions as"
   ]
  },
  {
   "cell_type": "code",
   "execution_count": 21,
   "metadata": {},
   "outputs": [
    {
     "name": "stdout",
     "output_type": "stream",
     "text": [
      "Employee 1, name: Prabhat, salary: 20000\n"
     ]
    }
   ],
   "source": [
    "e1=Employee.create(1, 'Prabhat',20000)\n",
    "Employee.show(e1)"
   ]
  },
  {
   "cell_type": "markdown",
   "metadata": {},
   "source": [
    "### Now if we create another global functions with the same name\n",
    "\n",
    "* they will overwrite the global references\n",
    "* but references inside Employee will continue to refer to the original function"
   ]
  },
  {
   "cell_type": "code",
   "execution_count": 27,
   "metadata": {},
   "outputs": [],
   "source": [
    "class Department:\n",
    "    pass\n",
    "\n",
    "def create(id,name,description):\n",
    "    d=Department()\n",
    "    d.id=id\n",
    "    d.name=name\n",
    "    d.description=description\n",
    "    d.employees=[]\n",
    "    return d\n",
    "\n",
    "def show(department):\n",
    "    print(f'Department Id: {department.id}, Name: {department.name}, Description:{department.description}, Employees: {department.employees}')\n",
    "\n",
    "    \n",
    "\n",
    "Department.create=create\n",
    "Department.show=show"
   ]
  },
  {
   "cell_type": "markdown",
   "metadata": {},
   "source": [
    "### Now we can't call global show or create for employee"
   ]
  },
  {
   "cell_type": "code",
   "execution_count": 28,
   "metadata": {},
   "outputs": [
    {
     "name": "stdout",
     "output_type": "stream",
     "text": [
      "Department Id: 1, Name: Vivek, Description:20000, Employees: []\n"
     ]
    }
   ],
   "source": [
    "e1=create(1,'Vivek',20000)\n",
    "show(e1)"
   ]
  },
  {
   "cell_type": "markdown",
   "metadata": {},
   "source": [
    "#### But we can still call the functions referenced by references defined in Employee class"
   ]
  },
  {
   "cell_type": "code",
   "execution_count": 29,
   "metadata": {},
   "outputs": [
    {
     "name": "stdout",
     "output_type": "stream",
     "text": [
      "Employee 1, name: Vivek, salary: 20000\n"
     ]
    }
   ],
   "source": [
    "e1=Employee.create(1,'Vivek', 20000)\n",
    "\n",
    "Employee.show(e1)"
   ]
  },
  {
   "cell_type": "code",
   "execution_count": 25,
   "metadata": {},
   "outputs": [
    {
     "ename": "AttributeError",
     "evalue": "'Employee' object has no attribute 'description'",
     "output_type": "error",
     "traceback": [
      "\u001b[1;31m---------------------------------------------------------------------------\u001b[0m",
      "\u001b[1;31mAttributeError\u001b[0m                            Traceback (most recent call last)",
      "Cell \u001b[1;32mIn[25], line 1\u001b[0m\n\u001b[1;32m----> 1\u001b[0m \u001b[43mshow\u001b[49m\u001b[43m(\u001b[49m\u001b[43me1\u001b[49m\u001b[43m)\u001b[49m\n",
      "Cell \u001b[1;32mIn[22], line 13\u001b[0m, in \u001b[0;36mshow\u001b[1;34m(department)\u001b[0m\n\u001b[0;32m     12\u001b[0m \u001b[38;5;28;01mdef\u001b[39;00m \u001b[38;5;21mshow\u001b[39m(department):\n\u001b[1;32m---> 13\u001b[0m     \u001b[38;5;28mprint\u001b[39m(\u001b[38;5;124mf\u001b[39m\u001b[38;5;124m'\u001b[39m\u001b[38;5;124mDepartment Id: \u001b[39m\u001b[38;5;132;01m{\u001b[39;00mdepartment\u001b[38;5;241m.\u001b[39mid\u001b[38;5;132;01m}\u001b[39;00m\u001b[38;5;124m, Name: \u001b[39m\u001b[38;5;132;01m{\u001b[39;00mdepartment\u001b[38;5;241m.\u001b[39mname\u001b[38;5;132;01m}\u001b[39;00m\u001b[38;5;124m, Description:\u001b[39m\u001b[38;5;132;01m{\u001b[39;00m\u001b[43mdepartment\u001b[49m\u001b[38;5;241;43m.\u001b[39;49m\u001b[43mdescription\u001b[49m\u001b[38;5;132;01m}\u001b[39;00m\u001b[38;5;124m, Employees: \u001b[39m\u001b[38;5;132;01m{\u001b[39;00mdepartment\u001b[38;5;241m.\u001b[39memployees\u001b[38;5;132;01m}\u001b[39;00m\u001b[38;5;124m'\u001b[39m)\n",
      "\u001b[1;31mAttributeError\u001b[0m: 'Employee' object has no attribute 'description'"
     ]
    }
   ],
   "source": [
    "show(e1)"
   ]
  },
  {
   "cell_type": "markdown",
   "metadata": {},
   "source": [
    "### A short (Popular) syntax to define methods for the class\n",
    "\n",
    "* We can add the function with an indent inside the class\n",
    "* This is not compulsary but a popular way"
   ]
  },
  {
   "cell_type": "code",
   "execution_count": 30,
   "metadata": {},
   "outputs": [],
   "source": [
    "class Department:\n",
    "    def create(id,name,description):\n",
    "        d=Department()\n",
    "        d.id=id\n",
    "        d.name=name\n",
    "        d.description=description\n",
    "        d.employees=[]\n",
    "        return d\n",
    "    \n",
    "    def show(department):\n",
    "        print(f'Department Id: {department.id}, Name: {department.name}, Description:{department.description}, Employees: {department.employees}')\n",
    "\n",
    "\n",
    "    def add_employee(deparment, employee):\n",
    "        deparment.employees.append(employee)"
   ]
  },
  {
   "cell_type": "code",
   "execution_count": 31,
   "metadata": {},
   "outputs": [
    {
     "name": "stdout",
     "output_type": "stream",
     "text": [
      "Department Id: 1, Name: Accounts, Description:Accounts, Employees: ['Amit', 'Arpana']\n",
      "Department Id: 2, Name: HR, Description:HR, Employees: ['Prabhat']\n"
     ]
    }
   ],
   "source": [
    "accounts= Department.create(1,\"Accounts\",\"Accounts\")\n",
    "\n",
    "hr= Department.create(2,\"HR\",\"HR\")\n",
    "\n",
    "Department.add_employee(accounts,\"Amit\")\n",
    "Department.add_employee(accounts,\"Arpana\")\n",
    "\n",
    "Department.add_employee(hr,\"Prabhat\")\n",
    "\n",
    "Department.show(accounts)\n",
    "\n",
    "Department.show(hr)"
   ]
  },
  {
   "cell_type": "markdown",
   "metadata": {},
   "source": [
    "#### Problem: Redudnant Info.\n",
    "\n",
    "* consider the below code\n",
    "\n",
    "```python\n",
    "Deparement.show(accounts)\n",
    "```\n",
    "\n",
    "* Here Deparement is mentioned twice.\n",
    "    1. Department \"class\"\n",
    "    2. \"accounts\" is also a Department (object)\n",
    "    \n",
    "\n",
    "* This doesn't make much sense.\n",
    "\n",
    "### Python Object Notation.\n",
    "\n",
    "* In python, if a class function, accepts the object of same class as the first parameter\n",
    "    * we can use that first parameter to invoke the object\n",
    "\n",
    "```python\n",
    "#Deparement.show(accounts)\n",
    "#can be written as\n",
    "```\n",
    "\n"
   ]
  },
  {
   "cell_type": "code",
   "execution_count": 32,
   "metadata": {},
   "outputs": [
    {
     "name": "stdout",
     "output_type": "stream",
     "text": [
      "Department Id: 1, Name: Accounts, Description:Accounts, Employees: ['Amit', 'Arpana']\n"
     ]
    }
   ],
   "source": [
    "accounts.show() # expands to Deparement.show(accounts)"
   ]
  },
  {
   "cell_type": "code",
   "execution_count": 33,
   "metadata": {},
   "outputs": [],
   "source": [
    "# Department.add_employee(accounts,\"Mahesh\")\n",
    "# can be written as\n",
    "\n",
    "accounts.add_employee(\"Mahesh\") # expands to Deparement.add_employee(accounts, \"Mahesh\")\n"
   ]
  },
  {
   "cell_type": "markdown",
   "metadata": {},
   "source": [
    "#### Naming convention.\n",
    "\n",
    "* Generally if the class function takes the object of same class as the first parameter,\n",
    "    * we conventionally call this parameter as **self**\n",
    "\n",
    "* Note\n",
    "    * It is NOT compulsary to call it **self**\n",
    "        * It is a common agreed convention and **STRONGLY RECOMMENDED**\n",
    "\n",
    "\n",
    "#### IMPORTANT! \n",
    "\n",
    "* This syntax works, Only if ~~class function takes the object of same class as first parameter~~ **self parameter**\n",
    "    * the name **self** is NOT important\n",
    "    * the fact that it refers to object of same class is important\n",
    "\n",
    "\n",
    "#### This object notation syntax will not work for **create** function, Why?\n",
    "\n",
    "```python\n",
    "def Department:\n",
    "    def create(id,name,description):\n",
    "        pass\n",
    "```\n",
    "\n",
    "* This function takes **id** as first parameter, which is not same as Department.\n",
    "\n",
    "* What happens if we try to call this function using object notation\n",
    "\n",
    "* remember object that is invoking the function becomes the first parameter\n",
    "\n",
    "\n",
    " "
   ]
  },
  {
   "cell_type": "code",
   "execution_count": 34,
   "metadata": {},
   "outputs": [
    {
     "ename": "TypeError",
     "evalue": "Department.create() takes 3 positional arguments but 4 were given",
     "output_type": "error",
     "traceback": [
      "\u001b[1;31m---------------------------------------------------------------------------\u001b[0m",
      "\u001b[1;31mTypeError\u001b[0m                                 Traceback (most recent call last)",
      "Cell \u001b[1;32mIn[34], line 2\u001b[0m\n\u001b[0;32m      1\u001b[0m d\u001b[38;5;241m=\u001b[39mDepartment()\n\u001b[1;32m----> 2\u001b[0m \u001b[43md\u001b[49m\u001b[38;5;241;43m.\u001b[39;49m\u001b[43mcreate\u001b[49m\u001b[43m(\u001b[49m\u001b[38;5;241;43m1\u001b[39;49m\u001b[43m,\u001b[49m\u001b[38;5;124;43m'\u001b[39;49m\u001b[38;5;124;43mAccounts\u001b[39;49m\u001b[38;5;124;43m'\u001b[39;49m\u001b[43m,\u001b[49m\u001b[38;5;124;43m'\u001b[39;49m\u001b[38;5;124;43mAccounts\u001b[39;49m\u001b[38;5;124;43m'\u001b[39;49m\u001b[43m)\u001b[49m \u001b[38;5;66;03m# expands to Department.create(d,1,'Accounts','Accounts')\u001b[39;00m\n\u001b[0;32m      3\u001b[0m \u001b[38;5;66;03m# we are passing 4 parameters to a function that takes only three.\u001b[39;00m\n",
      "\u001b[1;31mTypeError\u001b[0m: Department.create() takes 3 positional arguments but 4 were given"
     ]
    }
   ],
   "source": [
    "self=Department()\n",
    "self.create(1,'Accounts','Accounts') # expands to Department.create(d,1,'Accounts','Accounts')\n",
    "# we are passing 4 parameters to a function that takes only three."
   ]
  },
  {
   "cell_type": "code",
   "execution_count": 35,
   "metadata": {},
   "outputs": [
    {
     "name": "stdout",
     "output_type": "stream",
     "text": [
      "Department Id: <__main__.Department object at 0x0000023B37392150>, Name: 2, Description:Accounts, Employees: []\n"
     ]
    }
   ],
   "source": [
    "# what if we pass only 2 parameters.\n",
    "self=Department()\n",
    "x=self.create(2,'Accounts') # Department.craete(d,2,'Accounts') # id=d, name=2, description='Accounts'\n",
    "x.show()"
   ]
  },
  {
   "cell_type": "markdown",
   "metadata": {},
   "source": [
    "### Assignnment #2.1 How do I write the create function in such a way that it can be called in object notation\n",
    "\n",
    "\n",
    "#### Solution\n",
    "* To call it in object notation, we must pass **self like** parameter\n",
    "    * object of same class as first parameter\n"
   ]
  },
  {
   "cell_type": "code",
   "execution_count": 41,
   "metadata": {},
   "outputs": [],
   "source": [
    "def create(self, id, name, description):\n",
    "    #d=Department() # we are already passing 'd'\n",
    "    self.id=id\n",
    "    self.name=name\n",
    "    self.description=description\n",
    "    self.employees=[]\n",
    "\n",
    "    #return d #no need to return as this object is already available to the user.\n",
    "\n",
    "Department.create=create"
   ]
  },
  {
   "cell_type": "code",
   "execution_count": 46,
   "metadata": {},
   "outputs": [
    {
     "name": "stdout",
     "output_type": "stream",
     "text": [
      "Department Id: 1, Name: Accounts, Description:Accounts, Employees: []\n"
     ]
    }
   ],
   "source": [
    "accounts=Department()\n",
    "\n",
    "accounts.create(1,'Accounts','Accounts')\n",
    "\n",
    "accounts.show()"
   ]
  },
  {
   "cell_type": "markdown",
   "metadata": {},
   "source": [
    "### When is Department object create ---> Line #1 or Line #3\n",
    "\n",
    "#### If It is created on Line#1\n",
    "\n",
    "* What are we doing on Line#3?\n",
    "* Can a deparment exist without a name or id?\n",
    "* What will happen if I try to show() department on Line#2?\n",
    "\n",
    "#### If it is created on Line#3\n",
    "\n",
    "* What are we doing on Line#1?\n",
    "* What happens if we call print(type(accounts)) on line #2\n",
    "\n",
    "\n",
    "####  There are Two Department Objects\n",
    "\n",
    "#### 1. The domain (business) object Department\n",
    "\n",
    "* We write a code to represent this object.\n",
    "    * business doesn't care about language syntax or semantics\n",
    "* This object can't exist without proper valid information\n",
    "    * name\n",
    "    * employee list\n",
    "    * id\n",
    "\n",
    "* This object is not available until line #3\n",
    "\n",
    "#### 2. The Python Object Department\n",
    "\n",
    "* used for allocating memory.\n",
    "* part of language semantics\n",
    "* gets created on Line#1\n",
    "\n",
    "### Problem ---> There is a gap in the creation of two objects.\n",
    "1. The python object is created on line #1\n",
    "2. The domain object is created on line #3\n",
    "3. A lot of problem can occur between the two lines when object is not ready for use\n",
    "4. We may even forget to call **create**\n",
    "\n",
    "\n",
    "## Python Solution ---> special method \\_\\_init\\_\\_\n",
    "\n",
    "* python recommends creating a special method in the class called \\_\\_init\\_\\_\n",
    "* It will be functionally similar to **create**\n",
    "* But it is part of object creation life cycle\n",
    "* If is defined for us by default.\n",
    "* If we write our own, it is automatically called during object creation\n",
    "\n",
    "#### What happens when we create the Object\n",
    "\n",
    "* you can imagine  that every class acts as a **constructor function**\n",
    "\n",
    "\n",
    "```python\n",
    "d=Department()\n",
    "\n",
    "```\n",
    "* when we call class as function, it internally calls two functions.\n",
    "\n",
    "```python\n",
    "#psudocode for constructor function\n",
    "def Department(*args, **kwargs):\n",
    "    obj = Deparement.__new__(Department, *args, **kwargs)\n",
    "    obj.__init__(*args, **kwargs)\n",
    "    return obj\n",
    "```\n",
    "\n",
    "* Note\n",
    "    1. Any parameter we pass to Deparement() will eventually be passed to \\_\\_init\\_\\_\n",
    "    2. We may also say that any parameer we want to pass to \\_\\_init\\_\\_, we should pass to Department()\n"
   ]
  },
  {
   "cell_type": "code",
   "execution_count": 47,
   "metadata": {},
   "outputs": [],
   "source": [
    "Department.__init__ = create"
   ]
  },
  {
   "cell_type": "code",
   "execution_count": 48,
   "metadata": {},
   "outputs": [
    {
     "ename": "TypeError",
     "evalue": "create() missing 3 required positional arguments: 'id', 'name', and 'description'",
     "output_type": "error",
     "traceback": [
      "\u001b[1;31m---------------------------------------------------------------------------\u001b[0m",
      "\u001b[1;31mTypeError\u001b[0m                                 Traceback (most recent call last)",
      "Cell \u001b[1;32mIn[48], line 1\u001b[0m\n\u001b[1;32m----> 1\u001b[0m d\u001b[38;5;241m=\u001b[39m\u001b[43mDepartment\u001b[49m\u001b[43m(\u001b[49m\u001b[43m)\u001b[49m\n",
      "\u001b[1;31mTypeError\u001b[0m: create() missing 3 required positional arguments: 'id', 'name', and 'description'"
     ]
    }
   ],
   "source": [
    "d=Department()"
   ]
  },
  {
   "cell_type": "code",
   "execution_count": 49,
   "metadata": {},
   "outputs": [
    {
     "name": "stdout",
     "output_type": "stream",
     "text": [
      "Department Id: 1, Name: Accounts, Description:Accounts Department, Employees: []\n"
     ]
    }
   ],
   "source": [
    "d=Department(1,'Accounts','Accounts Department') # Deparement.__init__(d,1,'Accounts','Accounts Department')\n",
    "\n",
    "d.show()"
   ]
  },
  {
   "cell_type": "markdown",
   "metadata": {},
   "source": [
    "#### Complete code for Employee and Deparment"
   ]
  },
  {
   "cell_type": "code",
   "execution_count": 50,
   "metadata": {},
   "outputs": [],
   "source": [
    "class Employee:\n",
    "    def __init__(self, id, name, salary):\n",
    "        self.id=id\n",
    "        self.name=name\n",
    "        self.salary=salary\n",
    "        self.department=None\n",
    "    \n",
    "    def info(self):\n",
    "        return f'Employee Id: {self.id}, Name: {self.name}, Salary: {self.salary}, Department: {self.department}'\n",
    "    \n",
    "    def work(self):\n",
    "        print(f'{self.name} works in {self.department}')\n",
    "\n",
    "\n",
    "    \n",
    "    "
   ]
  },
  {
   "cell_type": "code",
   "execution_count": 51,
   "metadata": {},
   "outputs": [],
   "source": [
    "class Department:\n",
    "    def __init__(self, id, name, description):\n",
    "        self.id=id\n",
    "        self.name=name\n",
    "        self.description=description\n",
    "        self.employees=[]\n",
    "\n",
    "    def add_employee(self, employee):\n",
    "        if isinstance(employee,Employee):\n",
    "            self.employees.append(employee)\n",
    "            employee.department=self\n",
    "        else:\n",
    "            raise TypeError(f'{type(employee).__name__} Not a valid employee')\n",
    "        \n",
    "    def show(self):\n",
    "        print(f'Department Id: {self.id}, Name: {self.name}, Description:{self.description}, Employees: {len(self.employees)}')"
   ]
  },
  {
   "cell_type": "code",
   "execution_count": 52,
   "metadata": {},
   "outputs": [
    {
     "name": "stdout",
     "output_type": "stream",
     "text": [
      "Department Id: 1, Name: Accounts, Description:Accounts Department, Employees: 0\n"
     ]
    }
   ],
   "source": [
    "accounts=Department(1,'Accounts','Accounts Department')\n",
    "accounts.show()"
   ]
  },
  {
   "cell_type": "code",
   "execution_count": 53,
   "metadata": {},
   "outputs": [
    {
     "name": "stdout",
     "output_type": "stream",
     "text": [
      "Department Id: 1, Name: Accounts, Description:Accounts Department, Employees: 2\n"
     ]
    }
   ],
   "source": [
    "accounts.add_employee(Employee(1,'Prabhat',25000))\n",
    "accounts.add_employee(Employee(2,'Amit',50000))\n",
    "accounts.show()"
   ]
  },
  {
   "cell_type": "code",
   "execution_count": 54,
   "metadata": {},
   "outputs": [
    {
     "ename": "TypeError",
     "evalue": "str Not a valid employee",
     "output_type": "error",
     "traceback": [
      "\u001b[1;31m---------------------------------------------------------------------------\u001b[0m",
      "\u001b[1;31mTypeError\u001b[0m                                 Traceback (most recent call last)",
      "Cell \u001b[1;32mIn[54], line 1\u001b[0m\n\u001b[1;32m----> 1\u001b[0m \u001b[43maccounts\u001b[49m\u001b[38;5;241;43m.\u001b[39;49m\u001b[43madd_employee\u001b[49m\u001b[43m(\u001b[49m\u001b[38;5;124;43m'\u001b[39;49m\u001b[38;5;124;43mVivek\u001b[39;49m\u001b[38;5;124;43m'\u001b[39;49m\u001b[43m)\u001b[49m\n",
      "Cell \u001b[1;32mIn[51], line 13\u001b[0m, in \u001b[0;36mDepartment.add_employee\u001b[1;34m(self, employee)\u001b[0m\n\u001b[0;32m     11\u001b[0m     employee\u001b[38;5;241m.\u001b[39mdepartment\u001b[38;5;241m=\u001b[39m\u001b[38;5;28mself\u001b[39m\n\u001b[0;32m     12\u001b[0m \u001b[38;5;28;01melse\u001b[39;00m:\n\u001b[1;32m---> 13\u001b[0m     \u001b[38;5;28;01mraise\u001b[39;00m \u001b[38;5;167;01mTypeError\u001b[39;00m(\u001b[38;5;124mf\u001b[39m\u001b[38;5;124m'\u001b[39m\u001b[38;5;132;01m{\u001b[39;00m\u001b[38;5;28mtype\u001b[39m(employee)\u001b[38;5;241m.\u001b[39m\u001b[38;5;18m__name__\u001b[39m\u001b[38;5;132;01m}\u001b[39;00m\u001b[38;5;124m Not a valid employee\u001b[39m\u001b[38;5;124m'\u001b[39m)\n",
      "\u001b[1;31mTypeError\u001b[0m: str Not a valid employee"
     ]
    }
   ],
   "source": [
    "accounts.add_employee('Vivek')"
   ]
  },
  {
   "cell_type": "markdown",
   "metadata": {},
   "source": [
    "### The Scope Rule\n",
    "\n",
    "* Many OO languages (e.g C++/Java/C#/TypeScript) support scopes for object state and behaviors\n",
    "* common scopes\n",
    "    * public:  any code can access it\n",
    "    * private: can be accessed only using the current class method\n",
    "    * protected: can be accessed only using the current class method and sub class methods\n",
    "    * internal/package: can be accssed by classes in same package/namespace/module\n",
    "\n",
    "\n",
    "#### Python doesn't have scope rules.\n",
    "\n",
    "* All members are always **public**\n",
    "* Any member can be accessed from anywhere.\n",
    "\n",
    "### Python's conventional scope.\n",
    "\n",
    "* Since there is no scope in python, we conventionally follow a scope constraints\n",
    "* Any method or property starting with an underscore is considered **private**\n",
    "* we shouldn't (we can) access them directly from outside.\n",
    "* we should define accessor methods to allow their access."
   ]
  },
  {
   "cell_type": "code",
   "execution_count": 56,
   "metadata": {},
   "outputs": [],
   "source": [
    "class Employee:\n",
    "    def __init__(self, id, name, password,salary):\n",
    "        self.name=name # it is ok to access it from outside\n",
    "        self._id=id # shouldn't be directly accessed from outside\n",
    "        self._password=password # shouldn't be directly accessed from outside\n",
    "        self._salary=salary # shouldn't be directly accessed from outside\n",
    "\n",
    "    def get_id(self): return self._id\n",
    "\n",
    "    def get_salary(self): return self._salary\n",
    "\n",
    "    # we may define a set to ensure only valid values are set\n",
    "    # salary must be a number and should \n",
    "    # not be lesser than previous salary\n",
    "    def set_salary(self, salary):\n",
    "        if not ( isinstance(salary,int) or isinstance(salary,float)):\n",
    "            raise ValueError(\"salary must be a number\")\n",
    "        if salary <= self._salary:\n",
    "            raise ValueError(f\"salary must be greater than previous salary {self._salary}\")\n",
    "\n",
    "    def authenticate(self, password):\n",
    "        if password != self._password:\n",
    "            raise ValueError(\"Invalid Credentials\")\n",
    "        \n",
    "    def change_password(self, old_password, new_password):\n",
    "        self.authenticated(old_password)\n",
    "        self._password=new_password\n",
    "\n",
    "    def info(self):\n",
    "        return f'Employee Id: {self._id}, Name: {self.name}, Salary: {self._salary}'"
   ]
  },
  {
   "cell_type": "code",
   "execution_count": 58,
   "metadata": {},
   "outputs": [
    {
     "name": "stdout",
     "output_type": "stream",
     "text": [
      "Employee Id: 1, Name: vivek, Salary: 20000\n"
     ]
    }
   ],
   "source": [
    "e=Employee(1, 'vivek','p@ss', 20000)\n",
    "print(e.info())"
   ]
  },
  {
   "cell_type": "code",
   "execution_count": 59,
   "metadata": {},
   "outputs": [
    {
     "name": "stdout",
     "output_type": "stream",
     "text": [
      "1\n",
      "1\n"
     ]
    }
   ],
   "source": [
    "print(e._id) # we get the id. but we shouldn't use this\n",
    "\n",
    "#we should use\n",
    "\n",
    "print(e.get_id())\n"
   ]
  },
  {
   "cell_type": "markdown",
   "metadata": {},
   "source": [
    "### valid use of accessors"
   ]
  },
  {
   "cell_type": "code",
   "execution_count": 60,
   "metadata": {},
   "outputs": [
    {
     "name": "stdout",
     "output_type": "stream",
     "text": [
      "None\n",
      "Employee Id: 1, Name: vivek, Salary: 20000\n"
     ]
    }
   ],
   "source": [
    "print(e.authenticate(\"p@ss\")) # should work\n",
    "\n",
    "e.set_salary(50000) # should work\n",
    "\n",
    "print(e.info())\n"
   ]
  },
  {
   "cell_type": "markdown",
   "metadata": {},
   "source": [
    "### Error cases"
   ]
  },
  {
   "cell_type": "code",
   "execution_count": 61,
   "metadata": {},
   "outputs": [
    {
     "ename": "ValueError",
     "evalue": "Invalid Credentials",
     "output_type": "error",
     "traceback": [
      "\u001b[1;31m---------------------------------------------------------------------------\u001b[0m",
      "\u001b[1;31mValueError\u001b[0m                                Traceback (most recent call last)",
      "Cell \u001b[1;32mIn[61], line 1\u001b[0m\n\u001b[1;32m----> 1\u001b[0m \u001b[43me\u001b[49m\u001b[38;5;241;43m.\u001b[39;49m\u001b[43mauthenticate\u001b[49m\u001b[43m(\u001b[49m\u001b[38;5;124;43m\"\u001b[39;49m\u001b[38;5;124;43mwrong-password\u001b[39;49m\u001b[38;5;124;43m\"\u001b[39;49m\u001b[43m)\u001b[49m\n",
      "Cell \u001b[1;32mIn[56], line 23\u001b[0m, in \u001b[0;36mEmployee.authenticate\u001b[1;34m(self, password)\u001b[0m\n\u001b[0;32m     21\u001b[0m \u001b[38;5;28;01mdef\u001b[39;00m \u001b[38;5;21mauthenticate\u001b[39m(\u001b[38;5;28mself\u001b[39m, password):\n\u001b[0;32m     22\u001b[0m     \u001b[38;5;28;01mif\u001b[39;00m password \u001b[38;5;241m!=\u001b[39m \u001b[38;5;28mself\u001b[39m\u001b[38;5;241m.\u001b[39m_password:\n\u001b[1;32m---> 23\u001b[0m         \u001b[38;5;28;01mraise\u001b[39;00m \u001b[38;5;167;01mValueError\u001b[39;00m(\u001b[38;5;124m\"\u001b[39m\u001b[38;5;124mInvalid Credentials\u001b[39m\u001b[38;5;124m\"\u001b[39m)\n",
      "\u001b[1;31mValueError\u001b[0m: Invalid Credentials"
     ]
    }
   ],
   "source": [
    "e.authenticate(\"wrong-password\")\n"
   ]
  },
  {
   "cell_type": "code",
   "execution_count": 62,
   "metadata": {},
   "outputs": [
    {
     "ename": "ValueError",
     "evalue": "salary must be greater than previous salary 20000",
     "output_type": "error",
     "traceback": [
      "\u001b[1;31m---------------------------------------------------------------------------\u001b[0m",
      "\u001b[1;31mValueError\u001b[0m                                Traceback (most recent call last)",
      "Cell \u001b[1;32mIn[62], line 1\u001b[0m\n\u001b[1;32m----> 1\u001b[0m \u001b[43me\u001b[49m\u001b[38;5;241;43m.\u001b[39;49m\u001b[43mset_salary\u001b[49m\u001b[43m(\u001b[49m\u001b[38;5;241;43m10000\u001b[39;49m\u001b[43m)\u001b[49m\n",
      "Cell \u001b[1;32mIn[56], line 19\u001b[0m, in \u001b[0;36mEmployee.set_salary\u001b[1;34m(self, salary)\u001b[0m\n\u001b[0;32m     17\u001b[0m     \u001b[38;5;28;01mraise\u001b[39;00m \u001b[38;5;167;01mValueError\u001b[39;00m(\u001b[38;5;124m\"\u001b[39m\u001b[38;5;124msalary must be a number\u001b[39m\u001b[38;5;124m\"\u001b[39m)\n\u001b[0;32m     18\u001b[0m \u001b[38;5;28;01mif\u001b[39;00m salary \u001b[38;5;241m<\u001b[39m\u001b[38;5;241m=\u001b[39m \u001b[38;5;28mself\u001b[39m\u001b[38;5;241m.\u001b[39m_salary:\n\u001b[1;32m---> 19\u001b[0m     \u001b[38;5;28;01mraise\u001b[39;00m \u001b[38;5;167;01mValueError\u001b[39;00m(\u001b[38;5;124mf\u001b[39m\u001b[38;5;124m\"\u001b[39m\u001b[38;5;124msalary must be greater than previous salary \u001b[39m\u001b[38;5;132;01m{\u001b[39;00m\u001b[38;5;28mself\u001b[39m\u001b[38;5;241m.\u001b[39m_salary\u001b[38;5;132;01m}\u001b[39;00m\u001b[38;5;124m\"\u001b[39m)\n",
      "\u001b[1;31mValueError\u001b[0m: salary must be greater than previous salary 20000"
     ]
    }
   ],
   "source": [
    "e.set_salary(10000)"
   ]
  },
  {
   "cell_type": "markdown",
   "metadata": {},
   "source": [
    "#### But we can (**we shouldn't**) directly modify the values"
   ]
  },
  {
   "cell_type": "code",
   "execution_count": 65,
   "metadata": {},
   "outputs": [],
   "source": [
    "e._password=\"new-password\"\n",
    "e.authenticate(\"new-password\")"
   ]
  },
  {
   "cell_type": "markdown",
   "metadata": {},
   "source": [
    "### A more secured class member\n",
    "\n",
    "* python follows another and more secured convention.\n",
    "* Here the name is prefixed with double underscore.\n",
    "* such variables are less easy to modify\n",
    "    * Note, I am using the word less easy and not difficult or impossible."
   ]
  },
  {
   "cell_type": "code",
   "execution_count": 75,
   "metadata": {},
   "outputs": [],
   "source": [
    "class Employee:\n",
    "    def __init__(self, id, name, password,salary):\n",
    "        self.name=name # it is ok to access it from outside\n",
    "        self._id=id # shouldn't be directly accessed from outside\n",
    "        self.__password=password # shouldn't be directly accessed from outside\n",
    "        self._salary=salary # shouldn't be directly accessed from outside\n",
    "\n",
    "    def authenticate(self, password):\n",
    "        if password != self.__password:\n",
    "            raise ValueError(\"Invalid Credentials\")\n",
    "        \n",
    "    def info(self):\n",
    "        return f'Employee Id: {self._id}, Name: {self.name}, Salary: {self._salary}'"
   ]
  },
  {
   "cell_type": "code",
   "execution_count": 76,
   "metadata": {},
   "outputs": [
    {
     "name": "stdout",
     "output_type": "stream",
     "text": [
      "Employee Id: 1, Name: Prabhat, Salary: 20000\n"
     ]
    }
   ],
   "source": [
    "e1= Employee(1,'Prabhat','p@ss',20000)\n",
    "print(e1.info())"
   ]
  },
  {
   "cell_type": "markdown",
   "metadata": {},
   "source": [
    "#### I can easily modify salary from oustside"
   ]
  },
  {
   "cell_type": "code",
   "execution_count": 77,
   "metadata": {},
   "outputs": [
    {
     "name": "stdout",
     "output_type": "stream",
     "text": [
      "Employee Id: 1, Name: Prabhat, Salary: 10000\n"
     ]
    }
   ],
   "source": [
    "e1._salary=10000\n",
    "print(e1.info())"
   ]
  },
  {
   "cell_type": "markdown",
   "metadata": {},
   "source": [
    "#### What happens if we modify the password from oustside"
   ]
  },
  {
   "cell_type": "code",
   "execution_count": 92,
   "metadata": {},
   "outputs": [
    {
     "name": "stdout",
     "output_type": "stream",
     "text": [
      "hacked password\n"
     ]
    }
   ],
   "source": [
    "e1.__password='hacked password'\n",
    "print(e1.__password)"
   ]
  },
  {
   "cell_type": "markdown",
   "metadata": {},
   "source": [
    "### password changed very easily. So what is the difference?\n",
    "\n",
    "* let us check if the hacker can use the new password to authenticate"
   ]
  },
  {
   "cell_type": "code",
   "execution_count": 93,
   "metadata": {},
   "outputs": [
    {
     "ename": "ValueError",
     "evalue": "Invalid Credentials",
     "output_type": "error",
     "traceback": [
      "\u001b[1;31m---------------------------------------------------------------------------\u001b[0m",
      "\u001b[1;31mValueError\u001b[0m                                Traceback (most recent call last)",
      "Cell \u001b[1;32mIn[93], line 1\u001b[0m\n\u001b[1;32m----> 1\u001b[0m \u001b[43me1\u001b[49m\u001b[38;5;241;43m.\u001b[39;49m\u001b[43mauthenticate\u001b[49m\u001b[43m(\u001b[49m\u001b[38;5;124;43m'\u001b[39;49m\u001b[38;5;124;43mhacked password\u001b[39;49m\u001b[38;5;124;43m'\u001b[39;49m\u001b[43m)\u001b[49m\n",
      "Cell \u001b[1;32mIn[81], line 13\u001b[0m, in \u001b[0;36mEmployee.authenticate\u001b[1;34m(self, password)\u001b[0m\n\u001b[0;32m     10\u001b[0m \u001b[38;5;28;01mdef\u001b[39;00m \u001b[38;5;21mauthenticate\u001b[39m(\u001b[38;5;28mself\u001b[39m, password):\n\u001b[0;32m     11\u001b[0m     \u001b[38;5;66;03m# this line is internally modified\u001b[39;00m\n\u001b[0;32m     12\u001b[0m     \u001b[38;5;28;01mif\u001b[39;00m password \u001b[38;5;241m!=\u001b[39m \u001b[38;5;28mself\u001b[39m\u001b[38;5;241m.\u001b[39m__password:  \u001b[38;5;66;03m#if password != self._Employee__password:\u001b[39;00m\n\u001b[1;32m---> 13\u001b[0m         \u001b[38;5;28;01mraise\u001b[39;00m \u001b[38;5;167;01mValueError\u001b[39;00m(\u001b[38;5;124m\"\u001b[39m\u001b[38;5;124mInvalid Credentials\u001b[39m\u001b[38;5;124m\"\u001b[39m)\n",
      "\u001b[1;31mValueError\u001b[0m: Invalid Credentials"
     ]
    }
   ],
   "source": [
    "e1.authenticate('hacked password')"
   ]
  },
  {
   "cell_type": "code",
   "execution_count": null,
   "metadata": {},
   "outputs": [
    {
     "name": "stdout",
     "output_type": "stream",
     "text": [
      "Authenticated successfully\n"
     ]
    }
   ],
   "source": [
    "e1.authenticate('p@ss')\n",
    "print('Authenticated successfully')"
   ]
  },
  {
   "cell_type": "markdown",
   "metadata": {},
   "source": [
    "### What really happened here\n",
    "\n",
    "* Python stores double underscored members differently internally\n",
    "* The prefix their names with **\\_ClassName**\n"
   ]
  },
  {
   "cell_type": "code",
   "execution_count": null,
   "metadata": {},
   "outputs": [],
   "source": [
    "class Employee:\n",
    "    def __init__(self, id, name, password,salary):\n",
    "        self.name=name # stored as it is\n",
    "        self._id=id # stored as it is\n",
    "        self._salary=salary # stored as it is\n",
    "        \n",
    "        #stored differently\n",
    "        self.__password=password # self._Employee__password=password \n",
    "\n",
    "    def authenticate(self, password):\n",
    "        # this line is internally modified\n",
    "        if password != self.__password:  #if password != self._Employee__password:\n",
    "            raise ValueError(\"Invalid Credentials\")\n",
    "        \n",
    "    def info(self):\n",
    "        return f'Employee Id: {self._id}, Name: {self.name}, Salary: {self._salary}'"
   ]
  },
  {
   "cell_type": "code",
   "execution_count": null,
   "metadata": {},
   "outputs": [],
   "source": [
    "e1=Employee(1,'Prabhat','p@ss',20000)"
   ]
  },
  {
   "cell_type": "code",
   "execution_count": null,
   "metadata": {},
   "outputs": [],
   "source": [
    "# we can see the content of this object using **dir** command\n",
    "def obj_dir(obj):\n",
    "    return [ prop for prop in dir(obj) if not prop.endswith('__') ]"
   ]
  },
  {
   "cell_type": "code",
   "execution_count": null,
   "metadata": {},
   "outputs": [
    {
     "data": {
      "text/plain": [
       "['_Employee__password', '_id', '_salary', 'authenticate', 'info', 'name']"
      ]
     },
     "execution_count": 90,
     "metadata": {},
     "output_type": "execute_result"
    }
   ],
   "source": [
    "obj_dir(e1)"
   ]
  },
  {
   "cell_type": "code",
   "execution_count": null,
   "metadata": {},
   "outputs": [
    {
     "name": "stdout",
     "output_type": "stream",
     "text": [
      "['_Employee__password', '__password', '_id', '_salary', 'authenticate', 'info', 'name']\n"
     ]
    }
   ],
   "source": [
    "# if I try to modify __password from outside, we actually create a new field\n",
    "\n",
    "e1.__password='hacked password'\n",
    "print(obj_dir(e1))\n"
   ]
  },
  {
   "cell_type": "code",
   "execution_count": null,
   "metadata": {},
   "outputs": [],
   "source": [
    "# But this new field is not used internally\n",
    "# so authenticate works based on original field"
   ]
  },
  {
   "cell_type": "code",
   "execution_count": 94,
   "metadata": {},
   "outputs": [
    {
     "ename": "ValueError",
     "evalue": "Invalid Credentials",
     "output_type": "error",
     "traceback": [
      "\u001b[1;31m---------------------------------------------------------------------------\u001b[0m",
      "\u001b[1;31mValueError\u001b[0m                                Traceback (most recent call last)",
      "Cell \u001b[1;32mIn[94], line 1\u001b[0m\n\u001b[1;32m----> 1\u001b[0m \u001b[43me1\u001b[49m\u001b[38;5;241;43m.\u001b[39;49m\u001b[43mauthenticate\u001b[49m\u001b[43m(\u001b[49m\u001b[38;5;124;43m'\u001b[39;49m\u001b[38;5;124;43mhacked password\u001b[39;49m\u001b[38;5;124;43m'\u001b[39;49m\u001b[43m)\u001b[49m \u001b[38;5;66;03m# it compares with _Employee__password not with __password\u001b[39;00m\n",
      "Cell \u001b[1;32mIn[81], line 13\u001b[0m, in \u001b[0;36mEmployee.authenticate\u001b[1;34m(self, password)\u001b[0m\n\u001b[0;32m     10\u001b[0m \u001b[38;5;28;01mdef\u001b[39;00m \u001b[38;5;21mauthenticate\u001b[39m(\u001b[38;5;28mself\u001b[39m, password):\n\u001b[0;32m     11\u001b[0m     \u001b[38;5;66;03m# this line is internally modified\u001b[39;00m\n\u001b[0;32m     12\u001b[0m     \u001b[38;5;28;01mif\u001b[39;00m password \u001b[38;5;241m!=\u001b[39m \u001b[38;5;28mself\u001b[39m\u001b[38;5;241m.\u001b[39m__password:  \u001b[38;5;66;03m#if password != self._Employee__password:\u001b[39;00m\n\u001b[1;32m---> 13\u001b[0m         \u001b[38;5;28;01mraise\u001b[39;00m \u001b[38;5;167;01mValueError\u001b[39;00m(\u001b[38;5;124m\"\u001b[39m\u001b[38;5;124mInvalid Credentials\u001b[39m\u001b[38;5;124m\"\u001b[39m)\n",
      "\u001b[1;31mValueError\u001b[0m: Invalid Credentials"
     ]
    }
   ],
   "source": [
    "e1.authenticate('hacked password') # it compares with _Employee__password not with __password"
   ]
  },
  {
   "cell_type": "markdown",
   "metadata": {},
   "source": [
    "#### Now you know it, you can break it"
   ]
  },
  {
   "cell_type": "code",
   "execution_count": 95,
   "metadata": {},
   "outputs": [
    {
     "name": "stdout",
     "output_type": "stream",
     "text": [
      "hacked password\n",
      "p@ss\n"
     ]
    }
   ],
   "source": [
    "print(e1.__password)\n",
    "print(e1._Employee__password)"
   ]
  },
  {
   "cell_type": "code",
   "execution_count": 96,
   "metadata": {},
   "outputs": [
    {
     "name": "stdout",
     "output_type": "stream",
     "text": [
      "Your password has been hacked\n"
     ]
    }
   ],
   "source": [
    "e1._Employee__password=\"hacked finally\"\n",
    "\n",
    "e1.authenticate('hacked finally')\n",
    "\n",
    "print('Your password has been hacked')"
   ]
  },
  {
   "cell_type": "markdown",
   "metadata": {},
   "source": [
    "### Summary of Python Object Model\n",
    "\n",
    "* Python classes may define behaviors\n",
    "    * those behaviors defined in class can be accessed using object notation\n",
    "\n",
    "* Python classes DO NOT DEFINE fields/states\n",
    "    * The are attached to the object using\n",
    "        * manually\n",
    "        * any method like create\n",
    "        * **\\_\\_init\\_\\_**\n",
    "\n",
    "    * But fields DO NOT belong to class\n",
    "        * they are part of object\n",
    "\n",
    "\n",
    "## What if we define a field at the class level?"
   ]
  },
  {
   "cell_type": "code",
   "execution_count": 103,
   "metadata": {},
   "outputs": [],
   "source": [
    "class Employee:\n",
    "    _company=\"Bosch\"\n",
    "    def __init__(self, id, name, password,salary):\n",
    "        self.name=name # stored as it is\n",
    "        self._id=id # stored as it is\n",
    "        self._salary=salary # stored as it is\n",
    "        \n",
    "        #stored differently\n",
    "        self.__password=password # self._Employee__password=password\n",
    "    def info(self):\n",
    "        return f'Employee Id: {self._id}, Name: {self.name}, Salary: {self._salary}, Company: {self._company}'"
   ]
  },
  {
   "cell_type": "markdown",
   "metadata": {},
   "source": [
    "### About Fields Declared at Class Level\n",
    "\n",
    "* These fields can be accessed (**read**) using\n",
    "    * class reference\n",
    "    * object reference\n",
    "        * self reference\n"
   ]
  },
  {
   "cell_type": "code",
   "execution_count": 104,
   "metadata": {},
   "outputs": [],
   "source": [
    "e1=Employee(1,'Prabhat','p@ss',20000)\n",
    "e2=Employee(1,'Amit','p@ss2',20000)\n"
   ]
  },
  {
   "cell_type": "code",
   "execution_count": 105,
   "metadata": {},
   "outputs": [
    {
     "name": "stdout",
     "output_type": "stream",
     "text": [
      "Employee Id: 1, Name: Prabhat, Salary: 20000, Company: Bosch\n",
      "Employee Id: 1, Name: Amit, Salary: 20000, Company: Bosch\n"
     ]
    }
   ],
   "source": [
    "print(e1.info())\n",
    "print(e2.info())"
   ]
  },
  {
   "cell_type": "code",
   "execution_count": 106,
   "metadata": {},
   "outputs": [
    {
     "name": "stdout",
     "output_type": "stream",
     "text": [
      "Bosch\n",
      "Bosch\n",
      "Bosch\n"
     ]
    }
   ],
   "source": [
    "print(e1._company)\n",
    "print(e2._company)\n",
    "print(Employee._company)"
   ]
  },
  {
   "cell_type": "markdown",
   "metadata": {},
   "source": [
    "#### Moifying the _company name \n",
    "\n",
    "#### Right Approach\n",
    "\n",
    "* using the class reference\n",
    "* when we do it, it changes the details for every object\n",
    "* this information is shared and class level."
   ]
  },
  {
   "cell_type": "code",
   "execution_count": 107,
   "metadata": {},
   "outputs": [
    {
     "name": "stdout",
     "output_type": "stream",
     "text": [
      "HP\n",
      "HP\n",
      "HP\n"
     ]
    }
   ],
   "source": [
    "Employee._company=\"HP\"\n",
    "\n",
    "print(Employee._company)\n",
    "print(e1._company)\n",
    "print(e2._company)\n"
   ]
  },
  {
   "cell_type": "markdown",
   "metadata": {},
   "source": [
    "#### If we modify _company using object reference\n",
    "\n",
    "* object reference can't modify shared _company variable\n",
    "* If we try to do it, it creates a new field for the current object only.\n",
    "* The global field remains unchanged\n"
   ]
  },
  {
   "cell_type": "code",
   "execution_count": 108,
   "metadata": {},
   "outputs": [
    {
     "name": "stdout",
     "output_type": "stream",
     "text": [
      "HP\n",
      "Bosch\n",
      "HP\n"
     ]
    }
   ],
   "source": [
    "e1._company = \"Bosch\"\n",
    "\n",
    "print(Employee._company) #HP\n",
    "\n",
    "print(e1._company) #Bosch\n",
    "\n",
    "print(e2._company) #HP"
   ]
  },
  {
   "cell_type": "markdown",
   "metadata": {},
   "source": [
    "### Best Practice Guidlines\n",
    "\n",
    "* Fields declared at class level are supposed to be shared.\n",
    "* They shouldn't be (can be) accessed using object reference\n",
    "    * Avoid!\n",
    "\n",
    "* They can help us track some information common to all objects. "
   ]
  },
  {
   "cell_type": "markdown",
   "metadata": {},
   "source": [
    "### Real world Example!\n",
    "\n",
    "* Do we see any problem in the below code?"
   ]
  },
  {
   "cell_type": "code",
   "execution_count": 109,
   "metadata": {},
   "outputs": [
    {
     "name": "stdout",
     "output_type": "stream",
     "text": [
      "Employee Id: 1, Name: Prabhat, Salary: 20000, Company: HP\n",
      "Employee Id: 1, Name: Amit, Salary: 20000, Company: HP\n"
     ]
    }
   ],
   "source": [
    "e1=Employee(1,'Prabhat','p@ss',20000)\n",
    "e2=Employee(1,'Amit','p@ss2',20000)\n",
    "\n",
    "print(e1.info())\n",
    "print(e2.info())"
   ]
  },
  {
   "cell_type": "markdown",
   "metadata": {},
   "source": [
    "#### Duplicate Ids\n",
    "\n",
    "* Two employees can't have same id.\n",
    "* If we allow user to pass an id, they can pass dupicate\n",
    "* In an ideal situation it should be generated.\n",
    "* Every new object should get an id different from the other.\n",
    "* Every new object shold know what was the last id given to previous object\n",
    "    * this information needs to be shared among objects\n",
    "\n",
    "\n"
   ]
  },
  {
   "cell_type": "code",
   "execution_count": 114,
   "metadata": {},
   "outputs": [],
   "source": [
    "class Company:\n",
    "    def __init__(self,name):\n",
    "        self.name=name\n",
    "        self.employees=[]\n",
    "\n",
    "    def info(self):\n",
    "        return self.name\n",
    "    \n",
    "    def add_employee(self, employee):\n",
    "        self.employees=employee\n",
    "        employee._company=self\n",
    "\n",
    "class Employee:\n",
    "    _last_id=0\n",
    "    def __init__(self, name, salary, company):\n",
    "        Employee._last_id+=1\n",
    "        self._id=Employee._last_id\n",
    "       \n",
    "        self.name=name\n",
    "        self._salary=salary\n",
    "        company.add_employee(self)\n",
    "       \n",
    "    def info(self):\n",
    "        return f'Employee Id: {self._id}, Name: {self.name}, Salary: {self._salary}, Company: {self._company.name}'\n",
    "        "
   ]
  },
  {
   "cell_type": "code",
   "execution_count": 115,
   "metadata": {},
   "outputs": [
    {
     "name": "stdout",
     "output_type": "stream",
     "text": [
      "Employee Id: 1, Name: Prabhat, Salary: 20000, Company: Bosch\n",
      "Employee Id: 2, Name: Fagun, Salary: 20000, Company: Bosch\n",
      "Employee Id: 3, Name: Amit, Salary: 20000, Company: Bosch\n"
     ]
    }
   ],
   "source": [
    "bosch=Company('Bosch')\n",
    "\n",
    "employees=[ Employee('Prabhat',20000, bosch),\n",
    "            Employee('Fagun',20000, bosch),\n",
    "            Employee('Amit',20000, bosch)   \n",
    "        ]\n",
    "\n",
    "for employee in employees:\n",
    "    print(employee.info())"
   ]
  },
  {
   "cell_type": "markdown",
   "metadata": {},
   "source": [
    "### We may have a probem with the code below.\n",
    "\n",
    "* can you find out the problem"
   ]
  },
  {
   "cell_type": "code",
   "execution_count": 116,
   "metadata": {},
   "outputs": [
    {
     "name": "stdout",
     "output_type": "stream",
     "text": [
      "Employee Id: 4, Name: Prabhat, Salary: 20000, Company: Bosch\n",
      "Employee Id: 5, Name: Fagun, Salary: 20000, Company: HP\n",
      "Employee Id: 6, Name: Amit, Salary: 20000, Company: Bosch\n"
     ]
    }
   ],
   "source": [
    "bosch=Company('Bosch')\n",
    "hp=Company('HP')\n",
    "\n",
    "employees=[ Employee('Prabhat',20000, bosch),\n",
    "            Employee('Fagun',20000, hp),\n",
    "            Employee('Amit',20000, bosch)   \n",
    "        ]\n",
    "\n",
    "for employee in employees:\n",
    "    print(employee.info())"
   ]
  },
  {
   "cell_type": "markdown",
   "metadata": {},
   "source": [
    "#### Problem\n",
    "\n",
    "* here id is unique across companies which is NOT realistic\n",
    "* Each company will have its own id series and id may be duplicate across company\n",
    "    * it is only for internal usage.\n",
    "\n",
    "* Bosch may not even know what ids HP is using and vice-a-versa\n",
    "\n",
    "\n",
    "\n",
    "#### Assignment 1.3 : Fix the problem with the above code\n",
    "\n",
    "* Id for different companies can increase internally\n",
    "* Id may be duplicate between two companies.\n",
    "* Id withing company should be generated in sequence and unqiue\n",
    "\n",
    "#### HINT\n",
    "* You don't need class level shared field to solve this problem.\n",
    "* Think where should this _last_id be declared."
   ]
  },
  {
   "cell_type": "code",
   "execution_count": null,
   "metadata": {},
   "outputs": [],
   "source": []
  }
 ],
 "metadata": {
  "kernelspec": {
   "display_name": "Python 3",
   "language": "python",
   "name": "python3"
  },
  "language_info": {
   "codemirror_mode": {
    "name": "ipython",
    "version": 3
   },
   "file_extension": ".py",
   "mimetype": "text/x-python",
   "name": "python",
   "nbconvert_exporter": "python",
   "pygments_lexer": "ipython3",
   "version": "3.12.1"
  }
 },
 "nbformat": 4,
 "nbformat_minor": 2
}
