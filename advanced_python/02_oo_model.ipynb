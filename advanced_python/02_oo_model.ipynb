{
 "cells": [
  {
   "cell_type": "markdown",
   "metadata": {},
   "source": [
    "### Object Oriened Model in Python\n",
    "\n",
    "* An object represents a entity from a domain\n",
    "    * domain represents by proplem space  \n",
    "    * Example #1: For Employee Management\n",
    "        * Employee\n",
    "        * Organization\n",
    "        * Department\n",
    "        * Salary Structure\n",
    "        * Address\n",
    "        * EmployeeDb\n",
    "    * Example #2: For Ecommerce Application\n",
    "        * Product\n",
    "        * Customer\n",
    "        * Order\n",
    "        * Inventory\n",
    "\n",
    "    * Example #3: For a App Cab System\n",
    "        * Customer\n",
    "        * Driver\n",
    "        * RideType\n",
    "        * Ride\n",
    "        * Vehicle\n",
    "        * Invoice\n",
    "\n",
    "* Each object has few\n",
    "    * information (a.k.a state)\n",
    "    * behavior (a.k.a functionality)\n",
    "    * usage (when used from outside)\n",
    "    * Example #1: A Car\n",
    "        * state:\n",
    "            * color\n",
    "            * registration\n",
    "            * engine\n",
    "        * behavior:\n",
    "            * start\n",
    "            * stop\n",
    "            * turn\n",
    "        * usage:\n",
    "            * ride\n",
    "\n",
    "    * Example #2: int\n",
    "        * state\n",
    "            * value\n",
    "        * behavior\n",
    "            * basic arithmetic operations\n",
    "                * +, -, *, / ...\n",
    "\n",
    "        * usage:\n",
    "            * represent the \n",
    "                * price of a book\n",
    "                * id of an employee\n",
    "\n",
    "    * Example #3: function\n",
    "        * state\n",
    "            * __name__\n",
    "        * behavior\n",
    "            * internal function logic\n",
    "\n",
    "        * usage:\n",
    "            * call the funciton\n",
    "\n",
    "\n",
    "# How do we define a user defined object?\n",
    "\n",
    "* Most programming languages requires you to create a **class** to describe an object\n",
    "    * Even **python** needs it\n",
    "    * Exception to this rule: **JavaScript**\n",
    "        * you can create an object without needing to create a class.\n",
    "\n",
    "* A class is typically an type descriptor for the object\n",
    "    * often referred as a blueprint or template for an object\n",
    "        * I don't like either words\n",
    "\n",
    "#### Role of class in most popular programming languages (C++/Java/C# etc)\n",
    "\n",
    "* A class servers following **important and essential** purpose\n",
    "    * it acts as (type) descriptor (type) \n",
    "    * it defines the **state** and **behavior** for the object\n",
    "    * An object can have only those **state** and **behavior** that are defined as part of the class.\n",
    "    * They can't add/remove anything that is described in the class.\n",
    "    * Any new feature requrires changes in the class.\n",
    "        * That applies to all objects of the class.\n",
    "\n",
    "##### A simple C++ like code to represent a Triangle\n",
    "```cpp\n",
    "class Triangle{\n",
    "  int s1,s2,s3;\n",
    "public:\n",
    "  Triangle(int s1,int s2,int s3){\n",
    "    this->s1=s1;\n",
    "    this->s2=s2;\n",
    "    this->s3=s3;\n",
    "  }\n",
    "  double area(){    \n",
    "    double s= (s1+s2+s3)/2;\n",
    "    return sqrt(s*(s-s1)*(s-s2)*(s-s3));\n",
    "  }\n",
    "  int perimeter(){\n",
    "    return s1+s2+s3;\n",
    "  }\n",
    "};\n",
    "\n",
    "int main(){\n",
    "  Triangle t1(3,4,5);\n",
    "  cout<<t1.area()<<endl;\n",
    "  cout<<t1.perimeter()<<endl;\n",
    "  return 0;\n",
    "}\n",
    "```\n",
    "\n",
    "##### Implication\n",
    "\n",
    "* Now a Triangle object can have only sides s1,s2,s3 and behavior area(), perimeter()\n",
    "\n",
    "* It can't have additional \n",
    "    * state (information) like\n",
    "        * color\n",
    "    * behavior like\n",
    "        * draw()\n",
    "\n",
    "\n",
    "\n",
    "\n"
   ]
  },
  {
   "cell_type": "markdown",
   "metadata": {},
   "source": [
    "## Python OO is different\n",
    "\n",
    "* In python, too, we need a class to create an object\n",
    "* But Python class has just two core responsibility\n",
    "    1. create an object of that class\n",
    "    2. provide type and id information for an object\n",
    "\n",
    "* It is **NOT** required for a python class to define\n",
    "    * state\n",
    "    * behavior\n",
    "\n",
    "* **They can be added to the object after creation.**\n",
    "\n",
    "\n",
    "### The simplest python class to Represent an Employee."
   ]
  },
  {
   "cell_type": "code",
   "execution_count": 1,
   "metadata": {},
   "outputs": [],
   "source": [
    "class Employee:\n",
    "    pass"
   ]
  },
  {
   "cell_type": "markdown",
   "metadata": {},
   "source": [
    "### What can be the usage of this empty class?"
   ]
  },
  {
   "cell_type": "code",
   "execution_count": 5,
   "metadata": {},
   "outputs": [
    {
     "name": "stdout",
     "output_type": "stream",
     "text": [
      "type(e1) <class '__main__.Employee'>\n",
      "id(e1) 2453351924896\n",
      "type(e2) <class '__main__.Employee'>\n",
      "id(e2) 2453332004352\n"
     ]
    }
   ],
   "source": [
    "e1=Employee()\n",
    "e2=Employee()\n",
    "\n",
    "# e1 and e2 have same type but different ids.\n",
    "print(f'type(e1) {type(e1)}')\n",
    "print(f'id(e1) {id(e1)}')\n",
    "\n",
    "print(f'type(e2) {type(e2)}')\n",
    "print(f'id(e2) {id(e2)}')"
   ]
  },
  {
   "cell_type": "code",
   "execution_count": 6,
   "metadata": {},
   "outputs": [
    {
     "data": {
      "text/plain": [
       "True"
      ]
     },
     "execution_count": 6,
     "metadata": {},
     "output_type": "execute_result"
    }
   ],
   "source": [
    "type(e1)==type(e2)"
   ]
  },
  {
   "cell_type": "markdown",
   "metadata": {},
   "source": [
    "### How do we define the states of Employee?\n",
    "\n",
    "* we can attach a state to an object after it is created."
   ]
  },
  {
   "cell_type": "code",
   "execution_count": 7,
   "metadata": {},
   "outputs": [
    {
     "name": "stdout",
     "output_type": "stream",
     "text": [
      "Employee 1, name: John, salary: 1000\n"
     ]
    }
   ],
   "source": [
    "# create the employee\n",
    "e1=Employee()\n",
    "\n",
    "# define the required states.\n",
    "e1.id=1\n",
    "e1.name='John'\n",
    "e1.salary=1000\n",
    "\n",
    "\n",
    "# print the employee\n",
    "print(f'Employee {e1.id}, name: {e1.name}, salary: {e1.salary}')"
   ]
  },
  {
   "cell_type": "markdown",
   "metadata": {},
   "source": [
    "#### Helper Functions"
   ]
  },
  {
   "cell_type": "code",
   "execution_count": 10,
   "metadata": {},
   "outputs": [],
   "source": [
    "def create_employee(id,name,salary):\n",
    "    e=Employee()\n",
    "    #attach state after object is created.\n",
    "    e.id=id\n",
    "    e.name=name\n",
    "    e.salary=salary\n",
    "    return e\n",
    "\n",
    "def show(employee):\n",
    "    print(f'Employee {employee.id}, name: {employee.name}, salary: {employee.salary}')"
   ]
  },
  {
   "cell_type": "code",
   "execution_count": 9,
   "metadata": {},
   "outputs": [
    {
     "name": "stdout",
     "output_type": "stream",
     "text": [
      "Employee 1, name: Sanjay, salary: 10000\n",
      "Employee 2, name: Prabhat, salary: 20000\n"
     ]
    }
   ],
   "source": [
    "e1=create_employee(1,'Sanjay',10000)\n",
    "e2=create_employee(2,'Prabhat',20000)\n",
    "\n",
    "show(e1)\n",
    "show(e2)"
   ]
  },
  {
   "cell_type": "markdown",
   "metadata": {},
   "source": [
    "### Does it make sense to add states after creating an object (Is it realistic)?\n",
    "\n",
    "* Can we know everything about an object before its creation?\n",
    "* Think about a \"Person\"\n",
    "    * States (information)\n",
    "        * name\n",
    "        * height\n",
    "        * age\n",
    "    * Behavior\n",
    "        * eat\n",
    "        * move\n",
    "        * sleep\n",
    "        * drive\n",
    "        * teach\n",
    "        * swim\n",
    "\n",
    "* Question\n",
    "    * How many of these information is available to person at the time birth (creation)\n",
    "        * name?\n",
    "        * can a person move/eat immediately after birth?\n",
    "            * or they acquire these behavior long after their birth?\n",
    "\n",
    "        * Are we sure every person can\n",
    "            * drive\n",
    "            * swim\n",
    "            * teach\n",
    "            * ...\n",
    "\n",
    "* How can we realistically describe all these features for an object before it's creation\n",
    "* What if we need additional information?\n",
    "\n",
    "### Bottom Line:\n",
    "\n",
    "* A python object is more dynamic in comparision to traditional oo language\n",
    "* It can have dynamic properties which are not described by the class.\n",
    "* In tradtional langauges to add a new property we must change the class\n",
    "    * class can be changed only at design time\n",
    "* We can add a property dynamically to an object at the runtime.\n"
   ]
  },
  {
   "cell_type": "code",
   "execution_count": null,
   "metadata": {},
   "outputs": [],
   "source": []
  }
 ],
 "metadata": {
  "kernelspec": {
   "display_name": "Python 3",
   "language": "python",
   "name": "python3"
  },
  "language_info": {
   "codemirror_mode": {
    "name": "ipython",
    "version": 3
   },
   "file_extension": ".py",
   "mimetype": "text/x-python",
   "name": "python",
   "nbconvert_exporter": "python",
   "pygments_lexer": "ipython3",
   "version": "3.12.1"
  }
 },
 "nbformat": 4,
 "nbformat_minor": 2
}
