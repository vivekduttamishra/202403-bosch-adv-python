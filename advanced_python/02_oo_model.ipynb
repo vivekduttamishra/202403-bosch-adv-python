{
 "cells": [
  {
   "cell_type": "markdown",
   "metadata": {},
   "source": [
    "### Object Oriened Model in Python\n",
    "\n",
    "* An object represents a entity from a domain\n",
    "    * domain represents by proplem space  \n",
    "    * Example #1: For Employee Management\n",
    "        * Employee\n",
    "        * Organization\n",
    "        * Department\n",
    "        * Salary Structure\n",
    "        * Address\n",
    "        * EmployeeDb\n",
    "    * Example #2: For Ecommerce Application\n",
    "        * Product\n",
    "        * Customer\n",
    "        * Order\n",
    "        * Inventory\n",
    "\n",
    "    * Example #3: For a App Cab System\n",
    "        * Customer\n",
    "        * Driver\n",
    "        * RideType\n",
    "        * Ride\n",
    "        * Vehicle\n",
    "        * Invoice\n",
    "\n",
    "* Each object has few\n",
    "    * information (a.k.a state)\n",
    "    * behavior (a.k.a functionality)\n",
    "    * usage (when used from outside)\n",
    "    * Example #1: A Car\n",
    "        * state:\n",
    "            * color\n",
    "            * registration\n",
    "            * engine\n",
    "        * behavior:\n",
    "            * start\n",
    "            * stop\n",
    "            * turn\n",
    "        * usage:\n",
    "            * ride\n",
    "\n",
    "    * Example #2: int\n",
    "        * state\n",
    "            * value\n",
    "        * behavior\n",
    "            * basic arithmetic operations\n",
    "                * +, -, *, / ...\n",
    "\n",
    "        * usage:\n",
    "            * represent the \n",
    "                * price of a book\n",
    "                * id of an employee\n",
    "\n",
    "    * Example #3: function\n",
    "        * state\n",
    "            * __name__\n",
    "        * behavior\n",
    "            * internal function logic\n",
    "\n",
    "        * usage:\n",
    "            * call the funciton\n",
    "\n",
    "\n",
    "# How do we define a user defined object?\n",
    "\n",
    "* Most programming languages requires you to create a **class** to describe an object\n",
    "    * Even **python** needs it\n",
    "    * Exception to this rule: **JavaScript**\n",
    "        * you can create an object without needing to create a class.\n",
    "\n",
    "* A class is typically an type descriptor for the object\n",
    "    * often referred as a blueprint or template for an object\n",
    "        * I don't like either words\n",
    "\n",
    "#### Role of class in most popular programming languages (C++/Java/C# etc)\n",
    "\n",
    "* A class servers following **important and essential** purpose\n",
    "    * it acts as (type) descriptor (type) \n",
    "    * it defines the **state** and **behavior** for the object\n",
    "    * An object can have only those **state** and **behavior** that are defined as part of the class.\n",
    "    * They can't add/remove anything that is described in the class.\n",
    "    * Any new feature requrires changes in the class.\n",
    "        * That applies to all objects of the class.\n",
    "\n",
    "##### A simple C++ like code to represent a Triangle\n",
    "```cpp\n",
    "class Triangle{\n",
    "  int s1,s2,s3;\n",
    "public:\n",
    "  Triangle(int s1,int s2,int s3){\n",
    "    this->s1=s1;\n",
    "    this->s2=s2;\n",
    "    this->s3=s3;\n",
    "  }\n",
    "  double area(){    \n",
    "    double s= (s1+s2+s3)/2;\n",
    "    return sqrt(s*(s-s1)*(s-s2)*(s-s3));\n",
    "  }\n",
    "  int perimeter(){\n",
    "    return s1+s2+s3;\n",
    "  }\n",
    "};\n",
    "\n",
    "int main(){\n",
    "  Triangle t1(3,4,5);\n",
    "  cout<<t1.area()<<endl;\n",
    "  cout<<t1.perimeter()<<endl;\n",
    "  return 0;\n",
    "}\n",
    "```\n",
    "\n",
    "##### Implication\n",
    "\n",
    "* Now a Triangle object can have only sides s1,s2,s3 and behavior area(), perimeter()\n",
    "\n",
    "* It can't have additional \n",
    "    * state (information) like\n",
    "        * color\n",
    "    * behavior like\n",
    "        * draw()\n",
    "\n",
    "\n",
    "\n",
    "\n"
   ]
  },
  {
   "cell_type": "markdown",
   "metadata": {},
   "source": [
    "## Python OO is different\n",
    "\n",
    "* In python, too, we need a class to create an object\n",
    "* But Python class has just two core responsibility\n",
    "    1. create an object of that class\n",
    "    2. provide type and id information for an object\n",
    "\n",
    "* It is **NOT** required for a python class to define\n",
    "    * state\n",
    "    * behavior\n",
    "\n",
    "* **They can be added to the object after creation.**\n",
    "\n",
    "\n",
    "### The simplest python class to Represent an Employee."
   ]
  },
  {
   "cell_type": "code",
   "execution_count": 1,
   "metadata": {},
   "outputs": [],
   "source": [
    "class Employee:\n",
    "    pass"
   ]
  },
  {
   "cell_type": "markdown",
   "metadata": {},
   "source": [
    "### What can be the usage of this empty class?"
   ]
  },
  {
   "cell_type": "code",
   "execution_count": 5,
   "metadata": {},
   "outputs": [
    {
     "name": "stdout",
     "output_type": "stream",
     "text": [
      "type(e1) <class '__main__.Employee'>\n",
      "id(e1) 2453351924896\n",
      "type(e2) <class '__main__.Employee'>\n",
      "id(e2) 2453332004352\n"
     ]
    }
   ],
   "source": [
    "e1=Employee()\n",
    "e2=Employee()\n",
    "\n",
    "# e1 and e2 have same type but different ids.\n",
    "print(f'type(e1) {type(e1)}')\n",
    "print(f'id(e1) {id(e1)}')\n",
    "\n",
    "print(f'type(e2) {type(e2)}')\n",
    "print(f'id(e2) {id(e2)}')"
   ]
  },
  {
   "cell_type": "code",
   "execution_count": 6,
   "metadata": {},
   "outputs": [
    {
     "data": {
      "text/plain": [
       "True"
      ]
     },
     "execution_count": 6,
     "metadata": {},
     "output_type": "execute_result"
    }
   ],
   "source": [
    "type(e1)==type(e2)"
   ]
  },
  {
   "cell_type": "markdown",
   "metadata": {},
   "source": [
    "### How do we define the states of Employee?\n",
    "\n",
    "* we can attach a state to an object after it is created."
   ]
  },
  {
   "cell_type": "code",
   "execution_count": 7,
   "metadata": {},
   "outputs": [
    {
     "name": "stdout",
     "output_type": "stream",
     "text": [
      "Employee 1, name: John, salary: 1000\n"
     ]
    }
   ],
   "source": [
    "# create the employee\n",
    "e1=Employee()\n",
    "\n",
    "# define the required states.\n",
    "e1.id=1\n",
    "e1.name='John'\n",
    "e1.salary=1000\n",
    "\n",
    "\n",
    "# print the employee\n",
    "print(f'Employee {e1.id}, name: {e1.name}, salary: {e1.salary}')"
   ]
  },
  {
   "cell_type": "markdown",
   "metadata": {},
   "source": [
    "#### Helper Functions"
   ]
  },
  {
   "cell_type": "code",
   "execution_count": 10,
   "metadata": {},
   "outputs": [],
   "source": [
    "def create_employee(id,name,salary):\n",
    "    e=Employee()\n",
    "    #attach state after object is created.\n",
    "    e.id=id\n",
    "    e.name=name\n",
    "    e.salary=salary\n",
    "    return e\n",
    "\n",
    "def show(employee):\n",
    "    print(f'Employee {employee.id}, name: {employee.name}, salary: {employee.salary}')"
   ]
  },
  {
   "cell_type": "code",
   "execution_count": 9,
   "metadata": {},
   "outputs": [
    {
     "name": "stdout",
     "output_type": "stream",
     "text": [
      "Employee 1, name: Sanjay, salary: 10000\n",
      "Employee 2, name: Prabhat, salary: 20000\n"
     ]
    }
   ],
   "source": [
    "e1=create_employee(1,'Sanjay',10000)\n",
    "e2=create_employee(2,'Prabhat',20000)\n",
    "\n",
    "show(e1)\n",
    "show(e2)"
   ]
  },
  {
   "cell_type": "markdown",
   "metadata": {},
   "source": [
    "### Does it make sense to add states after creating an object (Is it realistic)?\n",
    "\n",
    "* Can we know everything about an object before its creation?\n",
    "* Think about a \"Person\"\n",
    "    * States (information)\n",
    "        * name\n",
    "        * height\n",
    "        * age\n",
    "    * Behavior\n",
    "        * eat\n",
    "        * move\n",
    "        * sleep\n",
    "        * drive\n",
    "        * teach\n",
    "        * swim\n",
    "\n",
    "* Question\n",
    "    * How many of these information is available to person at the time birth (creation)\n",
    "        * name?\n",
    "        * can a person move/eat immediately after birth?\n",
    "            * or they acquire these behavior long after their birth?\n",
    "\n",
    "        * Are we sure every person can\n",
    "            * drive\n",
    "            * swim\n",
    "            * teach\n",
    "            * ...\n",
    "\n",
    "* How can we realistically describe all these features for an object before it's creation\n",
    "* What if we need additional information?\n",
    "\n",
    "### Bottom Line:\n",
    "\n",
    "* A python object is more dynamic in comparision to traditional oo language\n",
    "* It can have dynamic properties which are not described by the class.\n",
    "* In tradtional langauges to add a new property we must change the class\n",
    "    * class can be changed only at design time\n",
    "* We can add a property dynamically to an object at the runtime.\n"
   ]
  },
  {
   "cell_type": "markdown",
   "metadata": {},
   "source": [
    "### Let us consider another object ---> Deparment\n",
    "\n",
    "* We again need to \n",
    "    * create the depart object\n",
    "    * show the department object\n"
   ]
  },
  {
   "cell_type": "code",
   "execution_count": 13,
   "metadata": {},
   "outputs": [],
   "source": [
    "class Department:\n",
    "    pass\n",
    "\n",
    "def create_department(id, name, description):\n",
    "    d=Department()\n",
    "    d.id=id\n",
    "    d.name=name\n",
    "    d.description=description\n",
    "    d.employees=[]\n",
    "    return d\n",
    "\n",
    "def add_employee(department, employee):\n",
    "    department.employees.append(employee)\n",
    "\n",
    "def show(department):\n",
    "    print(f'Department Id: {department.id}, Name: {department.name}, Description:{department.description}, Employees: {department.employees}')"
   ]
  },
  {
   "cell_type": "code",
   "execution_count": 14,
   "metadata": {},
   "outputs": [
    {
     "name": "stdout",
     "output_type": "stream",
     "text": [
      "Department Id: 1, Name: Accounts, Description:Accounts Department, Employees: ['Amit', 'Arpana']\n",
      "Department Id: 2, Name: HR, Description:HR Department, Employees: ['Prabhat', 'Pratibha']\n"
     ]
    }
   ],
   "source": [
    "accounts= create_department(1,'Accounts','Accounts Department')\n",
    "hr = create_department(2,'HR','HR Department')\n",
    "\n",
    "add_employee(accounts,\"Amit\")\n",
    "add_employee(accounts,\"Arpana\")\n",
    "\n",
    "add_employee(hr,\"Prabhat\")\n",
    "add_employee(hr,\"Pratibha\")\n",
    "\n",
    "show(accounts)\n",
    "show(hr)\n",
    "\n"
   ]
  },
  {
   "cell_type": "markdown",
   "metadata": {},
   "source": [
    "### Let us test an employee object again"
   ]
  },
  {
   "cell_type": "code",
   "execution_count": 15,
   "metadata": {},
   "outputs": [],
   "source": [
    "e1= create_employee(1, 'Prabhat',20000)"
   ]
  },
  {
   "cell_type": "code",
   "execution_count": 16,
   "metadata": {},
   "outputs": [
    {
     "ename": "AttributeError",
     "evalue": "'Employee' object has no attribute 'description'",
     "output_type": "error",
     "traceback": [
      "\u001b[1;31m---------------------------------------------------------------------------\u001b[0m",
      "\u001b[1;31mAttributeError\u001b[0m                            Traceback (most recent call last)",
      "Cell \u001b[1;32mIn[16], line 1\u001b[0m\n\u001b[1;32m----> 1\u001b[0m \u001b[43mshow\u001b[49m\u001b[43m(\u001b[49m\u001b[43me1\u001b[49m\u001b[43m)\u001b[49m\n",
      "Cell \u001b[1;32mIn[13], line 16\u001b[0m, in \u001b[0;36mshow\u001b[1;34m(department)\u001b[0m\n\u001b[0;32m     15\u001b[0m \u001b[38;5;28;01mdef\u001b[39;00m \u001b[38;5;21mshow\u001b[39m(department):\n\u001b[1;32m---> 16\u001b[0m     \u001b[38;5;28mprint\u001b[39m(\u001b[38;5;124mf\u001b[39m\u001b[38;5;124m'\u001b[39m\u001b[38;5;124mDepartment Id: \u001b[39m\u001b[38;5;132;01m{\u001b[39;00mdepartment\u001b[38;5;241m.\u001b[39mid\u001b[38;5;132;01m}\u001b[39;00m\u001b[38;5;124m, Name: \u001b[39m\u001b[38;5;132;01m{\u001b[39;00mdepartment\u001b[38;5;241m.\u001b[39mname\u001b[38;5;132;01m}\u001b[39;00m\u001b[38;5;124m, Description:\u001b[39m\u001b[38;5;132;01m{\u001b[39;00m\u001b[43mdepartment\u001b[49m\u001b[38;5;241;43m.\u001b[39;49m\u001b[43mdescription\u001b[49m\u001b[38;5;132;01m}\u001b[39;00m\u001b[38;5;124m, Employees: \u001b[39m\u001b[38;5;132;01m{\u001b[39;00mdepartment\u001b[38;5;241m.\u001b[39memployees\u001b[38;5;132;01m}\u001b[39;00m\u001b[38;5;124m'\u001b[39m)\n",
      "\u001b[1;31mAttributeError\u001b[0m: 'Employee' object has no attribute 'description'"
     ]
    }
   ],
   "source": [
    "show(e1)"
   ]
  },
  {
   "cell_type": "markdown",
   "metadata": {},
   "source": [
    "### What is the problem?\n",
    "\n",
    "1. we first created functions for class Employee\n",
    "    * create_employee\n",
    "    * show\n",
    "\n",
    "2. then we created functions for department.\n",
    "    * create_department\n",
    "    * show\n",
    "        * **Now show for employee is inaccessible.(it is still in memory)**\n",
    "\n",
    "3. when we call show(employee) it actuall calls the second show (for department)\n",
    "\n",
    "### Global Names override each other\n",
    "\n",
    "* there is no **overloading**\n",
    "* We didn't have probelm with names\n",
    "    * create_employee\n",
    "    * create_department\n",
    "\n",
    "* They were unique.\n",
    "\n",
    "### How do we solve this problem?\n",
    "\n",
    "* Remember \n",
    "    1. A class is also an object\n",
    "        * we can attach properties to a class.\n",
    "\n",
    "    2. A function is also an object\n",
    "        * we can attach it to a class as a property.\n",
    "\n",
    "\n",
    "##### 1. class is an object\n",
    "\n",
    "* we can attach some information to the class\n",
    "* not to its objects\n",
    "   \n"
   ]
  },
  {
   "cell_type": "code",
   "execution_count": 17,
   "metadata": {},
   "outputs": [
    {
     "name": "stdout",
     "output_type": "stream",
     "text": [
      "<class 'type'> 2453333911280\n"
     ]
    }
   ],
   "source": [
    "print(type(Employee),id(Employee))"
   ]
  },
  {
   "cell_type": "code",
   "execution_count": 19,
   "metadata": {},
   "outputs": [
    {
     "name": "stdout",
     "output_type": "stream",
     "text": [
      "Bosch\n"
     ]
    }
   ],
   "source": [
    "Employee.company=\"Bosch\"\n",
    "print(Employee.company)"
   ]
  },
  {
   "cell_type": "markdown",
   "metadata": {},
   "source": [
    "### We can also attach some function to a class"
   ]
  },
  {
   "cell_type": "code",
   "execution_count": 20,
   "metadata": {},
   "outputs": [],
   "source": [
    "class Employee:\n",
    "    pass\n",
    "\n",
    "def create(id,name,salary):\n",
    "    e=Employee()\n",
    "    e.id=id\n",
    "    e.name=name\n",
    "    e.salary=salary\n",
    "    return e\n",
    "\n",
    "def show(employee):\n",
    "    print(f'Employee {employee.id}, name: {employee.name}, salary: {employee.salary}')\n",
    "\n",
    "# At this point create and show are global references\n",
    "# If we define any new function with same name, the reference will point to new functions\n",
    "# but old function will still be there without reference\n",
    "    \n",
    "# Let us attach a reference to these functions as class properties.\n",
    "    \n",
    "Employee.create=create\n",
    "Employee.show=show\n",
    "\n",
    "# now if we can call these functions as"
   ]
  },
  {
   "cell_type": "code",
   "execution_count": 21,
   "metadata": {},
   "outputs": [
    {
     "name": "stdout",
     "output_type": "stream",
     "text": [
      "Employee 1, name: Prabhat, salary: 20000\n"
     ]
    }
   ],
   "source": [
    "e1=Employee.create(1, 'Prabhat',20000)\n",
    "Employee.show(e1)"
   ]
  },
  {
   "cell_type": "markdown",
   "metadata": {},
   "source": [
    "### Now if we create another global functions with the same name\n",
    "\n",
    "* they will overwrite the global references\n",
    "* but references inside Employee will continue to refer to the original function"
   ]
  },
  {
   "cell_type": "code",
   "execution_count": 27,
   "metadata": {},
   "outputs": [],
   "source": [
    "class Department:\n",
    "    pass\n",
    "\n",
    "def create(id,name,description):\n",
    "    d=Department()\n",
    "    d.id=id\n",
    "    d.name=name\n",
    "    d.description=description\n",
    "    d.employees=[]\n",
    "    return d\n",
    "\n",
    "def show(department):\n",
    "    print(f'Department Id: {department.id}, Name: {department.name}, Description:{department.description}, Employees: {department.employees}')\n",
    "\n",
    "    \n",
    "\n",
    "Department.create=create\n",
    "Department.show=show"
   ]
  },
  {
   "cell_type": "markdown",
   "metadata": {},
   "source": [
    "### Now we can't call global show or create for employee"
   ]
  },
  {
   "cell_type": "code",
   "execution_count": 28,
   "metadata": {},
   "outputs": [
    {
     "name": "stdout",
     "output_type": "stream",
     "text": [
      "Department Id: 1, Name: Vivek, Description:20000, Employees: []\n"
     ]
    }
   ],
   "source": [
    "e1=create(1,'Vivek',20000)\n",
    "show(e1)"
   ]
  },
  {
   "cell_type": "markdown",
   "metadata": {},
   "source": [
    "#### But we can still call the functions referenced by references defined in Employee class"
   ]
  },
  {
   "cell_type": "code",
   "execution_count": 29,
   "metadata": {},
   "outputs": [
    {
     "name": "stdout",
     "output_type": "stream",
     "text": [
      "Employee 1, name: Vivek, salary: 20000\n"
     ]
    }
   ],
   "source": [
    "e1=Employee.create(1,'Vivek', 20000)\n",
    "\n",
    "Employee.show(e1)"
   ]
  },
  {
   "cell_type": "code",
   "execution_count": 25,
   "metadata": {},
   "outputs": [
    {
     "ename": "AttributeError",
     "evalue": "'Employee' object has no attribute 'description'",
     "output_type": "error",
     "traceback": [
      "\u001b[1;31m---------------------------------------------------------------------------\u001b[0m",
      "\u001b[1;31mAttributeError\u001b[0m                            Traceback (most recent call last)",
      "Cell \u001b[1;32mIn[25], line 1\u001b[0m\n\u001b[1;32m----> 1\u001b[0m \u001b[43mshow\u001b[49m\u001b[43m(\u001b[49m\u001b[43me1\u001b[49m\u001b[43m)\u001b[49m\n",
      "Cell \u001b[1;32mIn[22], line 13\u001b[0m, in \u001b[0;36mshow\u001b[1;34m(department)\u001b[0m\n\u001b[0;32m     12\u001b[0m \u001b[38;5;28;01mdef\u001b[39;00m \u001b[38;5;21mshow\u001b[39m(department):\n\u001b[1;32m---> 13\u001b[0m     \u001b[38;5;28mprint\u001b[39m(\u001b[38;5;124mf\u001b[39m\u001b[38;5;124m'\u001b[39m\u001b[38;5;124mDepartment Id: \u001b[39m\u001b[38;5;132;01m{\u001b[39;00mdepartment\u001b[38;5;241m.\u001b[39mid\u001b[38;5;132;01m}\u001b[39;00m\u001b[38;5;124m, Name: \u001b[39m\u001b[38;5;132;01m{\u001b[39;00mdepartment\u001b[38;5;241m.\u001b[39mname\u001b[38;5;132;01m}\u001b[39;00m\u001b[38;5;124m, Description:\u001b[39m\u001b[38;5;132;01m{\u001b[39;00m\u001b[43mdepartment\u001b[49m\u001b[38;5;241;43m.\u001b[39;49m\u001b[43mdescription\u001b[49m\u001b[38;5;132;01m}\u001b[39;00m\u001b[38;5;124m, Employees: \u001b[39m\u001b[38;5;132;01m{\u001b[39;00mdepartment\u001b[38;5;241m.\u001b[39memployees\u001b[38;5;132;01m}\u001b[39;00m\u001b[38;5;124m'\u001b[39m)\n",
      "\u001b[1;31mAttributeError\u001b[0m: 'Employee' object has no attribute 'description'"
     ]
    }
   ],
   "source": [
    "show(e1)"
   ]
  },
  {
   "cell_type": "markdown",
   "metadata": {},
   "source": [
    "### A short (Popular) syntax to define methods for the class\n",
    "\n",
    "* We can add the function with an indent inside the class\n",
    "* This is not compulsary but a popular way"
   ]
  },
  {
   "cell_type": "code",
   "execution_count": 30,
   "metadata": {},
   "outputs": [],
   "source": [
    "class Department:\n",
    "    def create(id,name,description):\n",
    "        d=Department()\n",
    "        d.id=id\n",
    "        d.name=name\n",
    "        d.description=description\n",
    "        d.employees=[]\n",
    "        return d\n",
    "    \n",
    "    def show(department):\n",
    "        print(f'Department Id: {department.id}, Name: {department.name}, Description:{department.description}, Employees: {department.employees}')\n",
    "\n",
    "\n",
    "    def add_employee(deparment, employee):\n",
    "        deparment.employees.append(employee)"
   ]
  },
  {
   "cell_type": "code",
   "execution_count": 31,
   "metadata": {},
   "outputs": [
    {
     "name": "stdout",
     "output_type": "stream",
     "text": [
      "Department Id: 1, Name: Accounts, Description:Accounts, Employees: ['Amit', 'Arpana']\n",
      "Department Id: 2, Name: HR, Description:HR, Employees: ['Prabhat']\n"
     ]
    }
   ],
   "source": [
    "accounts= Department.create(1,\"Accounts\",\"Accounts\")\n",
    "\n",
    "hr= Department.create(2,\"HR\",\"HR\")\n",
    "\n",
    "Department.add_employee(accounts,\"Amit\")\n",
    "Department.add_employee(accounts,\"Arpana\")\n",
    "\n",
    "Department.add_employee(hr,\"Prabhat\")\n",
    "\n",
    "Department.show(accounts)\n",
    "\n",
    "Department.show(hr)"
   ]
  },
  {
   "cell_type": "markdown",
   "metadata": {},
   "source": [
    "#### Problem: Redudnant Info.\n",
    "\n",
    "* consider the below code\n",
    "\n",
    "```python\n",
    "Deparement.show(accounts)\n",
    "```\n",
    "\n",
    "* Here Deparement is mentioned twice.\n",
    "    1. Department \"class\"\n",
    "    2. \"accounts\" is also a Department (object)\n",
    "    \n",
    "\n",
    "* This doesn't make much sense.\n",
    "\n",
    "### Python Object Notation.\n",
    "\n",
    "* In python, if a class function, accepts the object of same class as the first parameter\n",
    "    * we can use that first parameter to invoke the object\n",
    "\n",
    "```python\n",
    "#Deparement.show(accounts)\n",
    "#can be written as\n",
    "```\n",
    "\n"
   ]
  },
  {
   "cell_type": "code",
   "execution_count": 32,
   "metadata": {},
   "outputs": [
    {
     "name": "stdout",
     "output_type": "stream",
     "text": [
      "Department Id: 1, Name: Accounts, Description:Accounts, Employees: ['Amit', 'Arpana']\n"
     ]
    }
   ],
   "source": [
    "accounts.show() # expands to Deparement.show(accounts)"
   ]
  },
  {
   "cell_type": "code",
   "execution_count": 33,
   "metadata": {},
   "outputs": [],
   "source": [
    "# Department.add_employee(accounts,\"Mahesh\")\n",
    "# can be written as\n",
    "\n",
    "accounts.add_employee(\"Mahesh\") # expands to Deparement.add_employee(accounts, \"Mahesh\")\n"
   ]
  },
  {
   "cell_type": "markdown",
   "metadata": {},
   "source": [
    "#### Naming convention.\n",
    "\n",
    "* Generally if the class function takes the object of same class as the first parameter,\n",
    "    * we conventionally call this parameter as **self**\n",
    "\n",
    "* Note\n",
    "    * It is NOT compulsary to call it **self**\n",
    "        * It is a common agreed convention and **STRONGLY RECOMMENDED**\n",
    "\n",
    "\n",
    "#### IMPORTANT! \n",
    "\n",
    "* This syntax works, Only if ~~class function takes the object of same class as first parameter~~ **self parameter**\n",
    "    * the name **self** is NOT important\n",
    "    * the fact that it refers to object of same class is important\n",
    "\n",
    "\n",
    "#### This object notation syntax will not work for **create** function, Why?\n",
    "\n",
    "```python\n",
    "def Department:\n",
    "    def create(id,name,description):\n",
    "        pass\n",
    "```\n",
    "\n",
    "* This function takes **id** as first parameter, which is not same as Department.\n",
    "\n",
    "* What happens if we try to call this function using object notation\n",
    "\n",
    "* remember object that is invoking the function becomes the first parameter\n",
    "\n",
    "\n",
    " "
   ]
  },
  {
   "cell_type": "code",
   "execution_count": 34,
   "metadata": {},
   "outputs": [
    {
     "ename": "TypeError",
     "evalue": "Department.create() takes 3 positional arguments but 4 were given",
     "output_type": "error",
     "traceback": [
      "\u001b[1;31m---------------------------------------------------------------------------\u001b[0m",
      "\u001b[1;31mTypeError\u001b[0m                                 Traceback (most recent call last)",
      "Cell \u001b[1;32mIn[34], line 2\u001b[0m\n\u001b[0;32m      1\u001b[0m d\u001b[38;5;241m=\u001b[39mDepartment()\n\u001b[1;32m----> 2\u001b[0m \u001b[43md\u001b[49m\u001b[38;5;241;43m.\u001b[39;49m\u001b[43mcreate\u001b[49m\u001b[43m(\u001b[49m\u001b[38;5;241;43m1\u001b[39;49m\u001b[43m,\u001b[49m\u001b[38;5;124;43m'\u001b[39;49m\u001b[38;5;124;43mAccounts\u001b[39;49m\u001b[38;5;124;43m'\u001b[39;49m\u001b[43m,\u001b[49m\u001b[38;5;124;43m'\u001b[39;49m\u001b[38;5;124;43mAccounts\u001b[39;49m\u001b[38;5;124;43m'\u001b[39;49m\u001b[43m)\u001b[49m \u001b[38;5;66;03m# expands to Department.create(d,1,'Accounts','Accounts')\u001b[39;00m\n\u001b[0;32m      3\u001b[0m \u001b[38;5;66;03m# we are passing 4 parameters to a function that takes only three.\u001b[39;00m\n",
      "\u001b[1;31mTypeError\u001b[0m: Department.create() takes 3 positional arguments but 4 were given"
     ]
    }
   ],
   "source": [
    "d=Department()\n",
    "d.create(1,'Accounts','Accounts') # expands to Department.create(d,1,'Accounts','Accounts')\n",
    "# we are passing 4 parameters to a function that takes only three."
   ]
  },
  {
   "cell_type": "code",
   "execution_count": 35,
   "metadata": {},
   "outputs": [
    {
     "name": "stdout",
     "output_type": "stream",
     "text": [
      "Department Id: <__main__.Department object at 0x0000023B37392150>, Name: 2, Description:Accounts, Employees: []\n"
     ]
    }
   ],
   "source": [
    "# what if we pass only 2 parameters.\n",
    "d=Department()\n",
    "x=d.create(2,'Accounts') # Department.craete(d,2,'Accounts') # id=d, name=2, description='Accounts'\n",
    "x.show()"
   ]
  },
  {
   "cell_type": "markdown",
   "metadata": {},
   "source": [
    "### Assignnment #2.1 How do I write the create function in such a way that it can be called in object notation\n"
   ]
  },
  {
   "cell_type": "code",
   "execution_count": null,
   "metadata": {},
   "outputs": [],
   "source": []
  }
 ],
 "metadata": {
  "kernelspec": {
   "display_name": "Python 3",
   "language": "python",
   "name": "python3"
  },
  "language_info": {
   "codemirror_mode": {
    "name": "ipython",
    "version": 3
   },
   "file_extension": ".py",
   "mimetype": "text/x-python",
   "name": "python",
   "nbconvert_exporter": "python",
   "pygments_lexer": "ipython3",
   "version": "3.12.1"
  }
 },
 "nbformat": 4,
 "nbformat_minor": 2
}
