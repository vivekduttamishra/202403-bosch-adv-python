{
 "cells": [
  {
   "cell_type": "markdown",
   "metadata": {},
   "source": [
    "## Python Object Model\n",
    "\n",
    "* Everything in python is an object\n",
    "    * primitive types like: int, float, bool, str \n",
    "    * collections like: list, tuple, set, dict\n",
    "    * **function**\n",
    "    * **class**\n",
    "\n",
    "* Every object has a\n",
    "    * type\n",
    "    * unique id\n",
    "\n",
    "* Names (reference,variables) are NOT object.\n",
    "    * They are references to some object.\n",
    "    * They don't have\n",
    "        * type   \n",
    "        * id\n",
    "\n",
    "#### What happens when we declare\n",
    "\n",
    "```python\n",
    "a = 1\n",
    "```\n",
    "\n",
    "##### Here we are creating two different things.\n",
    "\n",
    "1. object \"1\"\n",
    "    * type: int\n",
    "    * id: some-unqiue-value\n",
    "\n",
    "2. reference \"a\" which currently refers to \"1\"\n",
    "    * it has no type or id of it's own\n",
    "    * it will reflect the type and id of objet it refers (1)"
   ]
  },
  {
   "cell_type": "code",
   "execution_count": 2,
   "metadata": {},
   "outputs": [
    {
     "name": "stdout",
     "output_type": "stream",
     "text": [
      "type(1) <class 'int'>\n",
      "id(1) 140735053904312\n",
      "type(a) <class 'int'>\n",
      "id(a) 140735053904312\n"
     ]
    }
   ],
   "source": [
    "print('type(1)',type(1))\n",
    "print('id(1)',id(1))\n",
    "\n",
    "# here a refers to 1\n",
    "a=1\n",
    "\n",
    "print('type(a)',type(a)) # same as type of 1\n",
    "print('id(a)',id(a))     # same as id of 1"
   ]
  },
  {
   "cell_type": "markdown",
   "metadata": {},
   "source": [
    "#### now a can refer to anything else.\n",
    "* once a refers to something else, it will refelct type and it of that object."
   ]
  },
  {
   "cell_type": "code",
   "execution_count": 3,
   "metadata": {},
   "outputs": [
    {
     "name": "stdout",
     "output_type": "stream",
     "text": [
      "type(a) <class 'str'>\n",
      "id(a) 2438685782160\n"
     ]
    }
   ],
   "source": [
    "\n",
    "a='Hello'\n",
    "print('type(a)',type(a)) # same as type of 'Hello'\n",
    "\n",
    "print('id(a)',id(a))     # same as id of 'Hello'"
   ]
  },
  {
   "cell_type": "markdown",
   "metadata": {},
   "source": [
    "### Even a function is an object.\n",
    "\n",
    "* A function is just like another objetct (int or float)\n",
    "* It has a \n",
    "    * type\n",
    "    * id\n",
    "* It also has additional feature like\n",
    "    * __name__\n",
    "\n",
    "##### What happens we we declare a function plus?"
   ]
  },
  {
   "cell_type": "code",
   "execution_count": 4,
   "metadata": {},
   "outputs": [],
   "source": [
    "def plus(x,y):\n",
    "    return x+y"
   ]
  },
  {
   "cell_type": "markdown",
   "metadata": {},
   "source": [
    "#### Like earlier cases we create two different things here.\n",
    "\n",
    "1. A function object \n",
    "    * that has a\n",
    "        * type ---> Function\n",
    "        * id ---> some unique identifier\n",
    "        * __name__ --> 'plus'\n",
    "    * It has a puppose (logic)\n",
    "\n",
    "2. A reference called 'plus' that refers to the above function.\n",
    "\n",
    "\n",
    "##### We can test our plus function and it's object properties"
   ]
  },
  {
   "cell_type": "code",
   "execution_count": 7,
   "metadata": {},
   "outputs": [
    {
     "name": "stdout",
     "output_type": "stream",
     "text": [
      "plus(10,20) 30\n",
      "\n",
      "type(plus) <class 'function'>\n",
      "id(plus) 2438685523328\n",
      "plus.__name__ plus\n"
     ]
    }
   ],
   "source": [
    "print(f'plus(10,20) {plus(10,20)}')\n",
    "print()\n",
    "print('type(plus)',type(plus))\n",
    "print('id(plus)',id(plus))\n",
    "print(f'plus.__name__ {plus.__name__}')\n"
   ]
  },
  {
   "cell_type": "markdown",
   "metadata": {},
   "source": [
    "#### Just like any other object, we can assign a function more than onew reference\n",
    "\n",
    "* Now add is another reference to same function\n",
    "* Note\n",
    "    * We have not created a new function\n",
    "    * add will work as plus\n",
    "    * It will have same\n",
    "        * Type\n",
    "        * Id\n",
    "        * \\_\\_name\\_\\_\n",
    "            * This name is not reference name but the actual object's name\n",
    "\n"
   ]
  },
  {
   "cell_type": "code",
   "execution_count": 8,
   "metadata": {},
   "outputs": [
    {
     "name": "stdout",
     "output_type": "stream",
     "text": [
      "add(10,20) 30\n",
      "type(add) <class 'function'>\n",
      "id(add) 2438685523328\n",
      "add.__name__ plus\n"
     ]
    }
   ],
   "source": [
    "add=plus\n",
    "\n",
    "print(f'add(10,20) {add(10,20)}')\n",
    "print(f'type(add) {type(add)}')\n",
    "print(f'id(add) {id(add)}')\n",
    "print(f'add.__name__ {add.__name__}')"
   ]
  },
  {
   "cell_type": "markdown",
   "metadata": {},
   "source": [
    "### \"plus\" reference is just like any other reference\n",
    "\n",
    "* it can refer to another object (like int or someting else)"
   ]
  },
  {
   "cell_type": "code",
   "execution_count": 9,
   "metadata": {},
   "outputs": [
    {
     "name": "stdout",
     "output_type": "stream",
     "text": [
      "type(plus) <class 'int'>\n",
      "id(plus) 140735053904920\n"
     ]
    }
   ],
   "source": [
    "plus=20\n",
    "print(f'type(plus) {type(plus)}')\n",
    "print(f'id(plus) {id(plus)}')"
   ]
  },
  {
   "cell_type": "markdown",
   "metadata": {},
   "source": [
    "### Now plus no more refers to plus function"
   ]
  },
  {
   "cell_type": "code",
   "execution_count": 10,
   "metadata": {},
   "outputs": [
    {
     "ename": "TypeError",
     "evalue": "'int' object is not callable",
     "output_type": "error",
     "traceback": [
      "\u001b[1;31m---------------------------------------------------------------------------\u001b[0m",
      "\u001b[1;31mTypeError\u001b[0m                                 Traceback (most recent call last)",
      "Cell \u001b[1;32mIn[10], line 1\u001b[0m\n\u001b[1;32m----> 1\u001b[0m \u001b[43mplus\u001b[49m\u001b[43m(\u001b[49m\u001b[38;5;241;43m10\u001b[39;49m\u001b[43m,\u001b[49m\u001b[38;5;241;43m20\u001b[39;49m\u001b[43m)\u001b[49m\n",
      "\u001b[1;31mTypeError\u001b[0m: 'int' object is not callable"
     ]
    }
   ],
   "source": [
    "plus(10,20)"
   ]
  },
  {
   "cell_type": "markdown",
   "metadata": {},
   "source": [
    "#### But \"add\" is still working like \"plus\""
   ]
  },
  {
   "cell_type": "code",
   "execution_count": 11,
   "metadata": {},
   "outputs": [
    {
     "name": "stdout",
     "output_type": "stream",
     "text": [
      "30\n",
      "plus\n"
     ]
    }
   ],
   "source": [
    "print(add(10,20))\n",
    "print(add.__name__)"
   ]
  },
  {
   "cell_type": "markdown",
   "metadata": {},
   "source": [
    "### How does \"function is an object\" idea useful?\n",
    "\n",
    "* A function can be assigned to a reference e.g. add=plus\n",
    "\n",
    "* A function can be stored in a collection like list, set, tuple.\n",
    "\n",
    "* A function can be used as an argument to another function.\n",
    "\n",
    "* A function can be used as a return value of another function."
   ]
  },
  {
   "cell_type": "markdown",
   "metadata": {},
   "source": [
    "### Creating a list of functions."
   ]
  },
  {
   "cell_type": "code",
   "execution_count": 12,
   "metadata": {},
   "outputs": [],
   "source": [
    "def plus(a,b): return a+b\n",
    "def minus(a,b): return a-b\n",
    "def multiply(a,b): return a*b\n",
    "def divide(a,b): return a/b\n"
   ]
  },
  {
   "cell_type": "code",
   "execution_count": 13,
   "metadata": {},
   "outputs": [],
   "source": [
    "operations=[plus,minus,multiply,divide]"
   ]
  },
  {
   "cell_type": "markdown",
   "metadata": {},
   "source": [
    "### Now we can perform batch operations"
   ]
  },
  {
   "cell_type": "code",
   "execution_count": 14,
   "metadata": {},
   "outputs": [
    {
     "name": "stdout",
     "output_type": "stream",
     "text": [
      "50 plus 15 => 65\n",
      "50 minus 15 => 35\n",
      "50 multiply 15 => 750\n",
      "50 divide 15 => 3.3333333333333335\n"
     ]
    }
   ],
   "source": [
    "x=50\n",
    "y=15\n",
    "\n",
    "for operation in operations:\n",
    "    result=operation(x,y)\n",
    "    print(f'{x} {operation.__name__} {y} => {result}')"
   ]
  },
  {
   "cell_type": "code",
   "execution_count": null,
   "metadata": {},
   "outputs": [],
   "source": []
  }
 ],
 "metadata": {
  "kernelspec": {
   "display_name": "Python 3",
   "language": "python",
   "name": "python3"
  },
  "language_info": {
   "codemirror_mode": {
    "name": "ipython",
    "version": 3
   },
   "file_extension": ".py",
   "mimetype": "text/x-python",
   "name": "python",
   "nbconvert_exporter": "python",
   "pygments_lexer": "ipython3",
   "version": "3.12.1"
  }
 },
 "nbformat": 4,
 "nbformat_minor": 2
}
