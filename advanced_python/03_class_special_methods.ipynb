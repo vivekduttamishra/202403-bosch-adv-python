{
 "cells": [
  {
   "cell_type": "markdown",
   "metadata": {},
   "source": [
    "## Class (Object) special memebers\n",
    "\n",
    "* python defines a lot of special members in a class.\n",
    "* These members are prefixed and suffixed with double underscores.\n",
    "* Some pare present in every class\n",
    "    * example: \\_\\_init\\_\\_, \\_\\_eq\\_\\_, \\_\\_str\\_\\_\n",
    "\n",
    "* Others are defined on need basis.\n",
    "    * example: \\_\\_int\\_\\_, \\_\\_add\\_\\_\n",
    "\n",
    "* These methods, if present, performs special tasks and integrate with language elements.\n",
    "\n",
    "### Classfication of Special Methods\n",
    "\n",
    "\n",
    "#### 1. Life cycle Methods.\n",
    "\n",
    "* These methods play special role in the life time of object\n",
    "* These include\n",
    "    * \\_\\_new\\_\\_\n",
    "        * allocates memory for the current object\n",
    "        * all class contains it\n",
    "        * we generally do not change this method\n",
    "        * can be changed in special use cases\n",
    "    \n",
    "    * \\_\\_init\\_\\_\n",
    "        * used for initialization of the object\n",
    "        * present by default\n",
    "        * most commonly we defined it in our class\n",
    "\n",
    "    * \\_\\_del\\_\\_\n",
    "        * called when object is being destroyed.\n",
    "        * useful to free up the unmanaged resources taken by the object\n",
    "            * open file\n",
    "            * network connection\n",
    "            * database connection\n",
    "\n",
    "        * it is called when object is destroyed\n",
    "            1. if we explcitly destory reference using **del** keyword\n",
    "            2. if object loses the last reference it has"
   ]
  },
  {
   "cell_type": "code",
   "execution_count": 4,
   "metadata": {},
   "outputs": [],
   "source": [
    "class Person:\n",
    "    def __new__(cls, name):\n",
    "        print(f'Person.__new__ called with {name}')\n",
    "        # let us use default __new__ to create object\n",
    "        return object.__new__(cls)\n",
    "    \n",
    "\n",
    "    def __init__(self, name):\n",
    "        self.name = name\n",
    "        print(f'Person.__init__ called with {name}')\n",
    "\n",
    "    def __del__(self) :\n",
    "        print(f'Person.__del__ called for {self.name}')\n",
    "        "
   ]
  },
  {
   "cell_type": "code",
   "execution_count": 6,
   "metadata": {},
   "outputs": [
    {
     "name": "stdout",
     "output_type": "stream",
     "text": [
      "Person.__new__ called with John\n",
      "Person.__init__ called with John\n"
     ]
    }
   ],
   "source": [
    "p1 = Person('John')"
   ]
  },
  {
   "cell_type": "code",
   "execution_count": 7,
   "metadata": {},
   "outputs": [
    {
     "name": "stdout",
     "output_type": "stream",
     "text": [
      "Person.__new__ called with Mary\n",
      "Person.__init__ called with Mary\n"
     ]
    }
   ],
   "source": [
    "p2= Person('Mary')"
   ]
  },
  {
   "cell_type": "code",
   "execution_count": 8,
   "metadata": {},
   "outputs": [],
   "source": [
    "### new or init is not called when we assign references\n",
    "p3=p2\n",
    "p4=p2"
   ]
  },
  {
   "cell_type": "markdown",
   "metadata": {},
   "source": [
    "#### we can delete an object by calling **del** on its only reference"
   ]
  },
  {
   "cell_type": "code",
   "execution_count": 9,
   "metadata": {},
   "outputs": [
    {
     "name": "stdout",
     "output_type": "stream",
     "text": [
      "Person.__del__ called for John\n"
     ]
    }
   ],
   "source": [
    "del(p1)"
   ]
  },
  {
   "cell_type": "markdown",
   "metadata": {},
   "source": [
    "### But person(\"Merry\") has three references p2,p3,p4\n",
    "\n",
    "* it will not be deleted till all reference is removed"
   ]
  },
  {
   "cell_type": "code",
   "execution_count": 10,
   "metadata": {},
   "outputs": [],
   "source": [
    "del p2\n",
    "#reference p2 is deleted.\n",
    "# but Person(\"Merry\") still has two more references"
   ]
  },
  {
   "cell_type": "code",
   "execution_count": 11,
   "metadata": {},
   "outputs": [
    {
     "ename": "NameError",
     "evalue": "name 'p2' is not defined",
     "output_type": "error",
     "traceback": [
      "\u001b[1;31m---------------------------------------------------------------------------\u001b[0m",
      "\u001b[1;31mNameError\u001b[0m                                 Traceback (most recent call last)",
      "Cell \u001b[1;32mIn[11], line 1\u001b[0m\n\u001b[1;32m----> 1\u001b[0m \u001b[38;5;28mprint\u001b[39m(\u001b[43mp2\u001b[49m)\n",
      "\u001b[1;31mNameError\u001b[0m: name 'p2' is not defined"
     ]
    }
   ],
   "source": [
    "print(p2)"
   ]
  },
  {
   "cell_type": "markdown",
   "metadata": {},
   "source": [
    "### we can remove reference by reassigning it another value"
   ]
  },
  {
   "cell_type": "code",
   "execution_count": 12,
   "metadata": {},
   "outputs": [],
   "source": [
    "p3=\"Hi\" \n",
    "\n",
    "#now Person(\"Merry\") has only one refernce left p4"
   ]
  },
  {
   "cell_type": "code",
   "execution_count": 13,
   "metadata": {},
   "outputs": [
    {
     "name": "stdout",
     "output_type": "stream",
     "text": [
      "Person.__del__ called for Mary\n"
     ]
    }
   ],
   "source": [
    "p4=None\n",
    "# now all refernces to Person(\"Merry\") is removed.\n",
    "# this object will be deleted using __del__() call\n"
   ]
  },
  {
   "cell_type": "markdown",
   "metadata": {},
   "source": [
    "### IMPORTANT\n",
    "\n",
    "* When an object \\_\\_del\\_\\_() is called, the object's life is over\n",
    "* But it may not be removed from the memory immediately\n",
    "* It will be removed when garbage collection takes place\n",
    "    * not sure when\n",
    "\n",
    "* \\_\\_del\\_\\_() is rarely used only for freeing unmanaged resources\n",
    "    * in c++ we use it to free memory\n",
    "    * in python we don't free memory"
   ]
  },
  {
   "cell_type": "markdown",
   "metadata": {},
   "source": [
    "### Conversion Functions\n",
    "\n",
    "* Python allows us to convert our object into different primary types\n",
    "* for each type we are expected to provide a special function\n",
    "* Example\n",
    "    * int(obj) -->  obj.\\_\\_int\\_\\_()\n",
    "        * not present by default\n",
    "    * bool(obj) --> obj.\\_\\_bool\\_()\n",
    "        * not present by default\n",
    "    * float(obj) --> obj.\\_\\_float\\_\\_()\n",
    "        * not present by default\n",
    "\n",
    "#### Most important converter \\_\\_str\\_\\_\n",
    "\n",
    "* It is present by default in all classes\n",
    "* It is automatically called when\n",
    "    * we try to print the object\n",
    "    * use it with f-string\n",
    "\n",
    "* can be invoked explictly\n",
    "\n"
   ]
  },
  {
   "cell_type": "code",
   "execution_count": 15,
   "metadata": {},
   "outputs": [],
   "source": [
    "class Person:\n",
    "    def __init__(self,name):\n",
    "        self.name = name"
   ]
  },
  {
   "cell_type": "code",
   "execution_count": 17,
   "metadata": {},
   "outputs": [
    {
     "name": "stdout",
     "output_type": "stream",
     "text": [
      "<__main__.Person object at 0x0000022ADBC6F230>\n",
      "<__main__.Person object at 0x0000022ADBC6F230>\n"
     ]
    }
   ],
   "source": [
    "\n",
    "\n",
    "p=Person('Vivek')\n",
    "\n",
    "print(p)\n",
    "#same as\n",
    "print(str(p))"
   ]
  },
  {
   "cell_type": "markdown",
   "metadata": {},
   "source": [
    "### This information supplied is not very useful\n",
    "\n",
    "* we can define our own **str** to return a more useful inforamation"
   ]
  },
  {
   "cell_type": "code",
   "execution_count": 18,
   "metadata": {},
   "outputs": [],
   "source": [
    "class Person:\n",
    "    def __init__(self,name):\n",
    "        self.name = name\n",
    "\n",
    "    def __str__(self):\n",
    "        return f'Person({self.name})'"
   ]
  },
  {
   "cell_type": "code",
   "execution_count": 19,
   "metadata": {},
   "outputs": [
    {
     "name": "stdout",
     "output_type": "stream",
     "text": [
      "Person(Vivek Dutta Mishra)\n"
     ]
    }
   ],
   "source": [
    "p=Person('Vivek Dutta Mishra')\n",
    "print(p)"
   ]
  },
  {
   "cell_type": "markdown",
   "metadata": {},
   "source": [
    "### There is no default int converter"
   ]
  },
  {
   "cell_type": "code",
   "execution_count": 20,
   "metadata": {},
   "outputs": [
    {
     "ename": "TypeError",
     "evalue": "int() argument must be a string, a bytes-like object or a real number, not 'Person'",
     "output_type": "error",
     "traceback": [
      "\u001b[1;31m---------------------------------------------------------------------------\u001b[0m",
      "\u001b[1;31mTypeError\u001b[0m                                 Traceback (most recent call last)",
      "Cell \u001b[1;32mIn[20], line 1\u001b[0m\n\u001b[1;32m----> 1\u001b[0m \u001b[38;5;28mprint\u001b[39m(\u001b[38;5;28;43mint\u001b[39;49m\u001b[43m(\u001b[49m\u001b[43mp\u001b[49m\u001b[43m)\u001b[49m)\n",
      "\u001b[1;31mTypeError\u001b[0m: int() argument must be a string, a bytes-like object or a real number, not 'Person'"
     ]
    }
   ],
   "source": [
    "print(int(p))"
   ]
  },
  {
   "cell_type": "markdown",
   "metadata": {},
   "source": [
    "### we may convert an object to int by defining special method\n",
    "\n"
   ]
  },
  {
   "cell_type": "code",
   "execution_count": 21,
   "metadata": {},
   "outputs": [],
   "source": [
    "def get_name_length(person):\n",
    "    return len(person.name)\n",
    "\n",
    "Person.__int__=get_name_length"
   ]
  },
  {
   "cell_type": "code",
   "execution_count": 23,
   "metadata": {},
   "outputs": [
    {
     "name": "stdout",
     "output_type": "stream",
     "text": [
      "18\n"
     ]
    }
   ],
   "source": [
    "print(int(p))"
   ]
  },
  {
   "cell_type": "markdown",
   "metadata": {},
   "source": []
  },
  {
   "cell_type": "code",
   "execution_count": null,
   "metadata": {},
   "outputs": [],
   "source": []
  }
 ],
 "metadata": {
  "kernelspec": {
   "display_name": "Python 3",
   "language": "python",
   "name": "python3"
  },
  "language_info": {
   "codemirror_mode": {
    "name": "ipython",
    "version": 3
   },
   "file_extension": ".py",
   "mimetype": "text/x-python",
   "name": "python",
   "nbconvert_exporter": "python",
   "pygments_lexer": "ipython3",
   "version": "3.12.1"
  }
 },
 "nbformat": 4,
 "nbformat_minor": 2
}
